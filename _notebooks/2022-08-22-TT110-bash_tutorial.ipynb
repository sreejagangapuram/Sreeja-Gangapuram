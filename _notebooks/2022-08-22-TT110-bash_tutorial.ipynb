{
 "cells": [
  {
   "cell_type": "markdown",
   "metadata": {},
   "source": [
    "# Bash Tutorial\n",
    "> A brief overview of Bash, on your way to becoming a Linux expert.  When a computer boots up, a kernel (MacOS, Windows, Linux) is started.  This kernel provides a shell that allows user to interact with a most basic set of commands.  Typically, the casual user will not interact with the shell as a Desktop User Interface is started by the computer boot up process.  To activate the shell directly, users will run a \"terminal\" through the Desktop, VS Code or activate \"console\" while on a cloud computer like AWS.\n",
    "\n",
    "- toc: true\n",
    "- comments: true\n",
    "- permalink: /techtalk/bash\n",
    "- image: /images/bash.jpeg\n",
    "- categories: [techtalk]"
   ]
  },
  {
   "cell_type": "markdown",
   "metadata": {},
   "source": [
    "## Prerequisites for Bash on Jupyter\n",
    "> Being able to find a Bash Reference.  Here is a [Bash Cheat Sheet](https://www.pcwdld.com/bash-cheat-sheet)\n",
    "\n",
    "> Install the Bash Kernel for Jupyter notebooks.  Expectations are pip3 and python3 are defined within the path.  The bash shell allowed construction of this tutorial.\n",
    "\n",
    "- pip install bash_kernel\n",
    "- python -m bash_kernel.install\n",
    "\n",
    "Selecting a kernel in \"code --project--\" or \"jupyter notebook --file.ipynb--\" that have bash in options.\n",
    "![](images/kernels.png)\n"
   ]
  },
  {
   "cell_type": "markdown",
   "metadata": {},
   "source": [
    "## Prerequisites for Project Directory\n",
    "> Practice pulling code from git to your machine. This will create a project directory and add APCSP github project to the directory.  There is conditional logic to make sure that directory and pull only happen if it does not (!) exist.\n",
    "\n",
    "- Hack: Change variables, make new directory, clone to that directory."
   ]
  },
  {
   "cell_type": "code",
   "execution_count": 1,
   "metadata": {
    "vscode": {
     "languageId": "shellscript"
    }
   },
   "outputs": [
    {
     "name": "stdout",
     "output_type": "stream",
     "text": [
      "Using conditional statement to create a project directory and project\n",
      "Directory /Users/SreejaGangapuram_1/vscode exists.\n",
      "Directory /Users/SreejaGangapuram_1/vscode/APCSP exists.\n"
     ]
    }
   ],
   "source": [
    "echo \"Using conditional statement to create a project directory and project\"\n",
    "\n",
    "# Variable section\n",
    "export project_dir=$HOME/vscode  # change vscode to different name to test git clone\n",
    "export project=$project_dir/APCSP  # change APCSP to name of project from git clone\n",
    "export project_repo=\"https://github.com/nighthawkcoders/APCSP.git\"  # change to project of choice\n",
    "\n",
    "cd ~    # start in home directory\n",
    "\n",
    "# Conditional block to make a project directory\n",
    "if [ ! -d $project_dir ]\n",
    "then \n",
    "    echo \"Directory $project_dir does not exists... makinng directory $project_dir\"\n",
    "    mkdir -p $project_dir\n",
    "fi\n",
    "echo \"Directory $project_dir exists.\" \n",
    "\n",
    "# Conditional block to git clone a project from project_repo\n",
    "if [ ! -d $project ]\n",
    "then\n",
    "    echo \"Directory $project does not exists... cloning $project_repo\"\n",
    "    cd $project_dir\n",
    "    git clone $project_repo\n",
    "    cd ~\n",
    "fi\n",
    "echo \"Directory $project exists.\" "
   ]
  },
  {
   "cell_type": "markdown",
   "metadata": {},
   "source": [
    "### Look inside Fastpages/Github page project\n",
    "> All computers contain files and directories.  The clone brought more files from cloud to your machine.  Using the bash shell you will see some commands that show and interact with files and directories.\n",
    "\n",
    "- \"ls\" lists computer files in Unix and Unix-like operating systems\n",
    "- \"cd\" offers way to navigate and change working directory\n",
    "- \"pwd\" print working directory\n",
    "- \"echo\" used to display line of text/string that are passed as an argument"
   ]
  },
  {
   "cell_type": "code",
   "execution_count": 2,
   "metadata": {
    "vscode": {
     "languageId": "shellscript"
    }
   },
   "outputs": [
    {
     "name": "stdout",
     "output_type": "stream",
     "text": [
      "Navigate to project, then navigate to area wwhere files were cloned\n",
      "/Users/SreejaGangapuram_1/vscode/APCSP\n",
      "\n",
      "list top level or root of files with project pulled from github\n",
      "Gemfile\t\t\t_includes\t\t_word\n",
      "LICENSE\t\t\t_layouts\t\tassets\n",
      "Makefile\t\t_notebooks\t\tdocker-compose.yml\n",
      "README.md\t\t_pages\t\t\timages\n",
      "_action_files\t\t_plugins\t\tindex.html\n",
      "_config.yml\t\t_posts\t\t\tpython\n",
      "_fastpages_docs\t\t_sass\n",
      "\n",
      "list again with hidden files pulled from github\n",
      ".\t\t\tMakefile\t\t_posts\n",
      "..\t\t\tREADME.md\t\t_sass\n",
      ".devcontainer.json\t_action_files\t\t_word\n",
      ".git\t\t\t_config.yml\t\tassets\n",
      ".gitattributes\t\t_fastpages_docs\t\tdocker-compose.yml\n",
      ".github\t\t\t_includes\t\timages\n",
      ".gitignore\t\t_layouts\t\tindex.html\n",
      ".vscode\t\t\t_notebooks\t\tpython\n",
      "Gemfile\t\t\t_pages\n",
      "LICENSE\t\t\t_plugins\n",
      "\n",
      "list all files in long format\n",
      "total 96\n",
      "drwxr-xr-x  28 SreejaGangapuram  staff    896 Aug 23 15:44 .\n",
      "drwxr-xr-x   4 SreejaGangapuram  staff    128 Aug 23 15:44 ..\n",
      "-rw-r--r--   1 SreejaGangapuram  staff    420 Aug 23 15:44 .devcontainer.json\n",
      "drwxr-xr-x  15 SreejaGangapuram  staff    480 Aug 25 22:40 .git\n",
      "-rw-r--r--   1 SreejaGangapuram  staff     84 Aug 23 15:44 .gitattributes\n",
      "drwxr-xr-x   4 SreejaGangapuram  staff    128 Aug 23 15:44 .github\n",
      "-rw-r--r--   1 SreejaGangapuram  staff    917 Aug 23 15:44 .gitignore\n",
      "drwxr-xr-x   3 SreejaGangapuram  staff     96 Aug 23 15:44 .vscode\n",
      "-rwxr-xr-x   1 SreejaGangapuram  staff   1304 Aug 23 15:44 Gemfile\n",
      "-rw-r--r--   1 SreejaGangapuram  staff  11351 Aug 23 15:44 LICENSE\n",
      "-rwxr-xr-x   1 SreejaGangapuram  staff   1422 Aug 23 15:44 Makefile\n",
      "-rwxr-xr-x   1 SreejaGangapuram  staff   3614 Aug 23 15:44 README.md\n",
      "drwxr-xr-x  18 SreejaGangapuram  staff    576 Aug 23 15:44 _action_files\n",
      "-rw-r--r--   1 SreejaGangapuram  staff   3716 Aug 23 15:44 _config.yml\n",
      "drwxr-xr-x  24 SreejaGangapuram  staff    768 Aug 23 15:44 _fastpages_docs\n",
      "drwxr-xr-x  29 SreejaGangapuram  staff    928 Aug 23 15:44 _includes\n",
      "drwxr-xr-x   6 SreejaGangapuram  staff    192 Aug 23 15:44 _layouts\n",
      "drwxr-xr-x  15 SreejaGangapuram  staff    480 Aug 28 23:19 _notebooks\n",
      "drwxr-xr-x   9 SreejaGangapuram  staff    288 Aug 23 15:44 _pages\n",
      "drwxr-xr-x   4 SreejaGangapuram  staff    128 Aug 23 15:44 _plugins\n",
      "drwxr-xr-x  29 SreejaGangapuram  staff    928 Aug 23 15:44 _posts\n",
      "drwxr-xr-x   3 SreejaGangapuram  staff     96 Aug 23 15:44 _sass\n",
      "drwxr-xr-x   3 SreejaGangapuram  staff     96 Aug 23 15:44 _word\n",
      "drwxr-xr-x   4 SreejaGangapuram  staff    128 Aug 23 15:44 assets\n",
      "-rwxr-xr-x   1 SreejaGangapuram  staff   1136 Aug 23 15:44 docker-compose.yml\n",
      "drwxr-xr-x  52 SreejaGangapuram  staff   1664 Aug 23 15:44 images\n",
      "-rw-r--r--   1 SreejaGangapuram  staff   1061 Aug 23 15:44 index.html\n",
      "drwxr-xr-x   3 SreejaGangapuram  staff     96 Aug 23 15:44 python\n"
     ]
    }
   ],
   "source": [
    "# You must run cells above to define variable and project\n",
    "\n",
    "echo \"Navigate to project, then navigate to area wwhere files were cloned\"\n",
    "cd $project\n",
    "pwd\n",
    "\n",
    "echo \"\"\n",
    "echo \"list top level or root of files with project pulled from github\"\n",
    "ls\n",
    "\n",
    "echo \"\"\n",
    "echo \"list again with hidden files pulled from github\"\n",
    "ls -a   # hidden files flag, many shell commands have flags\n",
    "\n",
    "echo \"\"\n",
    "echo \"list all files in long format\"\n",
    "ls -al   # all files and long listing"
   ]
  },
  {
   "cell_type": "code",
   "execution_count": null,
   "metadata": {
    "vscode": {
     "languageId": "shellscript"
    }
   },
   "outputs": [],
   "source": [
    "# You must run cells above to define variable and project\n",
    "\n",
    "echo \"Look for posts\"\n",
    "export posts=$project/_posts  # _posts inside project\n",
    "cd $posts  # this should exist per fastpages\n",
    "pwd  # present working directory\n",
    "ls -l  # list posts"
   ]
  },
  {
   "cell_type": "code",
   "execution_count": null,
   "metadata": {
    "vscode": {
     "languageId": "shellscript"
    }
   },
   "outputs": [],
   "source": [
    "# You must run cells above to define variable and project\n",
    "\n",
    "echo \"Look for notebooks\"\n",
    "export notebooks=$project/_notebooks  # _notebooks is inside project\n",
    "cd $notebooks   # this should exist per fastpages\n",
    "pwd  # present working directory\n",
    "ls -l  # list notebooks"
   ]
  },
  {
   "cell_type": "code",
   "execution_count": null,
   "metadata": {
    "vscode": {
     "languageId": "shellscript"
    }
   },
   "outputs": [],
   "source": [
    "# You must run cells above to define notebooks location\n",
    "\n",
    "echo \"Look for images in notebooks, print working directory, list files\"\n",
    "cd $notebooks/images  # this should exist per fastpages\n",
    "pwd\n",
    "ls -l"
   ]
  },
  {
   "cell_type": "markdown",
   "metadata": {},
   "source": [
    "### Look inside a Markdown File\n",
    "> \"cat\" reads data from the file and gives its content as output"
   ]
  },
  {
   "cell_type": "code",
   "execution_count": null,
   "metadata": {
    "vscode": {
     "languageId": "shellscript"
    }
   },
   "outputs": [],
   "source": [
    "# You must run cells above to define project\n",
    "echo \"Navigate to project, then navigate to area wwhere files were cloned\"\n",
    "\n",
    "cd $project\n",
    "echo \"show the contents of README.md\"\n",
    "echo \"\"\n",
    "\n",
    "cat README.md  # show contents of file, in this case markdown\n",
    "echo \"\"\n",
    "echo \"end of README.md\"\n"
   ]
  },
  {
   "cell_type": "markdown",
   "metadata": {},
   "source": [
    "### Env, Git and GitHub\n",
    "> Env(ironment) is used to capture things like path to Code or Home directory.  Git and GitHub is NOT Only used to exchange code between individuals, it is often used to exchange code through servers, in our case deployment for Website.   All tools we use have a behind the scenes hav relationship with the system they run on (MacOS, Windows, Linus) or a relationship with servers which they are connected to (ie GitHub).  There is an \"env\" command in bash.  There are environment files and setting files (.git/config) for Git.  They both use a key/value concept.\n",
    "\n",
    "- \"env\" show setting for your shell\n",
    "- \"git clone\" sets up a director of files\n",
    "- \"cd $project\" allows user to move inside that directory of files\n",
    "- \".git\" is a hidden directory that is used by git to establish relationship between machine and the git server on GitHub.  "
   ]
  },
  {
   "cell_type": "code",
   "execution_count": null,
   "metadata": {
    "vscode": {
     "languageId": "shellscript"
    }
   },
   "outputs": [],
   "source": [
    "# This command has no dependencies\n",
    "\n",
    "echo \"Show the shell environment variables, key on left of equal value on right\"\n",
    "echo \"\"\n",
    "\n",
    "env"
   ]
  },
  {
   "cell_type": "code",
   "execution_count": null,
   "metadata": {
    "vscode": {
     "languageId": "shellscript"
    }
   },
   "outputs": [],
   "source": [
    "# This command has dependencies on project\n",
    "\n",
    "cd $project\n",
    "\n",
    "echo \"\"\n",
    "echo \"show the secrets of .git\"\n",
    "cd .git\n",
    "ls -l\n",
    "\n",
    "echo \"\"\n",
    "echo \"look at config file\"\n",
    "cat config"
   ]
  },
  {
   "cell_type": "markdown",
   "metadata": {},
   "source": [
    "## Hacks\n",
    "> Go back to some of the deployment procedures and think about some thing you could verify through Bash notebook.\n",
    "\n",
    "- Is there anything we use to verify tools we install? Think about versions.\n",
    "- Is there anything we could verify with Anaconda?\n",
    "- How would you update a repository?\n",
    "- Really cool would be automating a procedure from installation.\n"
   ]
  }
 ],
 "metadata": {
  "kernelspec": {
   "display_name": "Bash",
   "language": "bash",
   "name": "bash"
  },
  "language_info": {
   "codemirror_mode": "shell",
   "file_extension": ".sh",
   "mimetype": "text/x-sh",
   "name": "bash"
  },
  "orig_nbformat": 4,
  "vscode": {
   "interpreter": {
    "hash": "aee8b7b246df8f9039afb4144a1f6fd8d2ca17a180786b69acc140d282b71a49"
   }
  }
 },
 "nbformat": 4,
 "nbformat_minor": 2
}
