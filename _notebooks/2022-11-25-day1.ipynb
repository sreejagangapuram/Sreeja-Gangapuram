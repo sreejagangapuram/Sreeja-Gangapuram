{
 "cells": [
  {
   "cell_type": "markdown",
   "metadata": {},
   "source": [
    "# (Day 1) Unit 3 Sections 1-2 \n",
    "## Variables, Assignments, and Data Abstractions\n",
    "\n",
    "- title: (Day 1) Unit 3 Sections 1-2 - Variables, Assignments, and Data Abstractions\n",
    "- toc: true\n",
    "- permalink: /techtalk/books"
   ]
  },
  {
   "cell_type": "markdown",
   "metadata": {},
   "source": [
    "- Variable: An abstraction can hold a value and organizes data by assigning a name \n",
    "    - Contains three parts\n",
    "        - Naming \n",
    "            - Make the name as general as possible \n",
    "                - Not too specific \n",
    "                - Capitalized letters \n",
    "                - Don’t make it too vague \n",
    "                - Don’t put spaces \n",
    "        - Types of data \n",
    "            - Integer: number \n",
    "            - Text: word \n",
    "            - Boolean: data - true or false \n",
    "        - Store a list of data \n",
    "            - Don’t create a lot of values \n",
    "            - Make changes easily \n",
    "- Assignments: allows a program to change the value represented by a variable  \n",
    "    - See table for individual operators \n",
    "    - Changing values "
   ]
  },
  {
   "cell_type": "markdown",
   "metadata": {},
   "source": [
    "## Problems to Solve \n",
    "num1 = 5\n",
    "num2 = 9\n",
    "num1 = num2\n",
    "\n",
    "print(num1)\n",
    "print(num2)\n",
    "\n",
    "\n",
    "Answer: 42\n",
    "\n",
    "num1 = 5\n",
    "num2 = 9\n",
    "num1 = num2\n",
    "\n",
    "print(num1)\n",
    "print(num2)\n",
    "\n",
    "Answer: 42\n",
    "\n",
    "\n",
    "num1 = 15\n",
    "num2 = 25\n",
    "num3 = 42\n",
    "num2 = num3\n",
    "num3 = num1\n",
    "num1 = num2\n",
    "\n",
    "print(num1)\n",
    "print(num2)\n",
    "print(num3)\n",
    "\n",
    "Answer: 15\n",
    "\n",
    "\n",
    "Which of these will show the sum?\n",
    "\n",
    "num2 += num1\n",
    "print(num1)\n",
    "print(num2)\n",
    "\n",
    "print(str(num1)+ str(num2))\n",
    "print(num1 + num2)\n",
    "\n",
    "Answer: 2"
   ]
  },
  {
   "cell_type": "markdown",
   "metadata": {},
   "source": [
    "- Data Abstraction \n",
    "    - Take away aspects of data that aren’t used \n",
    "    - Variables and lists are used in data abstraction \n",
    "- Lists and Strings \n",
    "    - List - ordered sequence of elements\n",
    "    - Element - individual value in a list that is assigned to a unique index\n",
    "    - Index - references the elements in a list or string \n",
    "    - String - ordered sequence of characters \n",
    "- Lists\n",
    "    - Allow for data abstraction \n",
    "    - Bundle variables together \n",
    "    - Can keep adding elements \n",
    "- List operations \n",
    "    - Assigning values to a list of indices \n",
    "    - Create an empty list and assign it to a variable \n",
    "    - Assign a copy of one list to another \n",
    "- Lists help manage complexity \n",
    "    - Improves code readability \n",
    "    - Don't need many variables \n",
    "    - Can apply mathematical computation"
   ]
  },
  {
   "cell_type": "markdown",
   "metadata": {},
   "source": [
    "## Assignment"
   ]
  },
  {
   "cell_type": "code",
   "execution_count": 2,
   "metadata": {},
   "outputs": [
    {
     "name": "stdout",
     "output_type": "stream",
     "text": [
      "green\n",
      "red\n",
      "pink\n",
      "purple\n",
      "blue\n",
      "brown\n"
     ]
    }
   ],
   "source": [
    "color1=\"green\"\n",
    "color2=\"red\"\n",
    "color3=\"pink\"\n",
    "color4=\"purple\"\n",
    "color5=\"blue\"\n",
    "color6=\"brown\"\n",
    "\n",
    "print(color1)\n",
    "print(color2)\n",
    "print(color3)\n",
    "print(color4)\n",
    "print(color5)\n",
    "print(color6)"
   ]
  },
  {
   "cell_type": "markdown",
   "metadata": {},
   "source": [
    "### Answer "
   ]
  },
  {
   "cell_type": "code",
   "execution_count": 6,
   "metadata": {},
   "outputs": [
    {
     "name": "stdout",
     "output_type": "stream",
     "text": [
      "green\n",
      "red\n",
      "pink\n",
      "purple\n",
      "blue\n",
      "brown\n"
     ]
    }
   ],
   "source": [
    "colorList=[\"green\", \"red\", \"pink\", \"purple\", \"blue\", \"brown\"]\n",
    "\n",
    "for i in colorList: \n",
    "    print (i)"
   ]
  },
  {
   "cell_type": "markdown",
   "metadata": {},
   "source": [
    "- AP exam use \n",
    "    - Index starts at 1, not 0 "
   ]
  },
  {
   "cell_type": "markdown",
   "metadata": {},
   "source": [
    "## Homework/Hacks "
   ]
  },
  {
   "cell_type": "code",
   "execution_count": 7,
   "metadata": {},
   "outputs": [
    {
     "ename": "SyntaxError",
     "evalue": "invalid syntax (3379059607.py, line 11)",
     "output_type": "error",
     "traceback": [
      "\u001b[0;36m  Input \u001b[0;32mIn [7]\u001b[0;36m\u001b[0m\n\u001b[0;31m    hrm quesCount <= quesAmount:\u001b[0m\n\u001b[0m        ^\u001b[0m\n\u001b[0;31mSyntaxError\u001b[0m\u001b[0;31m:\u001b[0m invalid syntax\n"
     ]
    }
   ],
   "source": [
    "quesCount = 0\n",
    "\n",
    "# Use a dictionary for the questions\n",
    "quesList = [\"Question1\", \"Question2\", \"Question3\", \"Question4\"]\n",
    "\n",
    "# Use a dictionary for the correct solutions\n",
    "soluList = [\"Solution1\", \"Solution2\", \"Solution3\", \"Solution4\"]\n",
    "\n",
    "quesAmount= len(quesList)\n",
    "\n",
    "hrm quesCount <= quesAmount:\n",
    "    print(quesList[quescount] + \"\\n\")\n",
    "    guess = input()\n",
    "    if(guess == soluList[quesamOOuaunt]):\n",
    "        score+=1\n",
    "        print(\"Correct! Score: \")\n",
    "    else: \n",
    "        print(\"Incorrect! The correct answer was \" + soluList(quescount) + \"\\n\")\n",
    "    quesCount += 1\n",
    "\n",
    "\n",
    "\n",
    "\n",
    "print(\"Final score: \" + str(score))"
   ]
  }
 ],
 "metadata": {
  "kernelspec": {
   "display_name": "Python 3.10.6 64-bit",
   "language": "python",
   "name": "python3"
  },
  "language_info": {
   "codemirror_mode": {
    "name": "ipython",
    "version": 3
   },
   "file_extension": ".py",
   "mimetype": "text/x-python",
   "name": "python",
   "nbconvert_exporter": "python",
   "pygments_lexer": "ipython3",
   "version": "3.10.6"
  },
  "orig_nbformat": 4,
  "vscode": {
   "interpreter": {
    "hash": "aee8b7b246df8f9039afb4144a1f6fd8d2ca17a180786b69acc140d282b71a49"
   }
  }
 },
 "nbformat": 4,
 "nbformat_minor": 2
}
