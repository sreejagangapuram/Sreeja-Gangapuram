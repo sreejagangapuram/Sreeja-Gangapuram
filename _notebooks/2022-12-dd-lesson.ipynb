{
 "cells": [
  {
   "attachments": {},
   "cell_type": "markdown",
   "metadata": {},
   "source": [
    "# (Last Day) Unit 3 Sections 17 and 18 Lesson\n",
    "> Algorithmic Efficiency and Undecidable Problems\n",
    "\n",
    "- title: (Last Day) Unit 3 Sections 17-18\n",
    "- toc: true\n",
    "- badges: false\n",
    "- categories: [lessons]\n",
    "- permalink: /lesson"
   ]
  },
  {
   "attachments": {},
   "cell_type": "markdown",
   "metadata": {},
   "source": [
    "# Do Now!!!\n",
    "\n",
    "- Set up your notebook by either wgetting the lesson or tracking it by your own (We would recommend wgetting since there are some fill in the blanks!)\n",
    "- **wget here:** https://raw.githubusercontent.com/mmaxwu/Tri2-GroupFastpages/master/_notebooks/2022-12-dd-lesson.ipynb"
   ]
  },
  {
   "attachments": {},
   "cell_type": "markdown",
   "metadata": {},
   "source": [
    "## 3.17: Algorithm Efficiency\n",
    "Purpose:\n",
    "\n",
    "The purpose of this lesson is to help students understand how to make an efficient program and optimize it and understand its importance to the CSP curriculum.\n",
    "\n",
    "### What is Algorithmic Efficiency?\n",
    "- The ability of an algorithm to solve a problem in an efficient way\n",
    " - An efficient algorithm solves a problem **quickly** and with a **minimum amount of reasources**, such as time and memory.\n",
    "- How do we determine if an algorithm is efficient or not?\n",
    " - One way we can do this is by determining the **time complexity** of the algorithm.\n",
    " - Another way is through **space complexity**. \n"
   ]
  },
  {
   "attachments": {},
   "cell_type": "markdown",
   "metadata": {},
   "source": [
    "## Traveling Merchant Problem Hacks:\n",
    "What did you and your team discuss? (record below)\n",
    "**My team discussed that we can go to chicago first, and then go around the permimeter. Hitting all of the citites and going back to Indianapolis.**\n",
    "\n",
    "- An **heuristic** solution is **an approach to a problem** that produces a solution that isn't necessarily **optimal** but can be used when normal methods take forever \n",
    "\n",
    "Describe the method used to solve the traveling merchant problem. (record below)\n",
    "**Frist go to cincinnati, then Louisville, Chincago, Detriot to Columbus, and then Columbus to Indianapolis. Each time go to the city with the shortest distance.**"
   ]
  },
  {
   "attachments": {},
   "cell_type": "markdown",
   "metadata": {},
   "source": [
    "## 3.18: Undecidable Problems\n",
    "Purpose:\n",
    "\n",
    "The purpose of this lesson is to introduce students to the concept of undecidable problems in computer science and to explain why these problems are important.\n",
    "\n",
    "**Key vocabulary**:\n",
    "- Decision problem\n",
    "- Decidable problem\n",
    "- Undecidable problem\n",
    "\n",
    "### Decision Problem\n",
    ">A decision problem is a problem in computer science and mathematics that can be solved by a yes-no answer, also known as a binary answer. In other words, a decision problem is a problem for which there are only two possible outputs: \"yes\" or \"no\".\n",
    "\n",
    "There are two types of decision problems that Collegeboard goes over:\n",
    "- Decidable Problems\n",
    "- Undecidable Problems\n",
    "\n",
    ">A **decidable problem** is a problem in computer science and mathematics for which an algorithm can be created that can always produce a correct answer or solution. In other words, a decidable problem is a problem for which there exists an algorithm that can be used to determine whether a given input is a valid solution or not.\n",
    "\n",
    ">An **undecidable problem** problem is a problem in computer science and mathematics for which it is impossible to create an algorithm that can always provide a correct answer or solution. This means that it is not possible for an algorithm to always determine whether a given input is a valid solution to an undecidable problem."
   ]
  },
  {
   "attachments": {},
   "cell_type": "markdown",
   "metadata": {},
   "source": [
    "## Decidable Problems\n",
    "A decidable problem is an algorithm that can always have an output of `yes` or `no` given any input. It is always correct."
   ]
  },
  {
   "attachments": {},
   "cell_type": "markdown",
   "metadata": {},
   "source": [
    "### Example of a Decidable Problem\n",
    "The procedure below tests to see if a number is divisible by 13. If it is, it returns `true`. If it isn't, it returns `false`."
   ]
  },
  {
   "cell_type": "code",
   "execution_count": 1,
   "metadata": {},
   "outputs": [
    {
     "name": "stdout",
     "output_type": "stream",
     "text": [
      "True\n",
      "False\n"
     ]
    }
   ],
   "source": [
    "def divideThirteen(number):\n",
    "    if number % 13 == 0:\n",
    "        return True\n",
    "    else:\n",
    "        return False\n",
    "\n",
    "print(divideThirteen(26))\n",
    "print(divideThirteen(30))"
   ]
  },
  {
   "attachments": {},
   "cell_type": "markdown",
   "metadata": {},
   "source": [
    "## Undecidable Problems"
   ]
  },
  {
   "attachments": {},
   "cell_type": "markdown",
   "metadata": {},
   "source": [
    "### An Example of a Forever Running Code\n",
    "The code keeps adding `1` to the variable `number` until `number` is no longer an integer(This is not the python data type \"integer\", it's the integer in number theory). However, there is no end to this code, making the computer run forever. There is no halt to the code."
   ]
  },
  {
   "cell_type": "code",
   "execution_count": null,
   "metadata": {},
   "outputs": [],
   "source": [
    "i = 0\n",
    "number = 1\n",
    "def integerTest(n):\n",
    "    # Testing if the number is an integer\n",
    "    if n%1 ==0:\n",
    "        return True\n",
    "    else:\n",
    "        return False\n",
    "# Using while loop to keep searching an a non-integer above 1. Note that the computer runs forever.\n",
    "while i == 0:\n",
    "    number += 1\n",
    "    if integerTest(number) == False:\n",
    "        i +=1\n",
    "        print(\"Done\")"
   ]
  },
  {
   "cell_type": "markdown",
   "metadata": {},
   "source": [
    "**NOTE**: no output. "
   ]
  },
  {
   "attachments": {},
   "cell_type": "markdown",
   "metadata": {},
   "source": [
    "### The Halting Problem\n",
    "The halting problem is an example of an **undecidable**. It states that it is not always possible to correctly determine whether a code halts or runs forever.\n",
    "> There is **no way** to write an algorithm to analyze and determine whether a body of code can run forever or not."
   ]
  },
  {
   "attachments": {},
   "cell_type": "markdown",
   "metadata": {},
   "source": [
    "### Halting Problem Example:\n",
    "- In order to understand this, suppose that an algorithm was able to analyze whether a code halts or not. Let's call this algorithm `HaltChecker`.\n",
    "- `HaltChecker` analyzes the program,`program P`, and its input,`input I`. If `program P` halts with `input I`, `HaltChecker` returns an output of \"halts\". If `program P` doesn't halt(runs forever) with `input I`, `HaltChecker` returns an output of \"never\". For example, in the code where it tests if variable **number**, the **code runs forever**, so `HaltChecker` returns an output of **\"never\"**.\n",
    "- Then, we add another algorithm called `Reverser` which reverses `HaltChecker`'s output. So, if \"never\" is the output of `HaltChecker`, then the output of `Reverser` is **\"halts\"**. It's also the same the other way around: if `HaltChecker` has an output of \"halts\", then `Reverser` has an output of **\"never\"**.\n",
    "- We combine these algorithms into one entire body of code.\n",
    "- **Since `Reverser` is the algorithm at the end, hence giving the ultimate output, notice how it prints \"never\" when in fact there is an end(As proved by `HaltChecker`), and how it also prints \"halts\" when there is in fact is no end to the code(Also proved by `HaltChecker`). As a result, `HaltChecker` is inaccurate and this is an undecidable problem.**\n",
    "\n",
    "#### This Diagram Sums up the Entire Process in the Bulleted List:\n",
    "![reverser](https://github.com/mmaxwu/Tri2-GroupFastpages/blob/master/images/reverser.png?raw=true)\n",
    "\n",
    "Credits of diagram and example to Khan Academy"
   ]
  },
  {
   "attachments": {},
   "cell_type": "markdown",
   "metadata": {},
   "source": [
    "### FAQ\n",
    "- **Q**: If `Reverser` is causing the problem, why not remove it?\n",
    "- **A**: Removing `Reverser` will remove the problems, however, we are looking for ways which create the problem of not outputting a correct result. One example is enough to prove that it is an undecidable problem since it proves that the code is not completely accurate.\n",
    "\n",
    "### Extra Things to Notice\n",
    "- Note that while a computer may take a long time to run a section of code, it does not mean that the computer is going to run forever.\n",
    "- Humans are able to solve some undecidable problems. The entire Halting Problem example was to prove that computers cannot solve undecidable problems."
   ]
  },
  {
   "attachments": {},
   "cell_type": "markdown",
   "metadata": {},
   "source": [
    "## Hacks\n",
    "Come up with one situation in which a computer runs into an undecidable problem. Explain why it is considered an undecidable problem."
   ]
  },
  {
   "cell_type": "markdown",
   "metadata": {},
   "source": [
    "**One situation where the computer runs into an undecidable problem \"is divde by 0.\"**"
   ]
  },
  {
   "attachments": {},
   "cell_type": "markdown",
   "metadata": {},
   "source": [
    "## 3.17 Homework \n",
    "Your homework for Algorithmic Efficiency is pretty simple.\n",
    "1. Use the 1st code below and graph it (Desmos, TI Inpire Cas, e.t.c), change the x value only!\n",
    "2. Label the number of loops done as x and the time (microseconds) to find the index as y\n",
    "3. Connect the points \n",
    "4. Do the same thing with the 2nd code\n",
    "5. Compare the two graphs and explain which one of the two is more efficient and why (min. 2 sentences)\n",
    "6. Insert images of the graph either in your blog or on review ticket"
   ]
  },
  {
   "cell_type": "code",
   "execution_count": 5,
   "metadata": {},
   "outputs": [
    {
     "name": "stdout",
     "output_type": "stream",
     "text": [
      "Found element after 500 loops in 24 microseconds\n",
      "Your number was found at 499\n"
     ]
    }
   ],
   "source": [
    "import time\n",
    "\n",
    "def linear_search(lst, x):\n",
    "    start_time = time.perf_counter_ns() # records time (nanoseconds)\n",
    "    for i in range(len(lst)): # loops through the entire list \n",
    "\n",
    "        if lst[i] == x: # until the x value we are looking for is found\n",
    "            end_time = time.perf_counter_ns() # records time again\n",
    "            total_time = (end_time - start_time) // 1000 # subtracts last recorded time and first recorded time\n",
    "            print(\"Found element after {} loops in {} microseconds\".format(i+1, total_time)) # prints the results\n",
    "            return print(\"Your number was found at\", i)\n",
    "            \n",
    "    end_time = time.perf_counter_ns() # records the time again\n",
    "    total_time = (end_time - start_time) // 1000 # subtracts last recorded time and first recorded time\n",
    "    print(\"Element not found after {} loops in {} microseconds\".format(len(lst), total_time)) # prints the results\n",
    "    return \"Your number wasn't found :(\"\n",
    "\n",
    "\n",
    "lst = list(range(1, 10001)) # list with numbers 1-10000\n",
    "\n",
    "x = 500 # replace with an integer between 1 and 10000 (I suggest big numbers like 500, 2000, so on)\n",
    "\n",
    "linear_search(lst, x) # runs procedure"
   ]
  },
  {
   "cell_type": "code",
   "execution_count": null,
   "metadata": {},
   "outputs": [],
   "source": [
    "import time \n",
    "\n",
    "def binary_search(lt, x):\n",
    "    start_time = time.perf_counter_ns() # starts timer\n",
    "    low = 0 # sets the lower side \n",
    "    mid = 0 # sets mid value\n",
    "    high = len(lt) -1 # sets the higher side\n",
    "    num_loops = 0 # number of loops the search undergoes to find the x value\n",
    "\n",
    "    while low<=high: # Loop ran until mid is reached\n",
    "        num_loops += 1 # adds one loop each time process is repeated\n",
    "        mid = (low + high) // 2 # takes the lowest and highest possible numbers and divides by 2 and rounds to closest whole #\n",
    "\n",
    "        if lt[mid] == x:\n",
    "            end_time = time.perf_counter_ns() # records time\n",
    "            total_time = (end_time - start_time) // 1000 # time in microseconds\n",
    "            print(\"Element found after {} loops in {} microseconds\".format(num_loops, total_time)) # prints the results\n",
    "            return mid # returns the index value\n",
    "\n",
    "        elif lt[mid] > x: # if mid was higher than x value, then sets new highest value as mid -1 \n",
    "            high = mid -1 \n",
    "\n",
    "        elif lt[mid] < x:\n",
    "            low = mid + 1 # if mid was lower than x, sets the new low as mid + 1\n",
    "            \n",
    "    end_time = time.perf_counter_ns()\n",
    "    total_time = (end_time - start_time) // 1000 \n",
    "    print(\"Element not found after {} loops in {} microseconds\".format(num_loops, total_time)) # prints the results\n",
    "    return \"Your number wasn't found :(\"\n",
    "\n",
    "\n",
    "lt = list(range(1, 10001)) # list with numbers 1-10000\n",
    "\n",
    "x = 149 # replace with an integer between 1 and 10000 (I suggest big numbers like 500, 2000, so on)\n",
    "\n",
    "binary_search(lt, x) # runs procedure"
   ]
  },
  {
   "attachments": {},
   "cell_type": "markdown",
   "metadata": {},
   "source": [
    "## 3.18 Homework:\n",
    "\n",
    "1. Use the Jupyter notebook to write an algorithm that solves a decidable problem. You can use math or whatever else you would like to do.\n",
    "2. Write code to get the computer to run forever. Check [this example](https://mmaxwu.github.io/Tri2-GroupFastpages/lesson#An-Example-of-a-Forever-Running-Code) if you need help, but please come up with your own idea.\n",
    "\n",
    "##### Homeworks, hacks, and classwork(filled in blanks) for both 3.17 and 3.18 are due on Thursday at 9:00 pm. -0.1 points for each day late."
   ]
  },
  {
   "cell_type": "markdown",
   "metadata": {},
   "source": [
    "# **<mark>Algorithm That Solves A Decidable Problem</mark>** "
   ]
  },
  {
   "cell_type": "code",
   "execution_count": 9,
   "metadata": {},
   "outputs": [
    {
     "name": "stdout",
     "output_type": "stream",
     "text": [
      "2 is a prime number\n",
      "True\n",
      "5 is a prime number\n",
      "True\n",
      "10 is not a prime number\n",
      "False\n"
     ]
    }
   ],
   "source": [
    "def isPrime(number):\n",
    "    if number == 2:\n",
    "        print(number, \"is a prime number\")\n",
    "        return True\n",
    "\n",
    "    if number < 1:\n",
    "        print(number, \"is not a prime number\") \n",
    "        return False\n",
    "\n",
    "    else:  \n",
    "    # If the number is not divisible by any number between  2 and n / 2 it is prime number\n",
    "\n",
    "        for i in range(2, int(number/2)+1):\n",
    "       \n",
    "            if (number % i) == 0:\n",
    "                print(number, \"is not a prime number\")\n",
    "                return False\n",
    "            else:\n",
    "                print(number, \"is a prime number\")\n",
    "                return True\n",
    "\n",
    "print(isPrime(2))\n",
    "print(isPrime(5))\n",
    "print(isPrime(10))"
   ]
  },
  {
   "cell_type": "markdown",
   "metadata": {},
   "source": [
    "# **<mark>Running Forever</mark>** "
   ]
  },
  {
   "cell_type": "code",
   "execution_count": 11,
   "metadata": {},
   "outputs": [
    {
     "name": "stdout",
     "output_type": "stream",
     "text": [
      "Your favorite color is,  yellow\n",
      "Your favorite color is,  pink\n",
      "Your favorite color is,  blue\n",
      "Your favorite color is,  blsck\n",
      "Your favorite color is,  white\n",
      "Your favorite color is,  red\n",
      "Your favorite color is,  indigo\n",
      "Your favorite color is,  purple\n",
      "Your favorite color is,  grey\n",
      "Your favorite color is,  rainbow\n",
      "Your favorite color is,  violet\n",
      "Your favorite color is,  \n",
      "Your favorite color is,  \n",
      "Your favorite color is,  \n",
      "Your favorite color is,  \n",
      "Your favorite color is,  \n",
      "Your favorite color is,  \n"
     ]
    },
    {
     "ename": "KeyboardInterrupt",
     "evalue": "Interrupted by user",
     "output_type": "error",
     "traceback": [
      "\u001b[0;31m---------------------------------------------------------------------------\u001b[0m",
      "\u001b[0;31mKeyboardInterrupt\u001b[0m                         Traceback (most recent call last)",
      "\u001b[1;32m/Users/SreejaGangapuram_1/vscode/Sreeja-Gangapuram/_notebooks/2022-12-dd-lesson.ipynb Cell 29\u001b[0m in \u001b[0;36m<cell line: 6>\u001b[0;34m()\u001b[0m\n\u001b[1;32m      <a href='vscode-notebook-cell:/Users/SreejaGangapuram_1/vscode/Sreeja-Gangapuram/_notebooks/2022-12-dd-lesson.ipynb#X40sZmlsZQ%3D%3D?line=2'>3</a>\u001b[0m     \u001b[39mprint\u001b[39m(\u001b[39m'\u001b[39m\u001b[39mYour favorite color is, \u001b[39m\u001b[39m'\u001b[39m, color)\n\u001b[1;32m      <a href='vscode-notebook-cell:/Users/SreejaGangapuram_1/vscode/Sreeja-Gangapuram/_notebooks/2022-12-dd-lesson.ipynb#X40sZmlsZQ%3D%3D?line=3'>4</a>\u001b[0m     runInfinitely()\n\u001b[0;32m----> <a href='vscode-notebook-cell:/Users/SreejaGangapuram_1/vscode/Sreeja-Gangapuram/_notebooks/2022-12-dd-lesson.ipynb#X40sZmlsZQ%3D%3D?line=5'>6</a>\u001b[0m runInfinitely()\n",
      "\u001b[1;32m/Users/SreejaGangapuram_1/vscode/Sreeja-Gangapuram/_notebooks/2022-12-dd-lesson.ipynb Cell 29\u001b[0m in \u001b[0;36mrunInfinitely\u001b[0;34m()\u001b[0m\n\u001b[1;32m      <a href='vscode-notebook-cell:/Users/SreejaGangapuram_1/vscode/Sreeja-Gangapuram/_notebooks/2022-12-dd-lesson.ipynb#X40sZmlsZQ%3D%3D?line=1'>2</a>\u001b[0m color \u001b[39m=\u001b[39m \u001b[39minput\u001b[39m(\u001b[39m'\u001b[39m\u001b[39mEnter you fav color\u001b[39m\u001b[39m'\u001b[39m)\n\u001b[1;32m      <a href='vscode-notebook-cell:/Users/SreejaGangapuram_1/vscode/Sreeja-Gangapuram/_notebooks/2022-12-dd-lesson.ipynb#X40sZmlsZQ%3D%3D?line=2'>3</a>\u001b[0m \u001b[39mprint\u001b[39m(\u001b[39m'\u001b[39m\u001b[39mYour favorite color is, \u001b[39m\u001b[39m'\u001b[39m, color)\n\u001b[0;32m----> <a href='vscode-notebook-cell:/Users/SreejaGangapuram_1/vscode/Sreeja-Gangapuram/_notebooks/2022-12-dd-lesson.ipynb#X40sZmlsZQ%3D%3D?line=3'>4</a>\u001b[0m runInfinitely()\n",
      "\u001b[1;32m/Users/SreejaGangapuram_1/vscode/Sreeja-Gangapuram/_notebooks/2022-12-dd-lesson.ipynb Cell 29\u001b[0m in \u001b[0;36mrunInfinitely\u001b[0;34m()\u001b[0m\n\u001b[1;32m      <a href='vscode-notebook-cell:/Users/SreejaGangapuram_1/vscode/Sreeja-Gangapuram/_notebooks/2022-12-dd-lesson.ipynb#X40sZmlsZQ%3D%3D?line=1'>2</a>\u001b[0m color \u001b[39m=\u001b[39m \u001b[39minput\u001b[39m(\u001b[39m'\u001b[39m\u001b[39mEnter you fav color\u001b[39m\u001b[39m'\u001b[39m)\n\u001b[1;32m      <a href='vscode-notebook-cell:/Users/SreejaGangapuram_1/vscode/Sreeja-Gangapuram/_notebooks/2022-12-dd-lesson.ipynb#X40sZmlsZQ%3D%3D?line=2'>3</a>\u001b[0m \u001b[39mprint\u001b[39m(\u001b[39m'\u001b[39m\u001b[39mYour favorite color is, \u001b[39m\u001b[39m'\u001b[39m, color)\n\u001b[0;32m----> <a href='vscode-notebook-cell:/Users/SreejaGangapuram_1/vscode/Sreeja-Gangapuram/_notebooks/2022-12-dd-lesson.ipynb#X40sZmlsZQ%3D%3D?line=3'>4</a>\u001b[0m runInfinitely()\n",
      "    \u001b[0;31m[... skipping similar frames: runInfinitely at line 4 (14 times)]\u001b[0m\n",
      "\u001b[1;32m/Users/SreejaGangapuram_1/vscode/Sreeja-Gangapuram/_notebooks/2022-12-dd-lesson.ipynb Cell 29\u001b[0m in \u001b[0;36mrunInfinitely\u001b[0;34m()\u001b[0m\n\u001b[1;32m      <a href='vscode-notebook-cell:/Users/SreejaGangapuram_1/vscode/Sreeja-Gangapuram/_notebooks/2022-12-dd-lesson.ipynb#X40sZmlsZQ%3D%3D?line=1'>2</a>\u001b[0m color \u001b[39m=\u001b[39m \u001b[39minput\u001b[39m(\u001b[39m'\u001b[39m\u001b[39mEnter you fav color\u001b[39m\u001b[39m'\u001b[39m)\n\u001b[1;32m      <a href='vscode-notebook-cell:/Users/SreejaGangapuram_1/vscode/Sreeja-Gangapuram/_notebooks/2022-12-dd-lesson.ipynb#X40sZmlsZQ%3D%3D?line=2'>3</a>\u001b[0m \u001b[39mprint\u001b[39m(\u001b[39m'\u001b[39m\u001b[39mYour favorite color is, \u001b[39m\u001b[39m'\u001b[39m, color)\n\u001b[0;32m----> <a href='vscode-notebook-cell:/Users/SreejaGangapuram_1/vscode/Sreeja-Gangapuram/_notebooks/2022-12-dd-lesson.ipynb#X40sZmlsZQ%3D%3D?line=3'>4</a>\u001b[0m runInfinitely()\n",
      "\u001b[1;32m/Users/SreejaGangapuram_1/vscode/Sreeja-Gangapuram/_notebooks/2022-12-dd-lesson.ipynb Cell 29\u001b[0m in \u001b[0;36mrunInfinitely\u001b[0;34m()\u001b[0m\n\u001b[1;32m      <a href='vscode-notebook-cell:/Users/SreejaGangapuram_1/vscode/Sreeja-Gangapuram/_notebooks/2022-12-dd-lesson.ipynb#X40sZmlsZQ%3D%3D?line=0'>1</a>\u001b[0m \u001b[39mdef\u001b[39;00m \u001b[39mrunInfinitely\u001b[39m():\n\u001b[0;32m----> <a href='vscode-notebook-cell:/Users/SreejaGangapuram_1/vscode/Sreeja-Gangapuram/_notebooks/2022-12-dd-lesson.ipynb#X40sZmlsZQ%3D%3D?line=1'>2</a>\u001b[0m     color \u001b[39m=\u001b[39m \u001b[39minput\u001b[39;49m(\u001b[39m'\u001b[39;49m\u001b[39mEnter you fav color\u001b[39;49m\u001b[39m'\u001b[39;49m)\n\u001b[1;32m      <a href='vscode-notebook-cell:/Users/SreejaGangapuram_1/vscode/Sreeja-Gangapuram/_notebooks/2022-12-dd-lesson.ipynb#X40sZmlsZQ%3D%3D?line=2'>3</a>\u001b[0m     \u001b[39mprint\u001b[39m(\u001b[39m'\u001b[39m\u001b[39mYour favorite color is, \u001b[39m\u001b[39m'\u001b[39m, color)\n\u001b[1;32m      <a href='vscode-notebook-cell:/Users/SreejaGangapuram_1/vscode/Sreeja-Gangapuram/_notebooks/2022-12-dd-lesson.ipynb#X40sZmlsZQ%3D%3D?line=3'>4</a>\u001b[0m     runInfinitely()\n",
      "File \u001b[0;32m/Library/Frameworks/Python.framework/Versions/3.10/lib/python3.10/site-packages/ipykernel/kernelbase.py:1177\u001b[0m, in \u001b[0;36mKernel.raw_input\u001b[0;34m(self, prompt)\u001b[0m\n\u001b[1;32m   1173\u001b[0m \u001b[39mif\u001b[39;00m \u001b[39mnot\u001b[39;00m \u001b[39mself\u001b[39m\u001b[39m.\u001b[39m_allow_stdin:\n\u001b[1;32m   1174\u001b[0m     \u001b[39mraise\u001b[39;00m StdinNotImplementedError(\n\u001b[1;32m   1175\u001b[0m         \u001b[39m\"\u001b[39m\u001b[39mraw_input was called, but this frontend does not support input requests.\u001b[39m\u001b[39m\"\u001b[39m\n\u001b[1;32m   1176\u001b[0m     )\n\u001b[0;32m-> 1177\u001b[0m \u001b[39mreturn\u001b[39;00m \u001b[39mself\u001b[39;49m\u001b[39m.\u001b[39;49m_input_request(\n\u001b[1;32m   1178\u001b[0m     \u001b[39mstr\u001b[39;49m(prompt),\n\u001b[1;32m   1179\u001b[0m     \u001b[39mself\u001b[39;49m\u001b[39m.\u001b[39;49m_parent_ident[\u001b[39m\"\u001b[39;49m\u001b[39mshell\u001b[39;49m\u001b[39m\"\u001b[39;49m],\n\u001b[1;32m   1180\u001b[0m     \u001b[39mself\u001b[39;49m\u001b[39m.\u001b[39;49mget_parent(\u001b[39m\"\u001b[39;49m\u001b[39mshell\u001b[39;49m\u001b[39m\"\u001b[39;49m),\n\u001b[1;32m   1181\u001b[0m     password\u001b[39m=\u001b[39;49m\u001b[39mFalse\u001b[39;49;00m,\n\u001b[1;32m   1182\u001b[0m )\n",
      "File \u001b[0;32m/Library/Frameworks/Python.framework/Versions/3.10/lib/python3.10/site-packages/ipykernel/kernelbase.py:1219\u001b[0m, in \u001b[0;36mKernel._input_request\u001b[0;34m(self, prompt, ident, parent, password)\u001b[0m\n\u001b[1;32m   1216\u001b[0m             \u001b[39mbreak\u001b[39;00m\n\u001b[1;32m   1217\u001b[0m \u001b[39mexcept\u001b[39;00m \u001b[39mKeyboardInterrupt\u001b[39;00m:\n\u001b[1;32m   1218\u001b[0m     \u001b[39m# re-raise KeyboardInterrupt, to truncate traceback\u001b[39;00m\n\u001b[0;32m-> 1219\u001b[0m     \u001b[39mraise\u001b[39;00m \u001b[39mKeyboardInterrupt\u001b[39;00m(\u001b[39m\"\u001b[39m\u001b[39mInterrupted by user\u001b[39m\u001b[39m\"\u001b[39m) \u001b[39mfrom\u001b[39;00m \u001b[39mNone\u001b[39m\n\u001b[1;32m   1220\u001b[0m \u001b[39mexcept\u001b[39;00m \u001b[39mException\u001b[39;00m:\n\u001b[1;32m   1221\u001b[0m     \u001b[39mself\u001b[39m\u001b[39m.\u001b[39mlog\u001b[39m.\u001b[39mwarning(\u001b[39m\"\u001b[39m\u001b[39mInvalid Message:\u001b[39m\u001b[39m\"\u001b[39m, exc_info\u001b[39m=\u001b[39m\u001b[39mTrue\u001b[39;00m)\n",
      "\u001b[0;31mKeyboardInterrupt\u001b[0m: Interrupted by user"
     ]
    }
   ],
   "source": [
    "def runInfinitely():\n",
    "    color = input('Enter you fav color')\n",
    "    print('Your favorite color is, ', color)\n",
    "    runInfinitely()\n",
    "\n",
    "runInfinitely()"
   ]
  }
 ],
 "metadata": {
  "kernelspec": {
   "display_name": "Python 3.10.6 64-bit",
   "language": "python",
   "name": "python3"
  },
  "language_info": {
   "codemirror_mode": {
    "name": "ipython",
    "version": 3
   },
   "file_extension": ".py",
   "mimetype": "text/x-python",
   "name": "python",
   "nbconvert_exporter": "python",
   "pygments_lexer": "ipython3",
   "version": "3.10.6"
  },
  "orig_nbformat": 4,
  "vscode": {
   "interpreter": {
    "hash": "aee8b7b246df8f9039afb4144a1f6fd8d2ca17a180786b69acc140d282b71a49"
   }
  }
 },
 "nbformat": 4,
 "nbformat_minor": 2
}
