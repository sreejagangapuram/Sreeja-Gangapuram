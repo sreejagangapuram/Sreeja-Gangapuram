{
 "cells": [
  {
   "cell_type": "markdown",
   "metadata": {},
   "source": [
    "# Units 2 and 3 Vocabulary Progress \n",
    "\n",
    "- title: Units 2 and 3 Vocabulary\n",
    "- toc: true\n",
    "- categories: [notebook]"
   ]
  },
  {
   "cell_type": "markdown",
   "metadata": {},
   "source": [
    "# **Material That Has Been Covered**\n",
    "See Daily Notebooks and Hacks for More Help on Any Of These Topics! \n",
    "- Variables, Assignments, and Data Abstractions\n",
    "- Mathematical Expressions and Strings\n",
    "- Boolean Expression, Conditionals, and Nested Conditionals\n",
    "- Boolean Iteration and Lists\n",
    "- Developing Algorithms and Binary Search\n",
    "- Calling and Developing Procedures"
   ]
  },
  {
   "cell_type": "markdown",
   "metadata": {},
   "source": [
    "# <mark>Unit 2 Binary/Data Terms and Unit 3 Algorithm/Programming Terms</mark>"
   ]
  },
  {
   "cell_type": "markdown",
   "metadata": {},
   "source": [
    "## **Variables** "
   ]
  },
  {
   "cell_type": "markdown",
   "metadata": {},
   "source": [
    "a value that can change, depending on conditions or on information passed to the program. "
   ]
  },
  {
   "cell_type": "code",
   "execution_count": 1,
   "metadata": {},
   "outputs": [],
   "source": [
    "fruit = \"apple\" #fruit is the name, 'apple' is the value, and string is the type\n",
    "score = 0 #score is the name, 0 is the value, integer is the type"
   ]
  },
  {
   "cell_type": "markdown",
   "metadata": {},
   "source": [
    "## **Data Types**"
   ]
  },
  {
   "cell_type": "markdown",
   "metadata": {},
   "source": [
    "- String (or str or text) - combination of any characters\n",
    "    - Character (or char) - single letters\n",
    "    - Integer (or int) - whole numbers\n",
    "    - Float (or Real) - numbers that contain decimal points, or for fractions.\n",
    "    - Boolean (or bool) - data is restricted to True/False or yes/no options "
   ]
  },
  {
   "cell_type": "code",
   "execution_count": 2,
   "metadata": {},
   "outputs": [],
   "source": [
    "integer = 9\n",
    "\n",
    "string = \"words\" #surrounded by quotations\n",
    "\n",
    "boolean = False # True or false"
   ]
  },
  {
   "cell_type": "markdown",
   "metadata": {},
   "source": [
    "## **Assignment Operators**"
   ]
  },
  {
   "cell_type": "markdown",
   "metadata": {},
   "source": [
    "operator used to assign a new value to a variable. "
   ]
  },
  {
   "cell_type": "markdown",
   "metadata": {},
   "source": [
    "| Operator | Description | Syntax | Outcome when print(a) |\n",
    "|-|-|-|-|\n",
    "| = | Assign value of right side of expression to left side operand | a = b | b |\n",
    "| += | Add right side operand with left side operand and then assign to left operand | a += b | a + b |\n",
    "| -= | Subtract right operand from left operand and then assign to left operand: True if both operands are equal | a -= b | a - b |\n",
    "| *= | Multiply right operand with left operand and then assign to left operand | a *= b | a * b |\n",
    "| /= | Divide left operand with right operand and then assign to left operand | a /= b | a / b |\n",
    "| **= | Calculate exponent(raise power) value using operands and assign value to left operand | a **= b | a ^ b |"
   ]
  },
  {
   "cell_type": "markdown",
   "metadata": {},
   "source": [
    "## **Lists** "
   ]
  },
  {
   "cell_type": "markdown",
   "metadata": {},
   "source": [
    "an abstract data type that represents a finite number of ordered values, where the same value may occur more than once."
   ]
  },
  {
   "cell_type": "code",
   "execution_count": 3,
   "metadata": {},
   "outputs": [
    {
     "name": "stdout",
     "output_type": "stream",
     "text": [
      "['apple', 'grape', 'strawberry']\n"
     ]
    }
   ],
   "source": [
    "fruits = [\"apple\", \"grape\", \"strawberry\"]\n",
    "print (fruits)"
   ]
  },
  {
   "cell_type": "markdown",
   "metadata": {},
   "source": [
    "## **2D Lists** "
   ]
  },
  {
   "cell_type": "markdown",
   "metadata": {},
   "source": [
    "a two-dimensional array can hold more than one set of data"
   ]
  },
  {
   "cell_type": "code",
   "execution_count": 4,
   "metadata": {},
   "outputs": [
    {
     "name": "stdout",
     "output_type": "stream",
     "text": [
      "1\t2\t3\n",
      "4\t5\t6\n",
      "7\t8\t9\n",
      " \t0\t \n"
     ]
    }
   ],
   "source": [
    "keyboard = [[1, 2, 3], [4, 5, 6], [7, 8, 9], [\" \", 0, \" \"]]\n",
    "\n",
    "def print_matrix4(matrix):\n",
    "    for i in matrix:\n",
    "        print('\\t'.join(map(str, i)))\n",
    "        \n",
    "print_matrix4(keyboard)"
   ]
  },
  {
   "cell_type": "markdown",
   "metadata": {},
   "source": [
    "## **Dictionaries** "
   ]
  },
  {
   "cell_type": "markdown",
   "metadata": {},
   "source": [
    "an abstract data type that defines an unordered collection of data as a set of key-value pairs"
   ]
  },
  {
   "cell_type": "code",
   "execution_count": 5,
   "metadata": {},
   "outputs": [
    {
     "name": "stdout",
     "output_type": "stream",
     "text": [
      "Who is the author of It Ends With Us\n",
      "a. Holly Jackson\n",
      "b. Colleen Hoover\n",
      "c. Lisa Jewell\n",
      "d. Jennifer Barnes\n",
      "Who is the author of Percy Jackson\n",
      "a. JK Rowling\n",
      "b. Holly Jackson\n",
      "c. Rick Riordan\n",
      "d. Colleen Hoover\n",
      "When was a Good Girl's Guide to Murder Published\n",
      "a. 2019\n",
      "b. 2018\n",
      "c. 2020\n",
      "d. 2021\n",
      "When was It Starts with Us Published\n",
      "a. 2019\n",
      "b. 2020\n",
      "c. 2021\n",
      "d. 2022\n",
      "You got 4 correct answers\n"
     ]
    }
   ],
   "source": [
    "# used a dictionary with a question as the key and a list of multiple choice as values for the quiz\n",
    "quiz = {\"Who is the author of It Ends With Us\":[\"a. Holly Jackson\",\"b. Colleen Hoover\", \"c. Lisa Jewell\", \"d. Jennifer Barnes\"], \"Who is the author of Percy Jackson\":[\"a. JK Rowling\", \"b. Holly Jackson\",\"c. Rick Riordan\", \"d. Colleen Hoover\"]\n",
    ", \"When was a Good Girl's Guide to Murder Published\":[\"a. 2019\",\"b. 2018\", \"c. 2020\", \"d. 2021\"], \"When was It Starts with Us Published\":[\"a. 2019\",\"b. 2020\", \"c. 2021\", \"d. 2022\"]}\n",
    "\n",
    "# for the answers, used the question as the key and the multiple choice letter as the value \n",
    "answers = {\"Who is the author of It Ends With Us\":\"b\", \"Who is the author of Percy Jackson\":\"c\", \"When was a Good Girl's Guide to Murder Published\":\"a\", \"When was It Starts with Us Published\":\"d\"}\n",
    "count = 0\n",
    "\n",
    "# iterating through the dictonary's keys and values \n",
    "for k,v in quiz.items():\n",
    "\n",
    "# printing the key and it's values \n",
    "    print(k)\n",
    "    print(*v, sep = '\\n')\n",
    "\n",
    "# taking the user input for the answer, entering ab\n",
    "    user_input = input(\"Enter Your Answer\")\n",
    "\n",
    "# comparing that with the answer's value \n",
    "    if(answers.get(k)==user_input):\n",
    "\n",
    "        # incrementing the count \n",
    "     count = count +1\n",
    "\n",
    "# printing the user's score\n",
    "print('You got', count, 'correct answers')    "
   ]
  },
  {
   "cell_type": "markdown",
   "metadata": {},
   "source": [
    "## **Algorithms**"
   ]
  },
  {
   "cell_type": "markdown",
   "metadata": {},
   "source": [
    "- a list set of instructions, used to solve problems or perform tasks. \n",
    "    - **Sequence**: algorithms do tasks in the order of specification.\n",
    "    - **Selection**: helps choose two different outcomes based off a decision.\n",
    "    - **Iteration**: if a condition is true, then the code can repeat."
   ]
  },
  {
   "cell_type": "markdown",
   "metadata": {},
   "source": [
    "## **Expressions**"
   ]
  },
  {
   "cell_type": "markdown",
   "metadata": {},
   "source": [
    "combination of values and functions that are combined and interpreted to create a new value."
   ]
  },
  {
   "cell_type": "markdown",
   "metadata": {},
   "source": [
    "- x + y\tAddition\n",
    "- x - y\tSubtraction\n",
    "- x * y\tMultiplication\n",
    "- x / y\tDivision\n",
    "- x // y Quotient\n",
    "- x % y\tRemainder\n",
    "- x ** y Exponentiation"
   ]
  },
  {
   "cell_type": "markdown",
   "metadata": {},
   "source": [
    "## **Comparison Operators**"
   ]
  },
  {
   "cell_type": "markdown",
   "metadata": {},
   "source": [
    "compares two values against one another."
   ]
  },
  {
   "cell_type": "markdown",
   "metadata": {},
   "source": [
    "- a = b - equal to \n",
    "- a (not equal to symbol) b - not equal to\n",
    "- a > b - greater than\n",
    "- a < b - less than \n",
    "- a (is greater than or equal to symbol) b - greater than or equal to\n",
    "- a (is less than or equal to symbol) b - less than or equal to"
   ]
  },
  {
   "cell_type": "markdown",
   "metadata": {},
   "source": [
    "## **Boolean Expressions and Selection/Iteration**"
   ]
  },
  {
   "cell_type": "markdown",
   "metadata": {},
   "source": [
    "if a condition is true or false, there is a differnet outcome and if a condition is true, the code repeats an earlier step."
   ]
  },
  {
   "cell_type": "code",
   "execution_count": 7,
   "metadata": {},
   "outputs": [
    {
     "name": "stdout",
     "output_type": "stream",
     "text": [
      "The number is small\n",
      "6\n",
      "7\n",
      "8\n",
      "9\n",
      "10\n"
     ]
    }
   ],
   "source": [
    "num = 5\n",
    "\n",
    "# selection:\n",
    "if num < 100 : \n",
    "    print(\"The number is small\")\n",
    "else: \n",
    "    print (\"The number is large\")\n",
    "    \n",
    "# iteration: \n",
    "\n",
    "while num < 10:\n",
    "    num = num + 1\n",
    "    print(num)"
   ]
  },
  {
   "cell_type": "markdown",
   "metadata": {},
   "source": [
    "## **Truth Tables**"
   ]
  },
  {
   "cell_type": "markdown",
   "metadata": {},
   "source": [
    "- have two values \n",
    "    - 0 = off, false\n",
    "    - 1 = on, true\n",
    "    - Examples \n",
    "        - 0 and 0 = false. And operator means both needs to be true. \n",
    "        - 0 or 1 = true. Either or. \n",
    "        - Use this in conditionals (selection).\n",
    "        - AND = Both A AND B must be true for the overall operation to be true \n",
    "        - XOR = Either A OR B must be true for the overall operation to be true, except if both are true then the overall outcome is F again \n",
    "        - Or = Either A OR B must be true for the overall operation to be true"
   ]
  },
  {
   "cell_type": "markdown",
   "metadata": {},
   "source": [
    "## **AND truth tables** \n",
    "\n",
    "<br>\n",
    "\n",
    "| A | B | Outcome | \n",
    "| - | - | - | \n",
    "| F | F | F |  \n",
    "| F | T | F | \n",
    "| T | F | F | \n",
    "| T | T | T |\n",
    "\n",
    "## **OR truth tables** \n",
    "\n",
    "<br>\n",
    "\n",
    "| A | B | Outcome | \n",
    "| - | - | - | \n",
    "| F | F | F |  \n",
    "| F | T | T | \n",
    "| T | F | T | \n",
    "| T | T | T |\n",
    "\n",
    "## **XOR truth tables** \n",
    "\n",
    "<br>\n",
    "\n",
    "| A | B | Outcome | \n",
    "| - | - | - | \n",
    "| F | F | F |  \n",
    "| F | T | T | \n",
    "| T | F | T | \n",
    "| T | T | F |\n",
    "\n",
    "<br>"
   ]
  },
  {
   "cell_type": "markdown",
   "metadata": {},
   "source": [
    "Ex: A is true, B is false"
   ]
  },
  {
   "cell_type": "markdown",
   "metadata": {},
   "source": [
    "## **Bits**"
   ]
  },
  {
   "cell_type": "markdown",
   "metadata": {},
   "source": [
    "most basic unit of informartion in computing. "
   ]
  },
  {
   "cell_type": "markdown",
   "metadata": {},
   "source": [
    "binary digit that is the smallest increment of data on a computer\n",
    "ex. 0 and 1"
   ]
  },
  {
   "cell_type": "markdown",
   "metadata": {},
   "source": [
    "## **Bytes**"
   ]
  },
  {
   "cell_type": "markdown",
   "metadata": {},
   "source": [
    "a group of 8 digits or bits operating as one unit. "
   ]
  },
  {
   "cell_type": "markdown",
   "metadata": {},
   "source": [
    "ex. 12,345,678"
   ]
  },
  {
   "cell_type": "markdown",
   "metadata": {},
   "source": [
    "## **Hexadecimal / Nibbles**"
   ]
  },
  {
   "cell_type": "markdown",
   "metadata": {},
   "source": [
    "base/positional number system used in mathematics and computer science (base 16 numbering system)"
   ]
  },
  {
   "cell_type": "markdown",
   "metadata": {},
   "source": [
    "## **Binary Numbers**"
   ]
  },
  {
   "cell_type": "markdown",
   "metadata": {},
   "source": [
    "a binary digit, or bit, is the smallest unit of data. numbers expressed in the base two numbering systems. they are only 0s and 1s. "
   ]
  },
  {
   "cell_type": "markdown",
   "metadata": {},
   "source": [
    "## **Unsigned Integer**"
   ]
  },
  {
   "cell_type": "markdown",
   "metadata": {},
   "source": [
    "non-negative integers. "
   ]
  },
  {
   "cell_type": "markdown",
   "metadata": {},
   "source": [
    "integers that don't have a sign associated with them\n",
    "- ex. 1, 2"
   ]
  },
  {
   "cell_type": "markdown",
   "metadata": {},
   "source": [
    "## **Signed Integer**"
   ]
  },
  {
   "cell_type": "markdown",
   "metadata": {},
   "source": [
    "32-bit datum, encodes an integer in the range ([-2147483648 to 2147483647]). "
   ]
  },
  {
   "cell_type": "markdown",
   "metadata": {},
   "source": [
    "A signed integer is a 32-bit datum that encodes an integer in the range [-2147483648 to 2147483647]\n",
    "- ex - 100, 80"
   ]
  },
  {
   "cell_type": "markdown",
   "metadata": {},
   "source": [
    "## **Floating Point**"
   ]
  },
  {
   "cell_type": "markdown",
   "metadata": {},
   "source": [
    "a positive or negative whole number with a decimal point. "
   ]
  },
  {
   "cell_type": "markdown",
   "metadata": {},
   "source": [
    "examples: 5.2, 333.09, etc. "
   ]
  },
  {
   "cell_type": "markdown",
   "metadata": {},
   "source": [
    "## **Binary Data Abstractions**"
   ]
  },
  {
   "cell_type": "markdown",
   "metadata": {},
   "source": [
    "reducing data to simplify it's entirety. "
   ]
  },
  {
   "cell_type": "markdown",
   "metadata": {},
   "source": [
    "## **Boolean**"
   ]
  },
  {
   "cell_type": "markdown",
   "metadata": {},
   "source": [
    "logical data type that can have only the values true or false. "
   ]
  },
  {
   "cell_type": "code",
   "execution_count": 8,
   "metadata": {},
   "outputs": [],
   "source": [
    "brands = [\"nike\", \"adidas\", \"underarmour\"] #string\n",
    "numbers = [1, 2, 3, 4, 5] #integer\n",
    "truefalse = [True, False, True] #boolean"
   ]
  },
  {
   "cell_type": "markdown",
   "metadata": {},
   "source": [
    "## **ASCII**"
   ]
  },
  {
   "cell_type": "markdown",
   "metadata": {},
   "source": [
    "a character encoding scheme in which each character is represented by a 7-bit (originally) or 8-bit binary sequence. "
   ]
  },
  {
   "cell_type": "markdown",
   "metadata": {},
   "source": [
    "## **Unicode**"
   ]
  },
  {
   "cell_type": "markdown",
   "metadata": {},
   "source": [
    "16-bit character set which describes all of the keyboard characters.\n",
    "- ex: emojis"
   ]
  },
  {
   "cell_type": "markdown",
   "metadata": {},
   "source": [
    "## **RGB**"
   ]
  },
  {
   "cell_type": "markdown",
   "metadata": {},
   "source": [
    "a problem solving approach (algorithm) to find a satisfactory solution where finding an optimal or exact solution is impractical or impossible."
   ]
  },
  {
   "cell_type": "markdown",
   "metadata": {},
   "source": [
    "## **Data Compression**"
   ]
  },
  {
   "cell_type": "markdown",
   "metadata": {},
   "source": [
    "the process of encoding data so that is needs fewer bits/bytes to represent it."
   ]
  },
  {
   "cell_type": "markdown",
   "metadata": {},
   "source": [
    "## **Lossy**"
   ]
  },
  {
   "cell_type": "markdown",
   "metadata": {},
   "source": [
    "data encoding and compression technique that deliberately discards some data in the compression process."
   ]
  },
  {
   "cell_type": "markdown",
   "metadata": {},
   "source": [
    "## **Lossless**"
   ]
  },
  {
   "cell_type": "markdown",
   "metadata": {},
   "source": [
    "data compression algorithm that allows the original data to be perfectly reconstructed from the compressed data"
   ]
  },
  {
   "cell_type": "code",
   "execution_count": 1,
   "metadata": {},
   "outputs": [],
   "source": [
    "x = True\n",
    "y = False"
   ]
  },
  {
   "cell_type": "markdown",
   "metadata": {},
   "source": [
    "## **Class**"
   ]
  },
  {
   "cell_type": "markdown",
   "metadata": {},
   "source": [
    "written in a defined structure to create an object. "
   ]
  },
  {
   "cell_type": "code",
   "execution_count": 10,
   "metadata": {},
   "outputs": [],
   "source": [
    "class MyClass:\n",
    "  x = 5"
   ]
  },
  {
   "cell_type": "markdown",
   "metadata": {},
   "source": [
    "## **Characters**"
   ]
  },
  {
   "cell_type": "markdown",
   "metadata": {},
   "source": [
    "display unit of information equivalent to one alphabetic letter or symbol."
   ]
  },
  {
   "cell_type": "markdown",
   "metadata": {},
   "source": [
    "- ex: ex. a, 8, #"
   ]
  },
  {
   "cell_type": "markdown",
   "metadata": {},
   "source": [
    "## **Strings**"
   ]
  },
  {
   "cell_type": "markdown",
   "metadata": {},
   "source": [
    "ordered sequences of characters. "
   ]
  },
  {
   "cell_type": "code",
   "execution_count": 4,
   "metadata": {},
   "outputs": [],
   "source": [
    "string = \"hello\""
   ]
  },
  {
   "cell_type": "markdown",
   "metadata": {},
   "source": [
    "## **Length**"
   ]
  },
  {
   "cell_type": "code",
   "execution_count": null,
   "metadata": {},
   "outputs": [],
   "source": [
    "len ()"
   ]
  },
  {
   "cell_type": "code",
   "execution_count": 3,
   "metadata": {},
   "outputs": [
    {
     "data": {
      "text/plain": [
       "34"
      ]
     },
     "execution_count": 3,
     "metadata": {},
     "output_type": "execute_result"
    }
   ],
   "source": [
    "len(\"supercalifragilisticexpialidocious\") "
   ]
  },
  {
   "cell_type": "markdown",
   "metadata": {},
   "source": [
    "the number of symbols output. "
   ]
  },
  {
   "cell_type": "markdown",
   "metadata": {},
   "source": [
    "## **Concatenation**"
   ]
  },
  {
   "cell_type": "markdown",
   "metadata": {},
   "source": [
    "String concatenation is combining 2 or more strings to make a new strings in order to create a new string\n",
    "\n",
    "concat() in pseudocode and varys from language to language can be used to combine to strings such as concat(\"cookie\",\"monster\") returns cookiemonster"
   ]
  },
  {
   "cell_type": "code",
   "execution_count": 2,
   "metadata": {},
   "outputs": [],
   "source": [
    "string1 = \"book\"\n",
    "string2 = \"case\""
   ]
  },
  {
   "cell_type": "markdown",
   "metadata": {},
   "source": [
    "## **Upper**"
   ]
  },
  {
   "cell_type": "markdown",
   "metadata": {},
   "source": [
    "used to check if the argument contains any uppercase characters. \n",
    "- returns \"True\" if all characters in the string are uppercase, Otherwise, It returns \"False\"."
   ]
  },
  {
   "cell_type": "markdown",
   "metadata": {},
   "source": [
    "## **Lower**"
   ]
  },
  {
   "cell_type": "markdown",
   "metadata": {},
   "source": [
    "returns the lowercase string from the given string."
   ]
  },
  {
   "cell_type": "markdown",
   "metadata": {},
   "source": [
    "## **Traversing Strings**"
   ]
  },
  {
   "cell_type": "markdown",
   "metadata": {},
   "source": [
    "the process of going through a String one character at a time, often using loops."
   ]
  },
  {
   "cell_type": "markdown",
   "metadata": {},
   "source": [
    "## **Python If, Elif, Else conditionals**"
   ]
  },
  {
   "cell_type": "markdown",
   "metadata": {},
   "source": [
    "- If: statement executes a piece of code when one statement is false and the following statement is true. \n",
    "- Elif: first if statement isn't true, but want to check for another condition.\n",
    "- Else: executes if \"if\" isn't true. "
   ]
  },
  {
   "cell_type": "code",
   "execution_count": 12,
   "metadata": {},
   "outputs": [
    {
     "name": "stdout",
     "output_type": "stream",
     "text": [
      "The person has a salary of: 150k and has experience: True\n"
     ]
    }
   ],
   "source": [
    "# declaring my variables \n",
    "hours = 30\n",
    "sal = \"\"\n",
    "experienced = True\n",
    "# using operators to determine the salary\n",
    "if (hours >= 10):\n",
    "    sal = \"150k\"\n",
    "elif (hours >= 8):\n",
    "    sal = \"90k\"\n",
    "else:\n",
    "    sal = \"50k\"\n",
    "    experienced = False\n",
    "# printing the final statement \n",
    "print ('The person has a salary of:' , sal,'and has experience:' , experienced)"
   ]
  },
  {
   "cell_type": "markdown",
   "metadata": {},
   "source": [
    "## **Nested Selection Statements**"
   ]
  },
  {
   "cell_type": "markdown",
   "metadata": {},
   "source": [
    "when more than one decision must be made before the appropriate action can be taken."
   ]
  },
  {
   "cell_type": "markdown",
   "metadata": {},
   "source": [
    "## **Python For While loops with Range with List**"
   ]
  },
  {
   "cell_type": "markdown",
   "metadata": {},
   "source": [
    "returns a sequence of numbers, starting from 0 by default, and increments by 1 (by default), and stops before a specified number."
   ]
  },
  {
   "cell_type": "markdown",
   "metadata": {},
   "source": [
    "- For: Process stops if next element meets statement\n",
    "- While: Process is repeated until statement is met"
   ]
  },
  {
   "cell_type": "markdown",
   "metadata": {},
   "source": [
    "## **Combining loops with conditionals to Break, Continue**"
   ]
  },
  {
   "cell_type": "markdown",
   "metadata": {},
   "source": [
    "a statement that controls the flow of execution depending on some condition."
   ]
  },
  {
   "cell_type": "markdown",
   "metadata": {},
   "source": [
    "## **Procedural Abstraction**"
   ]
  },
  {
   "cell_type": "markdown",
   "metadata": {},
   "source": [
    "have variable parameters. "
   ]
  },
  {
   "cell_type": "markdown",
   "metadata": {},
   "source": [
    "## **Python Def procedures**"
   ]
  },
  {
   "cell_type": "markdown",
   "metadata": {},
   "source": [
    "procedure allows us to group a block of code under a name, known as a procedure name."
   ]
  },
  {
   "cell_type": "markdown",
   "metadata": {},
   "source": [
    "## **Parameters**"
   ]
  },
  {
   "cell_type": "markdown",
   "metadata": {},
   "source": [
    "variable used in a function to refer to one of the pieces of data provided as input to the function."
   ]
  },
  {
   "cell_type": "markdown",
   "metadata": {},
   "source": [
    "## **Return Values**"
   ]
  },
  {
   "cell_type": "markdown",
   "metadata": {},
   "source": [
    "function returns to the calling script or function when it completes its task."
   ]
  }
 ],
 "metadata": {
  "kernelspec": {
   "display_name": "Python 3.10.6 64-bit",
   "language": "python",
   "name": "python3"
  },
  "language_info": {
   "codemirror_mode": {
    "name": "ipython",
    "version": 3
   },
   "file_extension": ".py",
   "mimetype": "text/x-python",
   "name": "python",
   "nbconvert_exporter": "python",
   "pygments_lexer": "ipython3",
   "version": "3.10.6"
  },
  "orig_nbformat": 4,
  "vscode": {
   "interpreter": {
    "hash": "aee8b7b246df8f9039afb4144a1f6fd8d2ca17a180786b69acc140d282b71a49"
   }
  }
 },
 "nbformat": 4,
 "nbformat_minor": 2
}
