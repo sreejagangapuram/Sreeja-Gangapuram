{
 "cells": [
  {
   "cell_type": "markdown",
   "metadata": {},
   "source": [
    "# (Day 3) Unit 3 Sections 5-7 Notes + Hacks \n",
    "> Booleans and Conditionals\n",
    "\n",
    "- title: (Day 3) Unit 3 Sections 5-7 Notes + Hacks \n",
    "- toc: true\n",
    "- categories: [notebook]"
   ]
  },
  {
   "cell_type": "markdown",
   "metadata": {},
   "source": [
    "- <mark>Boolean</mark>: a data type. it has two possible values. \n",
    "    - TRUE \n",
    "    - FALSE \n",
    "    - can only be 1 or 0 \n",
    "- <mark>Operators</mark>\n",
    "    - a = b - equal to \n",
    "    - a (not equal to symbol) b - not equal to\n",
    "    - a > b - greater than\n",
    "    - a < b - less than \n",
    "    - a (is greater than or equal to symbol) b - greater than or equal to\n",
    "    - a (is less than or equal to symbol) b - less than or equal to\n"
   ]
  },
  {
   "cell_type": "markdown",
   "metadata": {},
   "source": [
    "<mark>EXERSICE</mark>: Use a boolean expression to determine if the average grade is above an 80 and print the result (True or False)."
   ]
  },
  {
   "cell_type": "code",
   "execution_count": 8,
   "metadata": {
    "vscode": {
     "languageId": "javascript"
    }
   },
   "outputs": [
    {
     "name": "stdout",
     "output_type": "stream",
     "text": [
      "False. The average grade is below an 80.\n"
     ]
    }
   ],
   "source": [
    "# made a list of all grades\n",
    "allGrades = [90, 65, 60, 75, 95]\n",
    "\n",
    "# used the sum and length functions, divided them\n",
    "allGradesAve = sum(allGrades)/len(allGrades)\n",
    "\n",
    "# if and else statements to determine if average is less than or greater than 80\n",
    "if allGradesAve > 80: \n",
    "    print (\"True. The average grade is above an 80.\")\n",
    "else: \n",
    "    print (\"False. The average grade is below an 80.\")\n"
   ]
  },
  {
   "cell_type": "markdown",
   "metadata": {},
   "source": [
    "# Relational operators Example"
   ]
  },
  {
   "cell_type": "code",
   "execution_count": 9,
   "metadata": {
    "vscode": {
     "languageId": "javascript"
    }
   },
   "outputs": [
    {
     "name": "stdout",
     "output_type": "stream",
     "text": [
      "100 == 100: True\n",
      "Hello == Adios: False\n",
      "Hello != Adios: True\n",
      "Hello == Hola: True\n",
      "5>=4: True\n",
      "\n",
      "['a','b','c'] > ['x','y','z']: False\n",
      "[1,2,3,5] > [1,2,3,4]: True\n",
      "[1,2,3,5] < [1,2,3,4]: False\n",
      "[1,2,3,5] == [1,2,3,4]: False\n"
     ]
    }
   ],
   "source": [
    "print(\"100 == 100:\",100==100)\n",
    "print(\"Hello == Adios:\",\"greeting\"==\"farewell\")\n",
    "print(\"Hello != Adios:\",\"greeting\"!=\"farewell\")\n",
    "print(\"Hello == Hola:\",\"greeting\"==\"greeting\")\n",
    "print(\"5>=4:\", 5>=4)\n",
    "print ('')\n",
    "\n",
    "# Notice that relational operators can even work on lists!\n",
    "# For lists, the relational operator compares each respective component until an answer is derived\n",
    "\n",
    "print(\"['a','b','c'] > ['x','y','z']:\", ['a','b','c'] > ['x','y','z'])\n",
    "print(\"[1,2,3,5] > [1,2,3,4]:\", [1,2,3,5] > [1,2,3,4])\n",
    "print(\"[1,2,3,5] < [1,2,3,4]:\", [1,2,3,5] < [1,2,3,4])\n",
    "print(\"[1,2,3,5] == [1,2,3,4]:\", [1,2,3,5] == [1,2,3,4])\n",
    "\n"
   ]
  },
  {
   "cell_type": "markdown",
   "metadata": {},
   "source": [
    "<mark>EXERSICE</mark>: Turn the following arithmetic phrases into either True or False statements as indicated USING LOGICAL OPERATORS"
   ]
  },
  {
   "cell_type": "code",
   "execution_count": 10,
   "metadata": {
    "vscode": {
     "languageId": "javascript"
    }
   },
   "outputs": [
    {
     "name": "stdout",
     "output_type": "stream",
     "text": [
      "1 > 2 or 5 < 12: True\n",
      "24 > 8: False\n",
      "10 > 20: False\n"
     ]
    }
   ],
   "source": [
    "# Output TRUE  using OR\n",
    "print(\"1 > 2 or 5 < 12:\",1 > 2 or 5 < 12)\n",
    "# Output TRUE  using OR ^\n",
    "\n",
    "# Output FALSE using NOT\n",
    "print(\"24 > 8:\", not 24 > 8)\n",
    "\n",
    "# Output FALSE using AND\n",
    "print(\"10 > 20:\", 10 > 20 and 20 < 10)"
   ]
  },
  {
   "cell_type": "markdown",
   "metadata": {},
   "source": [
    "- <mark>Selection</mark>: uses a condition\n",
    "    - result - TRUE or FALSE\n",
    "- <mark>Algorithm</mark>: set of instructions that accomplish a task "
   ]
  },
  {
   "cell_type": "code",
   "execution_count": 11,
   "metadata": {
    "vscode": {
     "languageId": "javascript"
    }
   },
   "outputs": [
    {
     "name": "stdout",
     "output_type": "stream",
     "text": [
      "x is greater than y\n"
     ]
    }
   ],
   "source": [
    "x = 20\n",
    "y = 10\n",
    "if x > y:\n",
    "    print(\"x is greater than y\")"
   ]
  },
  {
   "cell_type": "code",
   "execution_count": 12,
   "metadata": {
    "vscode": {
     "languageId": "javascript"
    }
   },
   "outputs": [
    {
     "name": "stdout",
     "output_type": "stream",
     "text": [
      "x is not greater than y\n"
     ]
    }
   ],
   "source": [
    "x = 0\n",
    "y = 10\n",
    "if x > y:\n",
    "    print(\"x is greater than y\")\n",
    "else:\n",
    "    print(\"x is not greater than y\")"
   ]
  },
  {
   "cell_type": "markdown",
   "metadata": {},
   "source": [
    "## Participation \n",
    "\n",
    "<mark>EXERSICE</mark>: Calculate the total sum of two numbers, if it is equal to 200, print 200, if otherwise, print the sum."
   ]
  },
  {
   "cell_type": "code",
   "execution_count": 13,
   "metadata": {
    "vscode": {
     "languageId": "javascript"
    }
   },
   "outputs": [
    {
     "name": "stdout",
     "output_type": "stream",
     "text": [
      "3\n"
     ]
    }
   ],
   "source": [
    "num1 = 1\n",
    "num2 = 2\n",
    "sum = num1 + num2\n",
    "\n",
    "if sum == 200:\n",
    "    print(\"200\")\n",
    "else:\n",
    "    print(sum)"
   ]
  },
  {
   "cell_type": "markdown",
   "metadata": {},
   "source": [
    "## Analyzing Code"
   ]
  },
  {
   "cell_type": "code",
   "execution_count": 1,
   "metadata": {
    "vscode": {
     "languageId": "javascript"
    }
   },
   "outputs": [
    {
     "name": "stdout",
     "output_type": "stream",
     "text": [
      "Please come to retake up to a 90 next week at tutorial!\n"
     ]
    }
   ],
   "source": [
    "score = 82\n",
    "if (score >= 90)\n",
    "{\n",
    "    console.log(\"You got an A, congrats!\")\n",
    "}\n",
    "else\n",
    "{\n",
    "    if (score >= 75)\n",
    "    {\n",
    "        console.log(\"Please come to retake up to a 90 next week at tutorial!\")\n",
    "    }\n",
    "    else\n",
    "    {\n",
    "        console.log(\"You have detention!\")\n",
    "    }\n",
    "}"
   ]
  },
  {
   "cell_type": "code",
   "execution_count": null,
   "metadata": {
    "vscode": {
     "languageId": "javascript"
    }
   },
   "outputs": [
    {
     "name": "stdout",
     "output_type": "stream",
     "text": [
      "Looks great but lets see if we can cut down on sugar, we don't want diabetes!\n"
     ]
    }
   ],
   "source": [
    "protein = 25\n",
    "carbs = 36\n",
    "sugar = 11\n",
    "if (carbs >= 55 || protein <= 20 || sugar >= 15)\n",
    "{\n",
    "    console.log(\"Your lunch is too unhealthy, please pick a new one\")\n",
    "}\n",
    "else\n",
    "{\n",
    "    if (carbs < 35 || protein < 25)\n",
    "    {\n",
    "    console.log (\"This lunch is alright but try to add some more carbs or protein\")\n",
    "    }\n",
    "    else \n",
    "    {\n",
    "    if (sugar >= 11)\n",
    "    {\n",
    "    console.log (\"Looks great but lets see if we can cut down on sugar, we don't want diabetes!\")\n",
    "    }\n",
    "    else\n",
    "    {\n",
    "        console.log (\"Amazing, you created a healthy lunch!!!\")\n",
    "    }\n",
    "    }\n",
    "}"
   ]
  },
  {
   "cell_type": "markdown",
   "metadata": {},
   "source": [
    "- <mark>NOTE</mark>: || = or in javascript "
   ]
  },
  {
   "cell_type": "markdown",
   "metadata": {},
   "source": [
    "## Writing Nested Code Activity\n",
    "1. Write a program that fits these conditions using nested conditionals:\n",
    "    - If a person has at least 8 hours, they are experienced\n",
    "    - If a person is experienced their salary is 90k, if they have ten hours or above their salary 150k\n",
    "    - If a person is inexperienced their salary is always 50k\n",
    "    - print the salary of the person at the end and whether they are experienced or not"
   ]
  },
  {
   "cell_type": "code",
   "execution_count": 8,
   "metadata": {},
   "outputs": [
    {
     "name": "stdout",
     "output_type": "stream",
     "text": [
      "The person has a salary of: 150k and has experience: True\n"
     ]
    }
   ],
   "source": [
    "# declaring my variables \n",
    "hours = 30\n",
    "sal = \"\"\n",
    "experienced = True\n",
    "# using operators to determine the salary\n",
    "if (hours >= 10):\n",
    "    sal = \"150k\"\n",
    "elif (hours >= 8):\n",
    "    sal = \"90k\"\n",
    "else:\n",
    "    sal = \"50k\"\n",
    "    experienced = False\n",
    "# printing the final statement \n",
    "print ('The person has a salary of:' , sal,'and has experience:' , experienced)\n"
   ]
  },
  {
   "cell_type": "markdown",
   "metadata": {},
   "source": [
    "## Hacks Assignments:\n",
    "**Conditionals**:\n",
    "\n",
    "- Write a program that fits these conditions using nested conditionals:\n",
    "    - If the product is expired, print \"this product is no good\"\n",
    "    - If the cost is above 50 dollars, and the product isn't expired, print \"this product is too expensive\"\n",
    "    - If the cost is 25 dollars but under 50, and the product isn't expired, print \"this is a regular product\"\n",
    "    - If the cost is under 25 dollars, print \"this is a cheap product\""
   ]
  },
  {
   "cell_type": "code",
   "execution_count": 7,
   "metadata": {},
   "outputs": [
    {
     "name": "stdout",
     "output_type": "stream",
     "text": [
      "this is a regular product\n"
     ]
    }
   ],
   "source": [
    "expired = False\n",
    "cost = 50\n",
    "\n",
    "if(expired):\n",
    "    print('this product is no good')\n",
    "else:\n",
    "    if (cost > 50):\n",
    "        print('this product is too expensive')\n",
    "    elif (cost < 25):\n",
    "        print('this is a cheap product')\n",
    "    else:\n",
    "        print('this is a regular product')\n",
    " "
   ]
  },
  {
   "cell_type": "markdown",
   "metadata": {},
   "source": [
    "**Boolean/Conditionals**:\n",
    "- Create a multiple choice quiz that ...\n",
    "    - uses Boolean expressions\n",
    "    - uses Logical operators\n",
    "    - uses Conditional statements\n",
    "    - prompts quiz-taker with multiple options (only one can be right)\n",
    "    - has at least 3 questions\n",
    "- Points will be awarded for creativity, intricacy, and how well Boolean/Binary concepts have been intertwined"
   ]
  },
  {
   "cell_type": "markdown",
   "metadata": {},
   "source": [
    "# Book Knowlege Quiz"
   ]
  },
  {
   "cell_type": "code",
   "execution_count": 3,
   "metadata": {},
   "outputs": [
    {
     "name": "stdout",
     "output_type": "stream",
     "text": [
      "Who is the author of It Ends With Us\n",
      "a. Holly Jackson\n",
      "b. Colleen Hoover\n",
      "c. Lisa Jewell\n",
      "d. Jennifer Barnes\n",
      "Who is the author of Percy Jackson\n",
      "a. JK Rowling\n",
      "b. Holly Jackson\n",
      "c. Rick Riordan\n",
      "d. Colleen Hoover\n",
      "When was a Good Girl's Guide to Murder Published\n",
      "a. 2019\n",
      "b. 2018\n",
      "c. 2020\n",
      "d. 2021\n",
      "When was It Starts with Us Published\n",
      "a. 2019\n",
      "b. 2020\n",
      "c. 2021\n",
      "d. 2022\n",
      "You got 4 correct answers\n"
     ]
    }
   ],
   "source": [
    "\n",
    "# used a dictionary with a question as the key and a list of multiple choice as values for the quiz\n",
    "quiz = {\"Who is the author of It Ends With Us\":[\"a. Holly Jackson\",\"b. Colleen Hoover\", \"c. Lisa Jewell\", \"d. Jennifer Barnes\"], \"Who is the author of Percy Jackson\":[\"a. JK Rowling\", \"b. Holly Jackson\",\"c. Rick Riordan\", \"d. Colleen Hoover\"]\n",
    ", \"When was a Good Girl's Guide to Murder Published\":[\"a. 2019\",\"b. 2018\", \"c. 2020\", \"d. 2021\"], \"When was It Starts with Us Published\":[\"a. 2019\",\"b. 2020\", \"c. 2021\", \"d. 2022\"]}\n",
    "\n",
    "# for the answers, used the question as the key and the multiple choice letter as the value \n",
    "answers = {\"Who is the author of It Ends With Us\":\"b\", \"Who is the author of Percy Jackson\":\"c\", \"When was a Good Girl's Guide to Murder Published\":\"a\", \"When was It Starts with Us Published\":\"d\"}\n",
    "count = 0\n",
    "\n",
    "# iterating through the dictonary's keys and values \n",
    "for k,v in quiz.items():\n",
    "\n",
    "# printing the key and it's values \n",
    "    print(k)\n",
    "    print(*v, sep = '\\n')\n",
    "\n",
    "# taking the user input for the answer, entering ab\n",
    "    user_input = input(\"Enter Your Answer\")\n",
    "\n",
    "# comparing that with the answer's value \n",
    "    if(answers.get(k)==user_input):\n",
    "\n",
    "        # incrementing the count \n",
    "     count = count +1\n",
    "\n",
    "# printing the user's score\n",
    "print('You got', count, 'correct answers')    "
   ]
  }
 ],
 "metadata": {
  "kernelspec": {
   "display_name": "Python 3.10.6 64-bit",
   "language": "python",
   "name": "python3"
  },
  "language_info": {
   "codemirror_mode": {
    "name": "ipython",
    "version": 3
   },
   "file_extension": ".py",
   "mimetype": "text/x-python",
   "name": "python",
   "nbconvert_exporter": "python",
   "pygments_lexer": "ipython3",
   "version": "3.10.6"
  },
  "orig_nbformat": 4,
  "vscode": {
   "interpreter": {
    "hash": "aee8b7b246df8f9039afb4144a1f6fd8d2ca17a180786b69acc140d282b71a49"
   }
  }
 },
 "nbformat": 4,
 "nbformat_minor": 2
}
