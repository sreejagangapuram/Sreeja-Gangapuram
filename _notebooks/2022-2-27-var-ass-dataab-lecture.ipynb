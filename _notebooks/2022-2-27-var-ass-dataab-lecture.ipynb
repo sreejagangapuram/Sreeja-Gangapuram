{
 "cells": [
  {
   "cell_type": "markdown",
   "metadata": {},
   "source": [
    "# (Day 1) Unit 3 Sections 1-2 \n",
    "## Variables, Assignments, and Data Abstractions\n",
    "\n",
    "- title: (Day 1) Unit 3 Sections 1-2 - Variables, Assignments, and Data Abstractions\n",
    "- toc: true\n",
    "- permalink: /techtalk/books"
   ]
  },
  {
   "cell_type": "markdown",
   "metadata": {},
   "source": [
    "## Variables\n",
    "- Variable: An abstraction can hold a value and organizes data by assigning a name \n",
    "    - Contains three parts\n",
    "        - Naming \n",
    "            - Make the name as general as possible \n",
    "                - Not too specific \n",
    "                - Capitalized letters \n",
    "                - Don’t make it too vague \n",
    "                - Don’t put spaces \n",
    "        - Types of data \n",
    "            - Integer: number \n",
    "            - Text: word \n",
    "            - Boolean: data - true or false \n",
    "        - Store a list of data \n",
    "            - Don’t create a lot of values \n",
    "            - Make changes easily \n",
    "- Assignments: allows a program to change the value represented by a variable  \n",
    "    - See table for individual operators \n",
    "    - Changing values "
   ]
  },
  {
   "cell_type": "markdown",
   "metadata": {},
   "source": [
    "## Examples"
   ]
  },
  {
   "cell_type": "code",
   "execution_count": 1,
   "metadata": {},
   "outputs": [
    {
     "name": "stdout",
     "output_type": "stream",
     "text": [
      "table1 <class 'str'>\n",
      "4 <class 'int'>\n",
      "False <class 'bool'>\n"
     ]
    }
   ],
   "source": [
    "name = \"table1\" #string\n",
    "print(name, type(name))\n",
    "\n",
    "number = 4 #integer\n",
    "print(number, type(number))\n",
    "\n",
    "isAbsent = False\n",
    "print(isAbsent, type(isAbsent))"
   ]
  },
  {
   "cell_type": "code",
   "execution_count": 23,
   "metadata": {},
   "outputs": [
    {
     "name": "stdout",
     "output_type": "stream",
     "text": [
      "yellow\n"
     ]
    }
   ],
   "source": [
    "colors = [\"red\", \"orange\", \"yellow\"]\n",
    "print(colors[2])"
   ]
  },
  {
   "cell_type": "code",
   "execution_count": 2,
   "metadata": {},
   "outputs": [
    {
     "name": "stdout",
     "output_type": "stream",
     "text": [
      "2\n"
     ]
    }
   ],
   "source": [
    "a = 1\n",
    "b = 2\n",
    "a = b\n",
    "print(a)\n"
   ]
  },
  {
   "cell_type": "code",
   "execution_count": 3,
   "metadata": {},
   "outputs": [
    {
     "name": "stdout",
     "output_type": "stream",
     "text": [
      "1\n"
     ]
    }
   ],
   "source": [
    "a = 1\n",
    "b = a\n",
    "a = 2\n",
    "print(b)"
   ]
  },
  {
   "cell_type": "code",
   "execution_count": 4,
   "metadata": {},
   "outputs": [
    {
     "name": "stdout",
     "output_type": "stream",
     "text": [
      "10\n"
     ]
    }
   ],
   "source": [
    "currentScore = 10\n",
    "highScore = currentScore\n",
    "currentScore = 7\n",
    "print(highScore)"
   ]
  },
  {
   "cell_type": "markdown",
   "metadata": {},
   "source": [
    "## Problems to Solve "
   ]
  },
  {
   "cell_type": "code",
   "execution_count": 5,
   "metadata": {},
   "outputs": [
    {
     "name": "stdout",
     "output_type": "stream",
     "text": [
      "9\n",
      "9\n"
     ]
    }
   ],
   "source": [
    "num1 = 5\n",
    "num2 = 9\n",
    "num1 = num2\n",
    "\n",
    "print(num1)\n",
    "print(num2)"
   ]
  },
  {
   "cell_type": "code",
   "execution_count": 6,
   "metadata": {},
   "outputs": [
    {
     "name": "stdout",
     "output_type": "stream",
     "text": [
      "42\n",
      "42\n",
      "15\n"
     ]
    }
   ],
   "source": [
    "num1 = 15\n",
    "num2 = 25\n",
    "num3 = 42\n",
    "num2 = num3\n",
    "num3 = num1\n",
    "num1 = num2\n",
    "\n",
    "print(num1)\n",
    "print(num2)\n",
    "print(num3)"
   ]
  },
  {
   "cell_type": "markdown",
   "metadata": {},
   "source": [
    "Which of these will show the sum?"
   ]
  },
  {
   "cell_type": "code",
   "execution_count": 7,
   "metadata": {},
   "outputs": [
    {
     "name": "stdout",
     "output_type": "stream",
     "text": [
      "42\n",
      "84\n",
      "4284\n",
      "126\n"
     ]
    }
   ],
   "source": [
    "num2 += num1\n",
    "print(num1)\n",
    "print(num2)\n",
    "\n",
    "print(str(num1)+ str(num2))\n",
    "print(num1 + num2)"
   ]
  },
  {
   "cell_type": "markdown",
   "metadata": {},
   "source": [
    "## Data Abstraction\n",
    "\n",
    "- Take away aspects of data that aren’t used \n",
    "    - Variables and lists are used in data abstraction \n"
   ]
  },
  {
   "cell_type": "markdown",
   "metadata": {},
   "source": [
    "## Lists & Strings\n",
    "\n",
    " - List - ordered sequence of elements\n",
    "    - Element - individual value in a list that is assigned to a unique index\n",
    "    - Index - references the elements in a list or string \n",
    "    - String - ordered sequence of characters "
   ]
  },
  {
   "cell_type": "markdown",
   "metadata": {},
   "source": [
    "- Lists\n",
    "    - Allow for data abstraction \n",
    "    - Bundle variables together \n",
    "    - Can keep adding elements \n",
    "- List operations \n",
    "    - Assigning values to a list of indices \n",
    "    - Create an empty list and assign it to a variable \n",
    "    - Assign a copy of one list to another \n",
    "- Lists help manage complexity \n",
    "    - Improves code readability \n",
    "    - Don't need many variables \n",
    "    - Can apply mathematical computation"
   ]
  },
  {
   "cell_type": "markdown",
   "metadata": {},
   "source": [
    "## List Examples"
   ]
  },
  {
   "cell_type": "code",
   "execution_count": 1,
   "metadata": {},
   "outputs": [
    {
     "name": "stdout",
     "output_type": "stream",
     "text": [
      "['pink', 'yellow', 'green', 'blue', 'orange']\n"
     ]
    }
   ],
   "source": [
    "colorsList=[\"pink\", \"yellow\", \"green\", \"blue\", \"orange\"]\n",
    "\n",
    "print(colorsList)"
   ]
  },
  {
   "cell_type": "code",
   "execution_count": 8,
   "metadata": {},
   "outputs": [],
   "source": [
    "colorsList=[] # can be used if you want to create a list that can be filled with values later"
   ]
  },
  {
   "cell_type": "code",
   "execution_count": 6,
   "metadata": {},
   "outputs": [
    {
     "name": "stdout",
     "output_type": "stream",
     "text": [
      "['black', 'blue', 'orange', 'yellow', 'purple', 'green', 'pink']\n"
     ]
    }
   ],
   "source": [
    "# Reversing a list \n",
    "# copy of the list is made; the list isn't sorted in place\n",
    "def Reverse(lst): # defining variable: lst \n",
    "    new_lst = lst[::-1] \n",
    "    return new_lst\n",
    " \n",
    "lst = [\"pink\", \"green\", \"purple\", \"yellow\", \"orange\", \"blue\", \"black\"]\n",
    "print(Reverse(lst)) # reverse 1st"
   ]
  },
  {
   "cell_type": "markdown",
   "metadata": {},
   "source": [
    "## Data Abstraction Practice\n",
    "\n",
    "> Manage the complexity of the given code below using a list. Re-write the code segment in a less complex way, but with the same result."
   ]
  },
  {
   "cell_type": "code",
   "execution_count": 9,
   "metadata": {},
   "outputs": [
    {
     "name": "stdout",
     "output_type": "stream",
     "text": [
      "green\n",
      "red\n",
      "pink\n",
      "purple\n",
      "blue\n",
      "brown\n"
     ]
    }
   ],
   "source": [
    "color1=\"green\"\n",
    "color2=\"red\"\n",
    "color3=\"pink\"\n",
    "color4=\"purple\"\n",
    "color5=\"blue\"\n",
    "color6=\"brown\"\n",
    "\n",
    "print(color1)\n",
    "print(color2)\n",
    "print(color3)\n",
    "print(color4)\n",
    "print(color5)\n",
    "print(color6)"
   ]
  },
  {
   "cell_type": "markdown",
   "metadata": {},
   "source": [
    "**Answer**"
   ]
  },
  {
   "cell_type": "code",
   "execution_count": 9,
   "metadata": {},
   "outputs": [
    {
     "name": "stdout",
     "output_type": "stream",
     "text": [
      "green\n",
      "red\n",
      "pink\n",
      "purple\n",
      "blue\n",
      "brown\n"
     ]
    }
   ],
   "source": [
    "colorList=[\"green\", \"red\", \"pink\", \"purple\", \"blue\", \"brown\"]\n",
    "\n",
    "for i in colorList: \n",
    "    print (i)"
   ]
  },
  {
   "cell_type": "markdown",
   "metadata": {},
   "source": [
    "# Homework\n",
    "You will turn in a program that utilizes lists and variables as it's primary function, options could be a quiz, a sorter, database, or wherever your imagination brings you. You will be graded on how well you understood the concepts and if you used anything other than just the simplest parts"
   ]
  },
  {
   "cell_type": "markdown",
   "metadata": {},
   "source": [
    "Quiz template, if you do use it, fix the issues, and add more to it than it's current barebones state. I would recommend using it to create something related to school. "
   ]
  },
  {
   "cell_type": "code",
   "execution_count": 12,
   "metadata": {},
   "outputs": [
    {
     "name": "stdout",
     "output_type": "stream",
     "text": [
      "Hello, SreejaGangapuram running /usr/local/bin/python3\n",
      "You will be asked 3 questions.\n",
      "Question: Are you ready to take a test?\n",
      "Answer: yes\n",
      "Question: Who is the author of A Good Girl's Guide To Murder?\n",
      "Holly Jackson is correct!\n",
      "1\n",
      "Question: What is the rating of The Silent Patient?\n",
      "4.2 is correct!\n",
      "2\n",
      "Question: In what year were A Good Girl's Guide to Murder and The Silent Patient published?\n",
      "2019 is correct!\n",
      "3\n",
      "SreejaGangapuram you scored 3/3\n"
     ]
    }
   ],
   "source": [
    "import getpass, sys\n",
    "#used three variables (q1, q2, q3) for the questions. \n",
    "q1 = \"Who is the author of A Good Girl's Guide To Murder?\"\n",
    "q2 = \"What is the rating of The Silent Patient?\"\n",
    "q3 = \"In what year were A Good Girl's Guide to Murder and The Silent Patient published?\"\n",
    "\n",
    "#defining a dictionary using the above questions and answers. \n",
    "quiz = { q1: \"Holly Jackson\", \n",
    "         q2: \"4.2\",\n",
    "         q3: \"2019\"\n",
    "        }\n",
    "    \n",
    "\n",
    "def question_and_answer(prompt):\n",
    "    print(\"Question: \" + prompt)\n",
    "    msg = input()\n",
    "    print(\"Answer: \" + msg)\n",
    "    \n",
    "def question_with_response(prompt):\n",
    "    print(\"Question: \" + prompt)\n",
    "    msg = input()\n",
    "    return msg\n",
    "\n",
    "#evaluating the answer using the get() function on the dictionary. \"Python dictionary method get() returns a value for the given key. If key is not available then returns default value None.\"\n",
    "def evaluate_answer(question, response, correct):\n",
    "    if response == quiz.get(question):\n",
    "      print(response + \" is correct!\")\n",
    "      correct += 1\n",
    "    else:\n",
    "      print(response + \" is incorrect!\")\n",
    "    return correct\n",
    "    \n",
    "\n",
    "\n",
    "questions = 3\n",
    "correct = 0\n",
    "\n",
    "print('Hello, ' + getpass.getuser() + \" running \" + sys.executable)\n",
    "print(\"You will be asked \" + str(questions) + \" questions.\")\n",
    "question_and_answer(\"Are you ready to take a test?\")\n",
    "\n",
    "rsp = question_with_response(q1)\n",
    "correct = evaluate_answer(q1, rsp, correct)\n",
    "print(correct)\n",
    "\n",
    "rsp = question_with_response(q2)\n",
    "correct = evaluate_answer(q2, rsp, correct)\n",
    "print(correct)\n",
    "\n",
    "\n",
    "rsp = question_with_response(q3)\n",
    "correct = evaluate_answer(q3, rsp, correct)\n",
    "print(correct)\n",
    "\n",
    "print(getpass.getuser() + \" you scored \" + str(correct) +\"/\" + str(questions))"
   ]
  }
 ],
 "metadata": {
  "kernelspec": {
   "display_name": "Python 3.10.6 64-bit",
   "language": "python",
   "name": "python3"
  },
  "language_info": {
   "codemirror_mode": {
    "name": "ipython",
    "version": 3
   },
   "file_extension": ".py",
   "mimetype": "text/x-python",
   "name": "python",
   "nbconvert_exporter": "python",
   "pygments_lexer": "ipython3",
   "version": "3.10.6"
  },
  "orig_nbformat": 4,
  "vscode": {
   "interpreter": {
    "hash": "aee8b7b246df8f9039afb4144a1f6fd8d2ca17a180786b69acc140d282b71a49"
   }
  }
 },
 "nbformat": 4,
 "nbformat_minor": 2
}
