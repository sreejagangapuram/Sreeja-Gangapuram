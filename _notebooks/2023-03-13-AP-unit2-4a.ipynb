{
 "cells": [
  {
   "attachments": {},
   "cell_type": "markdown",
   "metadata": {},
   "source": [
    "#  Unit 2.4a Using Programs with Data, SQLAlchemy\n",
    "> Using Programs with Data is focused on SQL and database actions.  Part A focuses on SQLAlchemy and an OOP programming style,\n",
    "- toc: true\n",
    "- image: /images/python.png\n",
    "- categories: []\n",
    "- type: ap\n",
    "- week: 26"
   ]
  },
  {
   "attachments": {},
   "cell_type": "markdown",
   "metadata": {},
   "source": [
    "# Database and SQLAlchemy\n",
    "> In this blog we will explore using programs with data, focused on Databases.  We will use SQLite Database to learn more about using Programs with Data.  ***Use Debugging through these examples to examine Objects created in Code***.\n",
    "\n",
    "- College Board talks about ideas like \n",
    "    - Program Usage. \"iterative and interactive way when processing information\"\n",
    "    - Managing Data.  \"classifying data are part of the process in using programs\", \"data files in a Table\"\n",
    "    - Insight \"insight and knowledge can be obtained from ...  digitally represented information\"\n",
    "    - Filter systems. 'tools for finding information and recognizing patterns\"\n",
    "    - Application. \"the preserve has two databases\", \"an employee wants to count the number of book\"\n",
    "\n",
    "- PBL, Databases, Iterative/OOP\n",
    "    - Iterative. Refers to a sequence of instructions or code being repeated until a specific end result is achieved\n",
    "    - OOP. A computer programming model that organizes software design around data, or objects, rather than functions and logic\n",
    "    - SQL. Structured Query Language, abbreviated as SQL, is a language used in programming, managing, and structuring data \n"
   ]
  },
  {
   "attachments": {},
   "cell_type": "markdown",
   "metadata": {},
   "source": [
    "## Imports and Flask Objects\n",
    "> Defines and key object creations\n",
    "\n",
    "- Comment on where you have observed these working?  Provide a defintion of purpose.\n",
    "    1. Flask app object\n",
    "        - <mark>This has been used in previous tasks from trimesters 1 and 2. The app object's function is to symbolize your web application. It is used to set up and describe the behavior of your application and is an instance of the Flask class. The app object is used to register routes, specify extensions that your application might use, and set up configuration variables.</mark>\n",
    "    2. SQLAlchemy db object\n",
    "        - <mark>In my own CPT, I have seen this in action. I build and read databases using a sqlite database and the db object. The SQLAlchemy db object's function is to communicate with your application's database. It is an instance of the SQLAlchemy class and offers a high-level interface for Python code to communicate with databases.</mark>"
   ]
  },
  {
   "cell_type": "code",
   "execution_count": 2,
   "metadata": {},
   "outputs": [],
   "source": [
    "\"\"\"\n",
    "These imports define the key objects\n",
    "\"\"\"\n",
    "\n",
    "from flask import Flask\n",
    "from flask_sqlalchemy import SQLAlchemy\n",
    "\n",
    "\"\"\"\n",
    "These object and definitions are used throughout the Jupyter Notebook.\n",
    "\"\"\"\n",
    "\n",
    "# Setup of key Flask object (app)\n",
    "app = Flask(__name__)\n",
    "# Setup SQLAlchemy object and properties for the database (db)\n",
    "database = 'sqlite:///sqlite.db'  # path and filename of database\n",
    "app.config['SQLALCHEMY_TRACK_MODIFICATIONS'] = False\n",
    "app.config['SQLALCHEMY_DATABASE_URI'] = database\n",
    "app.config['SECRET_KEY'] = 'SECRET_KEY'\n",
    "db = SQLAlchemy()\n",
    "\n",
    "\n",
    "# This belongs in place where it runs once per project\n",
    "db.init_app(app)\n"
   ]
  },
  {
   "attachments": {},
   "cell_type": "markdown",
   "metadata": {},
   "source": [
    "## Model Definition\n",
    "> Define columns, initialization, and CRUD methods for users table in sqlite.db\n",
    "\n",
    "- Comment on these items in the class, purpose and defintion.\n",
    "    - class User\n",
    "        - <mark>creates variables for each of a user's characteristics and abstracts the user into a unique, named entity.</mark>\n",
    "    - db.Model inheritance: \n",
    "        - <mark>building block for user items.</mark>\n",
    "    - _init_ method\n",
    "        - <mark>answer</mark>\n",
    "    - ```@property```, ```@<column>.setter```\n",
    "        - <mark>These are the corresponding getter and setter methods.</mark>\n",
    "    - create, read, update, delete methods\n",
    "        - <mark>The data can be read, created, built into the database, updated, and deleted, as their names imply.</mark>"
   ]
  },
  {
   "cell_type": "code",
   "execution_count": 3,
   "metadata": {},
   "outputs": [],
   "source": [
    "\"\"\" database dependencies to support sqlite examples \"\"\"\n",
    "import datetime\n",
    "from datetime import datetime\n",
    "import json\n",
    "\n",
    "from sqlalchemy.exc import IntegrityError\n",
    "from werkzeug.security import generate_password_hash, check_password_hash\n",
    "\n",
    "\n",
    "''' Tutorial: https://www.sqlalchemy.org/library.html#tutorials, try to get into a Python shell and follow along '''\n",
    "\n",
    "# Define the User class to manage actions in the 'users' table\n",
    "# -- Object Relational Mapping (ORM) is the key concept of SQLAlchemy\n",
    "# -- a.) db.Model is like an inner layer of the onion in ORM\n",
    "# -- b.) User represents data we want to store, something that is built on db.Model\n",
    "# -- c.) SQLAlchemy ORM is layer on top of SQLAlchemy Core, then SQLAlchemy engine, SQL\n",
    "class User(db.Model):\n",
    "    __tablename__ = 'users'  # table name is plural, class name is singular\n",
    "\n",
    "    # Define the User schema with \"vars\" from object\n",
    "    id = db.Column(db.Integer, primary_key=True)\n",
    "    _name = db.Column(db.String(255), unique=False, nullable=False)\n",
    "    _uid = db.Column(db.String(255), unique=True, nullable=False)\n",
    "    _password = db.Column(db.String(255), unique=False, nullable=False)\n",
    "    _dob = db.Column(db.Date)\n",
    "\n",
    "    # constructor of a User object, initializes the instance variables within object (self)\n",
    "    def __init__(self, name, uid, password=\"123qwerty\", dob=datetime.today()):\n",
    "        self._name = name    # variables with self prefix become part of the object, \n",
    "        self._uid = uid\n",
    "        self.set_password(password)\n",
    "        if isinstance(dob, str):  # not a date type     \n",
    "            dob = date=datetime.today()\n",
    "        self._dob = dob\n",
    "\n",
    "    # a name getter method, extracts name from object\n",
    "    @property\n",
    "    def name(self):\n",
    "        return self._name\n",
    "    \n",
    "    # a setter function, allows name to be updated after initial object creation\n",
    "    @name.setter\n",
    "    def name(self, name):\n",
    "        self._name = name\n",
    "    \n",
    "    # a getter method, extracts uid from object\n",
    "    @property\n",
    "    def uid(self):\n",
    "        return self._uid\n",
    "    \n",
    "    # a setter function, allows uid to be updated after initial object creation\n",
    "    @uid.setter\n",
    "    def uid(self, uid):\n",
    "        self._uid = uid\n",
    "        \n",
    "    # check if uid parameter matches user id in object, return boolean\n",
    "    def is_uid(self, uid):\n",
    "        return self._uid == uid\n",
    "    \n",
    "    @property\n",
    "    def password(self):\n",
    "        return self._password[0:10] + \"...\" # because of security only show 1st characters\n",
    "\n",
    "    # update password, this is conventional method used for setter\n",
    "    def set_password(self, password):\n",
    "        \"\"\"Create a hashed password.\"\"\"\n",
    "        self._password = generate_password_hash(password, method='sha256')\n",
    "\n",
    "    # check password parameter against stored/encrypted password\n",
    "    def is_password(self, password):\n",
    "        \"\"\"Check against hashed password.\"\"\"\n",
    "        result = check_password_hash(self._password, password)\n",
    "        return result\n",
    "    \n",
    "    # dob property is returned as string, a string represents date outside object\n",
    "    @property\n",
    "    def dob(self):\n",
    "        dob_string = self._dob.strftime('%m-%d-%Y')\n",
    "        return dob_string\n",
    "    \n",
    "    # dob setter, verifies date type before it is set or default to today\n",
    "    @dob.setter\n",
    "    def dob(self, dob):\n",
    "        if isinstance(dob, str):  # not a date type     \n",
    "            dob = date=datetime.today()\n",
    "        self._dob = dob\n",
    "    \n",
    "    # age is calculated field, age is returned according to date of birth\n",
    "    @property\n",
    "    def age(self):\n",
    "        today = datetime.today()\n",
    "        return today.year - self._dob.year - ((today.month, today.day) < (self._dob.month, self._dob.day))\n",
    "    \n",
    "    # output content using str(object) is in human readable form\n",
    "    # output content using json dumps, this is ready for API response\n",
    "    def __str__(self):\n",
    "        return json.dumps(self.read())\n",
    "\n",
    "    # CRUD create/add a new record to the table\n",
    "    # returns self or None on error\n",
    "    def create(self):\n",
    "        try:\n",
    "            # creates a person object from User(db.Model) class, passes initializers\n",
    "            db.session.add(self)  # add prepares to persist person object to Users table\n",
    "            db.session.commit()  # SqlAlchemy \"unit of work pattern\" requires a manual commit\n",
    "            return self\n",
    "        except IntegrityError:\n",
    "            db.session.remove()\n",
    "            return None\n",
    "\n",
    "    # CRUD read converts self to dictionary\n",
    "    # returns dictionary\n",
    "    def read(self):\n",
    "        return {\n",
    "            \"id\": self.id,\n",
    "            \"name\": self.name,\n",
    "            \"uid\": self.uid,\n",
    "            \"dob\": self.dob,\n",
    "            \"age\": self.age,\n",
    "        }\n",
    "\n",
    "    # CRUD update: updates user name, password, phone\n",
    "    # returns self\n",
    "    def update(self, name=\"\", uid=\"\", password=\"\"):\n",
    "        \"\"\"only updates values with length\"\"\"\n",
    "        if len(name) > 0:\n",
    "            self.name = name\n",
    "        if len(uid) > 0:\n",
    "            self.uid = uid\n",
    "        if len(password) > 0:\n",
    "            self.set_password(password)\n",
    "        db.session.commit()\n",
    "        return self\n",
    "\n",
    "    # CRUD delete: remove self\n",
    "    # None\n",
    "    def delete(self):\n",
    "        db.session.delete(self)\n",
    "        db.session.commit()\n",
    "        return None\n",
    "    "
   ]
  },
  {
   "attachments": {},
   "cell_type": "markdown",
   "metadata": {},
   "source": [
    "## Initial Data\n",
    "> Uses SQLALchemy db.create_all() to initialize rows into sqlite.db\n",
    "\n",
    "- Comment on how these work?\n",
    "    1. Create All Tables from db Object\n",
    "        - <mark>utilizes a SQLALchemy database.initialize entries in sqlite.db using create_all()</mark>\n",
    "    2. User Object Constructors\n",
    "        - <mark>user objects are initialized using getter and setter functions.</mark> \n",
    "    3. Try / Except \n",
    "        - <mark>This tool removes duplicated or flawed data. It guarantees that no two users will have the same ID.</mark>"
   ]
  },
  {
   "cell_type": "code",
   "execution_count": 4,
   "metadata": {},
   "outputs": [
    {
     "name": "stdout",
     "output_type": "stream",
     "text": [
      "Records exist uid toby, or error.\n",
      "Records exist uid niko, or error.\n",
      "Records exist uid lex, or error.\n",
      "Records exist uid whit, or error.\n",
      "Records exist uid indi, or error.\n",
      "Records exist uid raven, or error.\n"
     ]
    }
   ],
   "source": [
    "\"\"\"Database Creation and Testing \"\"\"\n",
    "\n",
    "\n",
    "# Builds working data for testing\n",
    "def initUsers():\n",
    "    with app.app_context():\n",
    "        \"\"\"Create database and tables\"\"\"\n",
    "        db.create_all()\n",
    "        \"\"\"Tester data for table\"\"\"\n",
    "        u1 = User(name='Thomas Edison', uid='toby', password='123toby', dob=datetime(1847, 2, 11))\n",
    "        u2 = User(name='Nikola Tesla', uid='niko', password='123niko')\n",
    "        u3 = User(name='Alexander Graham Bell', uid='lex', password='123lex')\n",
    "        u4 = User(name='Eli Whitney', uid='whit', password='123whit')\n",
    "        u5 = User(name='Indiana Jones', uid='indi', dob=datetime(1920, 10, 21))\n",
    "        u6 = User(name='Marion Ravenwood', uid='raven', dob=datetime(1921, 10, 21))\n",
    "\n",
    "\n",
    "        users = [u1, u2, u3, u4, u5, u6]\n",
    "\n",
    "        \"\"\"Builds sample user/note(s) data\"\"\"\n",
    "        for user in users:\n",
    "            try:\n",
    "                '''add user to table'''\n",
    "                object = user.create()\n",
    "                print(f\"Created new uid {object.uid}\")\n",
    "            except:  # error raised if object nit created\n",
    "                '''fails with bad or duplicate data'''\n",
    "                print(f\"Records exist uid {user.uid}, or error.\")\n",
    "                \n",
    "initUsers()"
   ]
  },
  {
   "attachments": {},
   "cell_type": "markdown",
   "metadata": {},
   "source": [
    "## Check for given Credentials in users table in sqlite.db\n",
    "> Use of ORM Query object and custom methods to identify user to credentials uid and password\n",
    "\n",
    "- Comment on purpose of following\n",
    "    1. User.query.filter_by\n",
    "        - <mark>This locates the user whose uid fits the input by filtering the database by uid.</mark>\n",
    "    2. user.password\n",
    "        - <mark>When the uid is obtained, the function check-credentials compares the password entered with the user's password associated with the uid. This functions essentially as a security tool.</mark>\n",
    "\n",
    "\n",
    "         \n",
    "\n",
    "\n",
    "\n"
   ]
  },
  {
   "cell_type": "code",
   "execution_count": 5,
   "metadata": {},
   "outputs": [
    {
     "data": {
      "text/plain": [
       "True"
      ]
     },
     "execution_count": 5,
     "metadata": {},
     "output_type": "execute_result"
    }
   ],
   "source": [
    "# SQLAlchemy extracts single user from database matching User ID\n",
    "def find_by_uid(uid):\n",
    "    with app.app_context():\n",
    "        user = User.query.filter_by(_uid=uid).first()\n",
    "    return user # returns user object\n",
    "\n",
    "# Check credentials by finding user and verify password\n",
    "def check_credentials(uid, password):\n",
    "    # query email and return user record\n",
    "    user = find_by_uid(uid)\n",
    "    if user == None:\n",
    "        return False\n",
    "    if (user.is_password(password)):\n",
    "        return True\n",
    "    return False\n",
    "        \n",
    "check_credentials(\"indi\", \"123qwerty\")"
   ]
  },
  {
   "attachments": {},
   "cell_type": "markdown",
   "metadata": {},
   "source": [
    "## Create a new User in table in Sqlite.db\n",
    "> Uses SQLALchemy and custom user.create() method to add row.\n",
    "\n",
    "- Comment on purpose of following\n",
    "    1. user.find_by_uid() and try/except\n",
    "        - <mark>The find_by_uid() function locates the user whose uid fits the input by filtering the database by uid. The customer is then returned. The try/except function eliminates duplicated or flawed data. It guarantees that no two users will have the same ID.</mark>\n",
    "    2. user = User(...)\n",
    "        - <mark>this creates the user instances before the birthdate.</mark>\n",
    "    3. user.dob and try/except\n",
    "        - <mark>The user's birthdate is indicated by the variable user.dob. It makes sure that users enter their birthdates in the proper format; if not, an error will appear, and the date of birth will be set to the default. The try/except function eliminates duplicated or flawed data. It guarantees that no two users will have the same ID.</mark>\n",
    "    4. user.create() and try/except\n",
    "        - <mark>In response to input from the user, user.create() generates a new user to add to the sqlite table. The try/except function eliminates duplicated or flawed data. It guarantees that no two users will have the same ID.</mark>\n",
    "\n",
    "\n",
    "\n",
    "\n",
    "\n",
    "\n",
    "\n"
   ]
  },
  {
   "cell_type": "code",
   "execution_count": 5,
   "metadata": {},
   "outputs": [
    {
     "name": "stdout",
     "output_type": "stream",
     "text": [
      "Created\n",
      " {'id': 7, 'name': 'sreejagangapuram1', 'uid': 'sreeja123', 'dob': '10-29-2006', 'age': 16}\n"
     ]
    }
   ],
   "source": [
    "# Inputs, Try/Except, and SQLAlchemy work together to build a valid database object\n",
    "def create():\n",
    "    # optimize user time to see if uid exists\n",
    "    uid = input(\"Enter your user id:\")\n",
    "    user = find_by_uid(uid)\n",
    "    try:\n",
    "        print(\"Found\\n\", user.read())\n",
    "        return\n",
    "    except:\n",
    "        pass # keep going\n",
    "    \n",
    "    # request value that ensure creating valid object\n",
    "    name = input(\"Enter your name:\")\n",
    "    password = input(\"Enter your password\")\n",
    "    \n",
    "    # Initialize User object before date\n",
    "    user = User(name=name, \n",
    "                uid=uid, \n",
    "                password=password\n",
    "                )\n",
    "    \n",
    "    # create user.dob, fail with today as dob\n",
    "    dob = input(\"Enter your date of birth 'YYYY-MM-DD'\")\n",
    "    try:\n",
    "        user.dob = datetime.strptime(dob, '%Y-%m-%d').date()\n",
    "    except ValueError:\n",
    "        user.dob = datetime.today()\n",
    "        print(f\"Invalid date {dob} require YYYY-mm-dd, date defaulted to {user.dob}\")\n",
    "           \n",
    "    # write object to database\n",
    "    with app.app_context():\n",
    "        try:\n",
    "            object = user.create()\n",
    "            print(\"Created\\n\", object.read())\n",
    "        except:  # error raised if object not created\n",
    "            print(\"Unknown error uid {uid}\")\n",
    "        \n",
    "create()"
   ]
  },
  {
   "attachments": {},
   "cell_type": "markdown",
   "metadata": {},
   "source": [
    "## Reading users table in sqlite.db\n",
    "> Uses SQLALchemy query.all method to read data\n",
    "\n",
    "- Comment on purpose of following\n",
    "    1. User.query.all\n",
    "        - <mark>This depicts the entire table of User data, which is then specified as the local table variable and used to generate the JSON through an iterative process.</mark>\n",
    "    2. json_ready assignment, google List Comprehension\n",
    "        - <mark>The properly formatted JSON data created by the procedure next to it is represented by the json_ready variable. The code is then returned along with it.</mark>"
   ]
  },
  {
   "cell_type": "code",
   "execution_count": 6,
   "metadata": {},
   "outputs": [
    {
     "data": {
      "text/plain": [
       "[{'id': 1,\n",
       "  'name': 'Thomas Edison',\n",
       "  'uid': 'toby',\n",
       "  'dob': '02-11-1847',\n",
       "  'age': 176},\n",
       " {'id': 2,\n",
       "  'name': 'Nikola Tesla',\n",
       "  'uid': 'niko',\n",
       "  'dob': '03-15-2023',\n",
       "  'age': 0},\n",
       " {'id': 3,\n",
       "  'name': 'Alexander Graham Bell',\n",
       "  'uid': 'lex',\n",
       "  'dob': '03-15-2023',\n",
       "  'age': 0},\n",
       " {'id': 4,\n",
       "  'name': 'Eli Whitney',\n",
       "  'uid': 'whit',\n",
       "  'dob': '03-15-2023',\n",
       "  'age': 0},\n",
       " {'id': 5,\n",
       "  'name': 'Indiana Jones',\n",
       "  'uid': 'indi',\n",
       "  'dob': '10-21-1920',\n",
       "  'age': 102},\n",
       " {'id': 6,\n",
       "  'name': 'Marion Ravenwood',\n",
       "  'uid': 'raven',\n",
       "  'dob': '10-21-1921',\n",
       "  'age': 101},\n",
       " {'id': 7,\n",
       "  'name': 'sreejagangapuram1',\n",
       "  'uid': 'sreeja123',\n",
       "  'dob': '10-29-2006',\n",
       "  'age': 16}]"
      ]
     },
     "execution_count": 6,
     "metadata": {},
     "output_type": "execute_result"
    }
   ],
   "source": [
    "\n",
    "# SQLAlchemy extracts all users from database, turns each user into JSON\n",
    "def read():\n",
    "    with app.app_context():\n",
    "        table = User.query.all()\n",
    "    json_ready = [user.read() for user in table] # \"List Comprehensions\", for each user add user.read() to list\n",
    "    return json_ready\n",
    "\n",
    "read()"
   ]
  },
  {
   "attachments": {},
   "cell_type": "markdown",
   "metadata": {},
   "source": [
    "# Hacks\n",
    "- Add this Blog to you own Blogging site.  In the Blog add notes and observations on each code cell.\n",
    "- Change blog to your own database.\n",
    "- Add additional CRUD\n",
    "    - Add Update functionality to this blog.\n",
    "    - Add Delete functionality to this blog."
   ]
  },
  {
   "cell_type": "markdown",
   "metadata": {},
   "source": [
    "# College Board MC Quiz "
   ]
  },
  {
   "cell_type": "markdown",
   "metadata": {},
   "source": [
    "# Update "
   ]
  },
  {
   "cell_type": "code",
   "execution_count": null,
   "metadata": {},
   "outputs": [],
   "source": []
  },
  {
   "cell_type": "markdown",
   "metadata": {},
   "source": [
    "# Proof of Updating"
   ]
  },
  {
   "cell_type": "markdown",
   "metadata": {},
   "source": [
    "# Delete"
   ]
  },
  {
   "cell_type": "code",
   "execution_count": null,
   "metadata": {},
   "outputs": [],
   "source": []
  },
  {
   "cell_type": "markdown",
   "metadata": {},
   "source": [
    "# Proof of Deletion"
   ]
  }
 ],
 "metadata": {
  "kernelspec": {
   "display_name": "Python 3.10.9 64-bit",
   "language": "python",
   "name": "python3"
  },
  "language_info": {
   "codemirror_mode": {
    "name": "ipython",
    "version": 3
   },
   "file_extension": ".py",
   "mimetype": "text/x-python",
   "name": "python",
   "nbconvert_exporter": "python",
   "pygments_lexer": "ipython3",
   "version": "3.10.9"
  },
  "orig_nbformat": 4,
  "vscode": {
   "interpreter": {
    "hash": "b0fa6594d8f4cbf19f97940f81e996739fb7646882a419484c72d19e05852a7e"
   }
  }
 },
 "nbformat": 4,
 "nbformat_minor": 2
}
