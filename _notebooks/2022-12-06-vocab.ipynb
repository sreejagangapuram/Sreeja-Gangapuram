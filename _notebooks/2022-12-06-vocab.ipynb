{
 "cells": [
  {
   "cell_type": "markdown",
   "metadata": {},
   "source": [
    "# Units 2 and 3 Vocabulary\n",
    "\n",
    "- title: Units 2 and 3 Vocabulary\n",
    "- toc: true\n",
    "- categories: [notebook]"
   ]
  },
  {
   "cell_type": "markdown",
   "metadata": {},
   "source": [
    "<mark>Unit 2 Binary/Data Terms</mark>\n",
    "- **Bits**: most basic unit of informartion in computing. \n",
    "- **Bytes**: a group of 8 digits or bits operating as one unit. \n",
    "- **Hexadecimal / Nibbles**: base 16 numbering system \n",
    "- **Binary Numbers**: numbers expressed in the base two numbering systems. they are only 0s and 1s. \n",
    "- **Unsigned Integer**: non-negative integers. \n",
    "- **Signed Integer**: 32-bit datum, encodes an integer in the range ([-2147483648 to 2147483647]). \n",
    "- **Floating Point**: a positive or negative whole number with a decimal point. \n",
    "    - Examples: 5.2, 333.09, etc. \n",
    "- **Binary Data Abstractions**: reducing data to simplify it's entirety. \n",
    "- **Boolean**: logical data type that can have only the values true or false. "
   ]
  },
  {
   "cell_type": "code",
   "execution_count": 1,
   "metadata": {
    "vscode": {
     "languageId": "javascript"
    }
   },
   "outputs": [],
   "source": [
    "brands = [\"nike\", \"adidas\", \"underarmour\"] #string\n",
    "numbers = [1, 2, 3, 4, 5] #integer\n",
    "truefalse = [True, False, True] #boolean"
   ]
  },
  {
   "cell_type": "markdown",
   "metadata": {},
   "source": [
    "- **ASCII**: a character encoding scheme in which each character is represented by a 7-bit (originally) or 8-bit binary sequence. \n",
    "- **Unicode**: 16-bit character set which describes all of the keyboard characters.\n",
    "- **RGB**: a problem solving approach (algorithm) to find a satisfactory solution where finding an optimal or exact solution is impractical or impossible.\n",
    "- **Data Compression**: the process of encoding data so that is needs fewer bits/bytes to represent it.\n",
    "- **Lossy**: data encoding and compression technique that deliberately discards some data in the compression process.\n",
    "- **Lossless**: data compression algorithm that allows the original data to be perfectly reconstructed from the compressed data\n",
    "\n",
    "<mark>Unit 3 Algorithm/Programming Terms</mark>\n",
    "- **Variables**: a value that can change, depending on conditions or on information passed to the program."
   ]
  },
  {
   "cell_type": "code",
   "execution_count": 2,
   "metadata": {
    "vscode": {
     "languageId": "javascript"
    }
   },
   "outputs": [
    {
     "name": "stdout",
     "output_type": "stream",
     "text": [
      "The person has a salary of: 150k and has experience: True\n"
     ]
    }
   ],
   "source": [
    "# declaring my variables \n",
    "hours = 30\n",
    "sal = \"\"\n",
    "experienced = True\n",
    "# using operators to determine the salary\n",
    "if (hours >= 10):\n",
    "    sal = \"150k\"\n",
    "elif (hours >= 8):\n",
    "    sal = \"90k\"\n",
    "else:\n",
    "    sal = \"50k\"\n",
    "    experienced = False\n",
    "# printing the final statement \n",
    "print ('The person has a salary of:' , sal,'and has experience:' , experienced)"
   ]
  },
  {
   "cell_type": "markdown",
   "metadata": {},
   "source": [
    "- **Data Types**\n",
    "    - String (or str or text) - combination of any characters\n",
    "    - Character (or char) - single letters\n",
    "    - Integer (or int) - whole numbers\n",
    "    - Float (or Real) - numbers that contain decimal points, or for fractions.\n",
    "    - Boolean (or bool) - data is restricted to True/False or yes/no options \n",
    "- **Assignment Operators** - operator used to assign a new value to a variable. \n",
    "- **Managing Complexity with Variables**: with variables, a complex entity can be manipulated. \n",
    "- **Lists**: an abstract data type that represents a finite number of ordered values, where the same value may occur more than once."
   ]
  },
  {
   "cell_type": "code",
   "execution_count": 3,
   "metadata": {
    "vscode": {
     "languageId": "javascript"
    }
   },
   "outputs": [
    {
     "name": "stdout",
     "output_type": "stream",
     "text": [
      "['apple', 'grape', 'strawberry']\n"
     ]
    }
   ],
   "source": [
    "fruits = [\"apple\", \"grape\", \"strawberry\"]\n",
    "print (fruits)"
   ]
  },
  {
   "cell_type": "markdown",
   "metadata": {},
   "source": [
    "- **2D Lists**: a two-dimensional array can hold more than one set of data"
   ]
  },
  {
   "cell_type": "code",
   "execution_count": 4,
   "metadata": {
    "vscode": {
     "languageId": "javascript"
    }
   },
   "outputs": [
    {
     "name": "stdout",
     "output_type": "stream",
     "text": [
      "1\t2\t3\n",
      "4\t5\t6\n",
      "7\t8\t9\n",
      " \t0\t \n"
     ]
    }
   ],
   "source": [
    "keyboard = [[1, 2, 3], [4, 5, 6], [7, 8, 9], [\" \", 0, \" \"]]\n",
    "\n",
    "def print_matrix4(matrix):\n",
    "    for i in matrix:\n",
    "        print('\\t'.join(map(str, i)))\n",
    "        \n",
    "print_matrix4(keyboard)"
   ]
  },
  {
   "cell_type": "markdown",
   "metadata": {},
   "source": [
    "- **Dictionaries**: an abstract data type that defines an unordered collection of data as a set of key-value pairs\n",
    "- **Class**: written in a in a defined structure to create an object. \n",
    "- **Algorithms**: a list set of instructions, used to solve problems or perform tasks. \n",
    "    - **Sequence**: algorithms do tasks in the order of specification.\n",
    "    - **Selection**: helps choose two different outcomes based off a decision.\n",
    "    - **Iteration**: if a condition is true, then the code can repeat.\n",
    "- **Expressions**: combination of values and functions that are combined and interpreted to create a new value. \n",
    "- **Comparison Operators**: compare two values against one another.\n",
    "- **Booleans Expressions and Selection**: if a condition is true or false, there is a differnet outcome. \n",
    "- **Booleans Expressions and Iteration**: if a condition is true, the code repeats an earlier step. "
   ]
  },
  {
   "cell_type": "code",
   "execution_count": 1,
   "metadata": {},
   "outputs": [
    {
     "name": "stdout",
     "output_type": "stream",
     "text": [
      "Who is the author of It Ends With Us\n",
      "a. Holly Jackson\n",
      "b. Colleen Hoover\n",
      "c. Lisa Jewell\n",
      "d. Jennifer Barnes\n",
      "Who is the author of Percy Jackson\n",
      "a. JK Rowling\n",
      "b. Holly Jackson\n",
      "c. Rick Riordan\n",
      "d. Colleen Hoover\n",
      "When was a Good Girl's Guide to Murder Published\n",
      "a. 2019\n",
      "b. 2018\n",
      "c. 2020\n",
      "d. 2021\n",
      "When was It Starts with Us Published\n",
      "a. 2019\n",
      "b. 2020\n",
      "c. 2021\n",
      "d. 2022\n",
      "You got 4 correct answers\n"
     ]
    }
   ],
   "source": [
    "# used a dictionary with a question as the key and a list of multiple choice as values for the quiz\n",
    "quiz = {\"Who is the author of It Ends With Us\":[\"a. Holly Jackson\",\"b. Colleen Hoover\", \"c. Lisa Jewell\", \"d. Jennifer Barnes\"], \"Who is the author of Percy Jackson\":[\"a. JK Rowling\", \"b. Holly Jackson\",\"c. Rick Riordan\", \"d. Colleen Hoover\"]\n",
    ", \"When was a Good Girl's Guide to Murder Published\":[\"a. 2019\",\"b. 2018\", \"c. 2020\", \"d. 2021\"], \"When was It Starts with Us Published\":[\"a. 2019\",\"b. 2020\", \"c. 2021\", \"d. 2022\"]}\n",
    "\n",
    "# for the answers, used the question as the key and the multiple choice letter as the value \n",
    "answers = {\"Who is the author of It Ends With Us\":\"b\", \"Who is the author of Percy Jackson\":\"c\", \"When was a Good Girl's Guide to Murder Published\":\"a\", \"When was It Starts with Us Published\":\"d\"}\n",
    "count = 0\n",
    "\n",
    "# iterating through the dictonary's keys and values \n",
    "for k,v in quiz.items():\n",
    "\n",
    "# printing the key and it's values \n",
    "    print(k)\n",
    "    print(*v, sep = '\\n')\n",
    "\n",
    "# taking the user input for the answer, entering ab\n",
    "    user_input = input(\"Enter Your Answer\")\n",
    "\n",
    "# comparing that with the answer's value \n",
    "    if(answers.get(k)==user_input):\n",
    "\n",
    "        # incrementing the count \n",
    "     count = count +1\n",
    "\n",
    "# printing the user's score\n",
    "print('You got', count, 'correct answers')    "
   ]
  },
  {
   "cell_type": "markdown",
   "metadata": {},
   "source": [
    "- **Truth Tables**: have two values \n",
    "    - 0 = off, false\n",
    "    - 1 = on, true\n",
    "    - Examples \n",
    "        - 0 and 0 = false. And operator means both needs to be true. \n",
    "        - 0 or 1 = true. Either or. \n",
    "        - Use this in conditionals (selection). \n",
    "        - XOR = exclusive or. \n",
    "        - Or = similar to true or false. \n",
    "- **Characters**: display unit of information equivalent to one alphabetic letter or symbol.\n",
    "- **Strings**: ordered sequences of characters. \n",
    "- **Length**: the number of symbols output. \n",
    "- **Concatenation**: operation of joining two strings together.\n",
    "- **Upper**: used to check if the argument contains any uppercase characters. \n",
    "    - returns \"True\" if all characters in the string are uppercase, Otherwise, It returns \"False\".\n",
    "- **Lower**: returns the lowercase string from the given string.\n",
    "- **Traversing Strings**: the process of going through a String one character at a time, often using loops.\n",
    "- **Python If, Elif, Else conditionals**\n",
    "    - If: statement executes a piece of code when one statement is false and the following statement is true. \n",
    "    - Elif: first if statement isn't true, but want to check for another condition.\n",
    "    - Else: executes if \"if\" isn't true. \n",
    "- **Nested Selection Statements**: when more than one decision must be made before the appropriate action can be taken.\n",
    "- **Python For While loops with Range with List**: returns a sequence of numbers, starting from 0 by default, and increments by 1 (by default), and stops before a specified number.\n",
    "- **Combining loops with conditionals to Break, Continue**: a statement that controls the flow of execution depending on some condition.\n",
    "- **Procedural Abstraction**: have variable parameters. \n",
    "- **Python Def procedures**: procedure allows us to group a block of code under a name, known as a procedure name.\n",
    "- **Parameters**: variable used in a function to refer to one of the pieces of data provided as input to the function.\n",
    "- **Return Values**: function returns to the calling script or function when it completes its task."
   ]
  }
 ],
 "metadata": {
  "kernelspec": {
   "display_name": "Python 3.10.6 64-bit",
   "language": "python",
   "name": "python3"
  },
  "language_info": {
   "codemirror_mode": {
    "name": "ipython",
    "version": 3
   },
   "file_extension": ".py",
   "mimetype": "text/x-python",
   "name": "python",
   "nbconvert_exporter": "python",
   "pygments_lexer": "ipython3",
   "version": "3.10.6"
  },
  "orig_nbformat": 4,
  "vscode": {
   "interpreter": {
    "hash": "aee8b7b246df8f9039afb4144a1f6fd8d2ca17a180786b69acc140d282b71a49"
   }
  }
 },
 "nbformat": 4,
 "nbformat_minor": 2
}
