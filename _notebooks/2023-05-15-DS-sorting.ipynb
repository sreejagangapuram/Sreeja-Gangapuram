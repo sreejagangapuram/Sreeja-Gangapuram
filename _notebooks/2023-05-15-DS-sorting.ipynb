{
 "cells": [
  {
   "attachments": {},
   "cell_type": "markdown",
   "metadata": {},
   "source": [
    "# Sorting Algorithms\n",
    "> Working with Data Structures and manipulating data.\n",
    "\n",
    "- toc: true\n",
    "- categories: []\n",
    "- type: pbl\n",
    "- week: 34"
   ]
  },
  {
   "attachments": {},
   "cell_type": "markdown",
   "metadata": {},
   "source": [
    "[wget link](https://raw.githubusercontent.com/nighthawkcoders/APCSP/master/_notebooks/2023-05-15-DS-sorting.ipynb)"
   ]
  },
  {
   "cell_type": "code",
   "execution_count": null,
   "metadata": {},
   "outputs": [],
   "source": [
    "import random\n",
    "\n",
    "numbers = []\n",
    "for i in range(10):\n",
    "    numbers.append(random.randint(0,100))\n",
    "print(\"Random List\")\n",
    "print(numbers)"
   ]
  },
  {
   "attachments": {},
   "cell_type": "markdown",
   "metadata": {},
   "source": [
    "# Warm Up\n",
    "\n",
    "> Discuss with a partner... \n",
    "What are some strategies you would use to sort this list? (Don't worry about writing code for now)\n",
    "- PANDAS"
   ]
  },
  {
   "attachments": {},
   "cell_type": "markdown",
   "metadata": {},
   "source": [
    "# Explore\n",
    "\n",
    "Get into groups of 3\n",
    "\n",
    "We will be focusing on 4 algorithms today.\n",
    "\n",
    "We will look at the first one together, Bubble Sort\n",
    "\n",
    "![](images/bubble-sort.png)\n",
    "\n",
    "Bubble Sort What is happening with this sort?\n",
    "- It continuously compares neighboring elements in a list, swapping those that are out of order. The first two elements are compared, and if necessary, they are switched. Then, until it reaches the last element on the list, it compares the second and third elements, the third and fourth elements, and so on.\n",
    "\n",
    "\n",
    "Merge\n",
    "- It is a recursive algorithm that continuously splits an array in half until it cannot be divided any further. Merge sort is done each time the array is halved, and when all halves have been sorted, the merge operation is applied. This gives it the advantage of being able to sort through large arrays fairly quickly.\n",
    "- The merge operation joins together smaller sorted arrays into a larger one.\n",
    "\n",
    "\n",
    "Selection\n",
    "- It finds the lowest element in a list, swaps it with the first element, and repeats until it reaches the largest element.\n",
    "\n",
    "Insertion\n",
    "- if the number is smaller, proceed from one number to the next and swap it; otherwise, go from item to item in the list and make sure the number is in the proper place."
   ]
  },
  {
   "attachments": {},
   "cell_type": "markdown",
   "metadata": {},
   "source": [
    "## Practice\n",
    "\n",
    "[75, 17, 46, 80, 67, 45, 69, 79, 40, 0]\n",
    "\n",
    "How would you sort this list with... \n",
    "- Bubble Sort\n",
    "    - Up until the last element on the list, it compares the first and second element, then the second and third, then the third and fourth. If one number is smaller than the other when the numbers are compared, they will be switched.\n",
    "- Selection Sort\n",
    "    - The smallest number will be found by iterating through the list, and it will then be swapped with the list's starting point. The second smallest number will then be located and placed in the list's second position. This will continue until it encounters the greatest element.\n",
    "> Explain.\n",
    "\n",
    "[88, 39, 53, 39, 58, 43, 74, 81, 71, 51]\n",
    "\n",
    "How would you sort this list with... \n",
    "- Merge Sort\n",
    "    - The list would be cut in half repeatedly until it could no longer be sorted. When it can no longer be divided in half, everything is sorted after performing the merge sort on each half. Then, it rejoins the two lists that were split into one list.\n",
    "- Insertion Sort\n",
    "    - compares the next number to the first number in the list, starting from the first. If the amount is less, they switch. The process continues until the entire list has been processed. The algorithm will examine the list and move a number if it is not in the proper location.\n",
    "> Explain.\n"
   ]
  },
  {
   "attachments": {},
   "cell_type": "markdown",
   "metadata": {},
   "source": [
    "# Sorting Words\n",
    "> Sorting strings works in the same way as integers. Using your expertise algorithm, sort the following list of random words."
   ]
  },
  {
   "cell_type": "code",
   "execution_count": 21,
   "metadata": {},
   "outputs": [
    {
     "name": "stdout",
     "output_type": "stream",
     "text": [
      "Random List\n",
      "['cleanse', 'insure', 'monomineral', 'aculeated', 'Baalitical', 'wiredrawn', 'unnabbed', 'Imperata', 'parakinetic', 'sequester']\n"
     ]
    },
    {
     "name": "stderr",
     "output_type": "stream",
     "text": [
      "[nltk_data] Downloading package words to\n",
      "[nltk_data]     /Users/johnmortensen/nltk_data...\n",
      "[nltk_data]   Package words is already up-to-date!\n"
     ]
    }
   ],
   "source": [
    "import nltk\n",
    "import random\n",
    "from nltk.corpus import words\n",
    "nltk.download('words')  # Download the word list (only required once)\n",
    "english_words = words.words()\n",
    "\n",
    "def new_words():\n",
    "    # You can now use the 'english_words' list in your code\n",
    "    random_words = []\n",
    "    for i in range(10):\n",
    "        random_words.append(english_words[random.randint(0,len(english_words))])\n",
    "    return random_words\n",
    "        \n",
    "\n",
    "print(\"Random List\")\n",
    "print(new_words())"
   ]
  },
  {
   "attachments": {},
   "cell_type": "markdown",
   "metadata": {},
   "source": [
    "## Bubble Sort Poopcorn Hack\n",
    "> Mortensen did this hack in class."
   ]
  },
  {
   "cell_type": "code",
   "execution_count": 24,
   "metadata": {},
   "outputs": [
    {
     "name": "stdout",
     "output_type": "stream",
     "text": [
      "['semihyperbolical', 'samesome', 'paradoxidian', 'pyruline', 'gangliocyte', 'reckoning', 'intertubular', 'copelate', 'cered', 'amyloid']\n",
      "['amyloid', 'cered', 'copelate', 'gangliocyte', 'intertubular', 'paradoxidian', 'pyruline', 'reckoning', 'samesome', 'semihyperbolical']\n"
     ]
    }
   ],
   "source": [
    "words = new_words()\n",
    "print(words)\n",
    "def bubbleSort(list):\n",
    "    n = len(list) - 1  # list are indexed 0 to n-1, len is n\n",
    "    \n",
    "    # Traverse through list with i index\n",
    "    for i in range(n):\n",
    "        swapped = False  # optimize code, so it exits if now swaps on inner loop\n",
    "\n",
    "        # Inner traversal using j index\n",
    "        for j in range(n-i):  # n-i as positions on right are in order in bubble\n",
    " \n",
    "            # Swap if the element KeyN is greater KeyN1\n",
    "            keyN = list[j]\n",
    "            keyN1 = list[j+1]\n",
    "            if keyN > keyN1:\n",
    "                swapped = True\n",
    "                list[j], list[j + 1] = list[j + 1], list[j]  # single line swap\n",
    "         \n",
    "        if not swapped:  # if no swaps on inner pass, list is sorted\n",
    "            return  # exit function\n",
    "        \n",
    "bubbleSort(words)\n",
    "print(words)"
   ]
  },
  {
   "attachments": {},
   "cell_type": "markdown",
   "metadata": {},
   "source": [
    "## Selection Sort Poopcorn Hack\n",
    "> Mortensen did this hack in class."
   ]
  },
  {
   "cell_type": "code",
   "execution_count": 29,
   "metadata": {},
   "outputs": [
    {
     "name": "stdout",
     "output_type": "stream",
     "text": [
      "['ainoi', 'accipient', 'marvelry', 'rampageously', 'unpalatial', 'diaminogen', 'Pacht', 'tweak', 'faddism', 'elegant']\n",
      "['Pacht', 'accipient', 'ainoi', 'diaminogen', 'elegant', 'faddism', 'marvelry', 'rampageously', 'tweak', 'unpalatial']\n"
     ]
    }
   ],
   "source": [
    "words = new_words()\n",
    "print(words)\n",
    "def selectionSort(list):\n",
    "    n = len(list)  # length is n\n",
    "    \n",
    "    # List is traversed from index 0 to n-1, n elements\n",
    "    for i in range(n):\n",
    "        smallI = i  # small index is captured\n",
    "        smallV = list[i]\n",
    "\n",
    "        # Inner traversal looks at elements after i\n",
    "        for j in range(i+1, n):\n",
    "            # Save reference if less\n",
    "            keyV = list[j]\n",
    "            if keyV < smallV:\n",
    "                smallI = j  # small index is replaced\n",
    "                smallV = keyV\n",
    "        \n",
    "        # swap smallest to current i positon, sorting left to right\n",
    "        list[i], list[smallI] = list[smallI], list[i]  # single line swap \n",
    "        \n",
    "selectionSort(words)\n",
    "print(words)"
   ]
  },
  {
   "attachments": {},
   "cell_type": "markdown",
   "metadata": {},
   "source": [
    "## Discuss \n",
    "Answer the following with your group.\n",
    "\n",
    "- When should you use each algorithm? What makes an algorithm the right choice? \n",
    "    - Space and Time complexity\n",
    "- Given the following lists...\n",
    "    - [0, 2, 6, 4, 8, 10]\n",
    "    - [Elephant, Banana, Cat, Dog, Apple]\n",
    "    - [29, 13, 83, 47, 32, 78, 100, 60, 65, 15, 24, 9, 40, 68, 53, 8, 90, 58, 39, 32, 34, 91, 74, 94, 49, 87, 34, 87, 23, 17, 27, 2, 38, 58, 84, 15, 9, 46, 74, 40, 44, 8, 55, 28, 81, 92, 81, 88, 53, 38, 19, 21, 9, 54, 21, 67, 3, 41, 3, 74, 13, 71, 70, 45, 5, 36, 80, 64, 97, 86, 73, 74, 94, 79, 49, 32, 20, 68, 64, 69, 1, 77, 31, 56, 100, 80, 48, 75, 85, 93, 67, 57, 26, 56, 43, 53, 59, 28, 67, 50]\n",
    "Select the algorithm you believe is best for each, explain.\n",
    "- You can use insertion to change the 6 and 4 in the first one. For the second list, selection is the best sorting algorithm because it looks for the smallest item in the list, which would be apple since it is alphabetically at the bottom of the list, and is finished once it reaches the end of the list, making it the most efficient. The ideal sorting technique for the third list would be merge because it performs the best on larger data sets. It would then exchange it with elephant and so on. The data set can be divided in half repeatedly, sorted, and then combined back into a single list."
   ]
  },
  {
   "attachments": {},
   "cell_type": "markdown",
   "metadata": {},
   "source": [
    "## HACKS\n",
    "> Provided below is a Bubble Sort Algorithm sorting a list of dictionaries based off of selected key.\n",
    "\n",
    "- Now it's time to do some coding...\n",
    "\n",
    "- Run code and then research and answer these questions...\n",
    "    - Is a list and/or dictionary in python considered a primitive or collection type?  Why?\n",
    "        - Lists and dictionaries are both referred to as collection types in Python.\n",
    "        - Data types including integers, floats, booleans, and characters are referred to as primitive types. These types do not contain subtypes and only store a single value. Collection types, on the other hand, are data structures that may store numerous values or objects.\n",
    "        - In Python, lists are arranged groups of elements, where each member may be any sort of data. Because they allow for the storage of several values in a single variable, lists are regarded as collection types.\n",
    "    - Is the list passed into bubble sort \"pass-by-value\" or \"pass-by-reference? Describe why in relation to output.\n",
    "        - When a list is supplied into a function like bubble sort in Python, it is passed by reference.\n",
    "        - In other words, any modifications made to the list inside the function will have an impact on the list outside the function. This is because, instead of making a new copy of the complete list when a list is supplied to a function, its'reference' is passed.\n",
    "        - In the case of bubble sort, the initial list is changed when elements are switched around within the function. Because the function operates directly on the referred list, the adjustments are reflected in the output.\n",
    "- Implement new cell(s) and/or organize cells to do the following.\n",
    "    - Create your own list\n",
    "    - Use your expertise sorting algorithm (selection, insertion, merge). Note, I got my bubble sort from Geek for Geeks and made modifications. Each student in a group should have a unique algorithm.\n",
    "    - Test your list with my bubble sort\n",
    "    - Test my list with your new sort\n",
    "    - Research analysis on sorting: comparisons, swaps, time.  Build this into your hacks.\n",
    "    - Find a better way to print the data, key first, then other elements in viewable form.\n",
    "\n",
    "Use the code below to help guide your adventure"
   ]
  },
  {
   "cell_type": "code",
   "execution_count": 1,
   "metadata": {},
   "outputs": [
    {
     "name": "stdout",
     "output_type": "stream",
     "text": [
      "Original\n",
      "[{'name': 'Risa', 'age': 18, 'city': 'New York'}, {'name': 'John', 'age': 63, 'city': 'Eugene'}, {'name': 'Shekar', 'age': 18, 'city': 'San Francisco'}, {'name': 'Ryan', 'age': 21, 'city': 'Los Angeles'}]\n",
      "name\n",
      "[{'name': 'John', 'age': 63, 'city': 'Eugene'}, {'name': 'Risa', 'age': 18, 'city': 'New York'}, {'name': 'Ryan', 'age': 21, 'city': 'Los Angeles'}, {'name': 'Shekar', 'age': 18, 'city': 'San Francisco'}]\n",
      "age\n",
      "[{'name': 'Risa', 'age': 18, 'city': 'New York'}, {'name': 'Shekar', 'age': 18, 'city': 'San Francisco'}, {'name': 'Ryan', 'age': 21, 'city': 'Los Angeles'}, {'name': 'John', 'age': 63, 'city': 'Eugene'}]\n",
      "city\n",
      "[{'name': 'John', 'age': 63, 'city': 'Eugene'}, {'name': 'Ryan', 'age': 21, 'city': 'Los Angeles'}, {'name': 'Risa', 'age': 18, 'city': 'New York'}, {'name': 'Shekar', 'age': 18, 'city': 'San Francisco'}]\n"
     ]
    }
   ],
   "source": [
    "\"\"\"\n",
    "* Creator: Nighthawk Coding Society\n",
    "Bubble Sort of a List of Dictionaries with optimizations, every key in row 0 is used to sort and resort list.\n",
    "\"\"\"\n",
    "\n",
    "# bubble sorts a list of dictionaries, base off of provided key\n",
    "def bubbleSort(list, key):\n",
    "    n = len(list) - 1  # list are indexed 0 to n-1, len is n\n",
    "    \n",
    "    # Traverse through list with i index\n",
    "    for i in range(n):\n",
    "        swapped = False  # optimize code, so it exits if now swaps on inner loop\n",
    "\n",
    "        # Inner traversal using j index\n",
    "        for j in range(n-i):  # n-i as positions on right are in order in bubble\n",
    " \n",
    "            # Swap if the element KeyN is greater KeyN1\n",
    "            keyN = list[j].get(key)\n",
    "            keyN1 = list[j+1].get(key)\n",
    "            if keyN > keyN1:\n",
    "                swapped = True\n",
    "                list[j], list[j + 1] = list[j + 1], list[j]  # single line swap\n",
    "         \n",
    "        if not swapped:  # if no swaps on inner pass, list is sorted\n",
    "            return  # exit function\n",
    "    \n",
    "\n",
    "if __name__ == \"__main__\":\n",
    "    # list/dictionary sample\n",
    "    list_of_people = [\n",
    "    {\"name\": \"Risa\", \"age\": 18, \"city\": \"New York\"},\n",
    "    {\"name\": \"John\", \"age\": 63, \"city\": \"Eugene\"},\n",
    "    {\"name\": \"Shekar\", \"age\": 18, \"city\": \"San Francisco\"},\n",
    "    {\"name\": \"Ryan\", \"age\": 21, \"city\": \"Los Angeles\"}\n",
    "    ]\n",
    "    \n",
    "    # assuming uniform keys, pick 1st row as source of keys\n",
    "    key_row = list_of_people[0]\n",
    "\n",
    "    # print list as defined\n",
    "    print(\"Original\")\n",
    "    print(list_of_people)\n",
    "    \n",
    "    for key in key_row:  # finds each key in the row\n",
    "        print(key)\n",
    "        bubbleSort(list_of_people, key)  # sort list of people\n",
    "        print(list_of_people)"
   ]
  },
  {
   "cell_type": "markdown",
   "metadata": {},
   "source": [
    "# My Own Book List and Merge Sorting Algorithm"
   ]
  },
  {
   "cell_type": "code",
   "execution_count": 2,
   "metadata": {},
   "outputs": [
    {
     "name": "stdout",
     "output_type": "stream",
     "text": [
      "Sorted book titles:\n",
      "1984\n",
      "Animal Farm\n",
      "Brave New World\n",
      "Pride and Prejudice\n",
      "The Catcher in the Rye\n",
      "The Chronicles of Narnia\n",
      "The Great Gatsby\n",
      "The Hobbit\n",
      "The Lord of the Rings\n",
      "To Kill a Mockingbird\n"
     ]
    }
   ],
   "source": [
    "def merge_sort(arr):\n",
    "    if len(arr) <= 1:\n",
    "        return arr\n",
    "\n",
    "    mid = len(arr) // 2\n",
    "    left_half = arr[:mid]\n",
    "    right_half = arr[mid:]\n",
    "\n",
    "    left_half = merge_sort(left_half)\n",
    "    right_half = merge_sort(right_half)\n",
    "\n",
    "    return merge(left_half, right_half)\n",
    "\n",
    "\n",
    "def merge(left, right):\n",
    "    merged = []\n",
    "    i = j = 0\n",
    "\n",
    "    while i < len(left) and j < len(right):\n",
    "        if left[i] < right[j]:\n",
    "            merged.append(left[i])\n",
    "            i += 1\n",
    "        else:\n",
    "            merged.append(right[j])\n",
    "            j += 1\n",
    "\n",
    "    while i < len(left):\n",
    "        merged.append(left[i])\n",
    "        i += 1\n",
    "\n",
    "    while j < len(right):\n",
    "        merged.append(right[j])\n",
    "        j += 1\n",
    "\n",
    "    return merged\n",
    "\n",
    "\n",
    "book_list = [\n",
    "    \"The Great Gatsby\",\n",
    "    \"To Kill a Mockingbird\",\n",
    "    \"1984\",\n",
    "    \"Pride and Prejudice\",\n",
    "    \"The Catcher in the Rye\",\n",
    "    \"The Lord of the Rings\",\n",
    "    \"Animal Farm\",\n",
    "    \"Brave New World\",\n",
    "    \"The Hobbit\",\n",
    "    \"The Chronicles of Narnia\"\n",
    "]\n",
    "\n",
    "sorted_books = merge_sort(book_list)\n",
    "\n",
    "print(\"Sorted book titles:\")\n",
    "for book in sorted_books:\n",
    "    print(book)\n"
   ]
  },
  {
   "cell_type": "markdown",
   "metadata": {},
   "source": [
    "# Testing List with Bubble Sort"
   ]
  },
  {
   "cell_type": "code",
   "execution_count": 3,
   "metadata": {},
   "outputs": [
    {
     "name": "stdout",
     "output_type": "stream",
     "text": [
      "Sorted book titles:\n",
      "1984\n",
      "Animal Farm\n",
      "Brave New World\n",
      "Pride and Prejudice\n",
      "The Catcher in the Rye\n",
      "The Chronicles of Narnia\n",
      "The Great Gatsby\n",
      "The Hobbit\n",
      "The Lord of the Rings\n",
      "To Kill a Mockingbird\n"
     ]
    }
   ],
   "source": [
    "def bubble_sort(arr):\n",
    "    n = len(arr)\n",
    "\n",
    "    for i in range(n - 1):\n",
    "        for j in range(n - i - 1):\n",
    "            if arr[j] > arr[j + 1]:\n",
    "                arr[j], arr[j + 1] = arr[j + 1], arr[j]\n",
    "\n",
    "    return arr\n",
    "\n",
    "\n",
    "book_list = [\n",
    "    \"The Great Gatsby\",\n",
    "    \"To Kill a Mockingbird\",\n",
    "    \"1984\",\n",
    "    \"Pride and Prejudice\",\n",
    "    \"The Catcher in the Rye\",\n",
    "    \"The Lord of the Rings\",\n",
    "    \"Animal Farm\",\n",
    "    \"Brave New World\",\n",
    "    \"The Hobbit\",\n",
    "    \"The Chronicles of Narnia\"\n",
    "]\n",
    "\n",
    "sorted_books = bubble_sort(book_list)\n",
    "\n",
    "print(\"Sorted book titles:\")\n",
    "for book in sorted_books:\n",
    "    print(book)\n"
   ]
  },
  {
   "cell_type": "markdown",
   "metadata": {},
   "source": [
    "# Testing List Using New Sort "
   ]
  },
  {
   "cell_type": "markdown",
   "metadata": {},
   "source": [
    "This divides the array into smaller arrays. Then, the arrays are compared. "
   ]
  },
  {
   "cell_type": "code",
   "execution_count": 4,
   "metadata": {},
   "outputs": [
    {
     "name": "stdout",
     "output_type": "stream",
     "text": [
      "Sorted book titles:\n",
      "1984\n",
      "Animal Farm\n",
      "Brave New World\n",
      "Pride and Prejudice\n",
      "The Catcher in the Rye\n",
      "The Chronicles of Narnia\n",
      "The Great Gatsby\n",
      "The Hobbit\n",
      "The Lord of the Rings\n",
      "To Kill a Mockingbird\n"
     ]
    }
   ],
   "source": [
    "def quicksort(arr):\n",
    "    if len(arr) <= 1:\n",
    "        return arr\n",
    "\n",
    "    pivot = arr[len(arr) // 2]\n",
    "    left = [book for book in arr if book < pivot]\n",
    "    middle = [book for book in arr if book == pivot]\n",
    "    right = [book for book in arr if book > pivot]\n",
    "\n",
    "    return quicksort(left) + middle + quicksort(right)\n",
    "\n",
    "\n",
    "book_list = [\n",
    "    \"The Great Gatsby\",\n",
    "    \"To Kill a Mockingbird\",\n",
    "    \"1984\",\n",
    "    \"Pride and Prejudice\",\n",
    "    \"The Catcher in the Rye\",\n",
    "    \"The Lord of the Rings\",\n",
    "    \"Animal Farm\",\n",
    "    \"Brave New World\",\n",
    "    \"The Hobbit\",\n",
    "    \"The Chronicles of Narnia\"\n",
    "]\n",
    "\n",
    "sorted_books = quicksort(book_list)\n",
    "\n",
    "print(\"Sorted book titles:\")\n",
    "for book in sorted_books:\n",
    "    print(book)\n"
   ]
  },
  {
   "cell_type": "markdown",
   "metadata": {},
   "source": [
    "# Reaserch \n",
    "\n",
    "Bubble Sort \n",
    "- Comparisons: In the worst scenario, Bubble Sort performs a maximum of n*(n-1)/2 comparisons, where n is the number of elements. In the worst situation, Bubble Sort can make up to n*(n-1)/2 swaps.\n",
    "- Time Complexity: The worst-case and average time complexity for Bubble Sort is O(n2).\n",
    "\n",
    "Insertion Sort \n",
    "- Comparisons: In the worst situation, Insertion Sort performs up to n*(n-1)/2 comparisons.\n",
    "- Swaps: In the worst situation, Insertion Sort performs up to n*(n-1)/2 swaps.\n",
    "- Insertion Sort's average and worst-case time complexity are both O(n2). It works well on small or partially sorted lists, though.\n",
    "\n",
    "Selection Sort \n",
    "- Comparisons: In the worst scenario, Selection Sort performs up to n*(n-1)/2 comparisons.\n",
    "- Swaps: In the worst scenario, Selection Sort performs a maximum of n swaps.\n",
    "- Time Complexity: The worst-case and average time complexity of a selection sort is O(n2).\n",
    "\n",
    "Merge Sort \n",
    "- Comparisons: In the worst situation, Merge Sort performs up to n*log(n) comparisons.\n",
    "- Swaps: Merge Sort does not involve element swapping and needs extra RAM for merging.\n",
    "- Time Complexity: The worst-case and average time complexity for Merge Sort is O(n log n)."
   ]
  },
  {
   "cell_type": "markdown",
   "metadata": {},
   "source": [
    "# Better Way to Print \n",
    "Used a zip() function. "
   ]
  },
  {
   "cell_type": "code",
   "execution_count": 6,
   "metadata": {},
   "outputs": [
    {
     "name": "stdout",
     "output_type": "stream",
     "text": [
      "Sorted book titles:\n",
      "3. 1984\n",
      "7. Animal Farm\n",
      "8. Brave New World\n",
      "4. Pride and Prejudice\n",
      "5. The Catcher in the Rye\n",
      "10. The Chronicles of Narnia\n",
      "1. The Great Gatsby\n",
      "9. The Hobbit\n",
      "6. The Lord of the Rings\n",
      "2. To Kill a Mockingbird\n"
     ]
    }
   ],
   "source": [
    "book_list = [\n",
    "    \"The Great Gatsby\",\n",
    "    \"To Kill a Mockingbird\",\n",
    "    \"1984\",\n",
    "    \"Pride and Prejudice\",\n",
    "    \"The Catcher in the Rye\",\n",
    "    \"The Lord of the Rings\",\n",
    "    \"Animal Farm\",\n",
    "    \"Brave New World\",\n",
    "    \"The Hobbit\",\n",
    "    \"The Chronicles of Narnia\"\n",
    "]\n",
    "\n",
    "sorted_books = sorted(enumerate(book_list), key=lambda x: x[1])\n",
    "\n",
    "print(\"Sorted book titles:\")\n",
    "for index, book in sorted_books:\n",
    "    print(f\"{index + 1}. {book}\")\n"
   ]
  }
 ],
 "metadata": {
  "kernelspec": {
   "display_name": "Python 3.10.11 64-bit",
   "language": "python",
   "name": "python3"
  },
  "language_info": {
   "codemirror_mode": {
    "name": "ipython",
    "version": 3
   },
   "file_extension": ".py",
   "mimetype": "text/x-python",
   "name": "python",
   "nbconvert_exporter": "python",
   "pygments_lexer": "ipython3",
   "version": "3.10.11"
  },
  "orig_nbformat": 4,
  "vscode": {
   "interpreter": {
    "hash": "bd385fe162c5ca0c84973b7dd5c518456272446b2b64e67c2a69f949ca7a1754"
   }
  }
 },
 "nbformat": 4,
 "nbformat_minor": 2
}
