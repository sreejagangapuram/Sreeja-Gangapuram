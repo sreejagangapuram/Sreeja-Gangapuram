{
 "cells": [
  {
   "cell_type": "markdown",
   "metadata": {},
   "source": [
    "# JavaScript Personal Usage\n",
    "\n",
    "- layout: default\n",
    "- badges: false\n",
    "- permalink: /techtalk/javascriptusage\n",
    "- image: /images/javascript.png\n",
    "- categories: [1.A, 3.B]\n",
    "- type: pbl\n",
    "- week: 5"
   ]
  },
  {
   "cell_type": "markdown",
   "metadata": {},
   "source": [
    "\n",
    "# What is Javascript?\n",
    "Javascript is a scripting or programming language which can be used to create dynamic web pages. It is used in most of the Web Browsers. \n",
    "It is used in Web development. Javascript can be used to add behaviour to button click events."
   ]
  },
  {
   "cell_type": "markdown",
   "metadata": {},
   "source": [
    "# Javascript Math"
   ]
  },
  {
   "cell_type": "code",
   "execution_count": null,
   "metadata": {
    "vscode": {
     "languageId": "shellscript"
    }
   },
   "outputs": [
    {
     "name": "stdout",
     "output_type": "stream",
     "text": [
      "2\n",
      "10\n"
     ]
    }
   ],
   "source": [
    "// function to find square root of any number\n",
    "function findSquateRoot(number) {\n",
    "    const res = Math.sqrt(number);\n",
    "    console.log(res);\n",
    "  }\n",
    "\n",
    "  findSquateRoot(4) \n",
    "  findSquateRoot(100) "
   ]
  },
  {
   "cell_type": "code",
   "execution_count": null,
   "metadata": {
    "vscode": {
     "languageId": "shellscript"
    }
   },
   "outputs": [
    {
     "name": "stdout",
     "output_type": "stream",
     "text": [
      "30\n",
      "70\n"
     ]
    }
   ],
   "source": [
    "// function to add two numbers and print to console\n",
    "function addNumbers(num1, num2) {\n",
    "    sum = num1 + num2\n",
    "    console.log(sum);\n",
    "  }\n",
    "\n",
    "  addNumbers(10, 20)\n",
    "  addNumbers(30, 40)"
   ]
  },
  {
   "cell_type": "code",
   "execution_count": null,
   "metadata": {
    "vscode": {
     "languageId": "shellscript"
    }
   },
   "outputs": [
    {
     "data": {
      "text/plain": [
       "200"
      ]
     },
     "execution_count": 30,
     "metadata": {},
     "output_type": "execute_result"
    }
   ],
   "source": [
    "// function to return product of two numbers\n",
    "function findProduct(num1, num2) {\n",
    "    return num1 * num2\n",
    "  }\n",
    "\n",
    "  findProduct(10, 20)\n",
    " "
   ]
  },
  {
   "cell_type": "markdown",
   "metadata": {},
   "source": [
    "# Javascript Date Functions"
   ]
  },
  {
   "cell_type": "code",
   "execution_count": null,
   "metadata": {
    "vscode": {
     "languageId": "shellscript"
    }
   },
   "outputs": [
    {
     "name": "stdout",
     "output_type": "stream",
     "text": [
      "Current Date and Time: Mon Sep 26 2022 07:05:13 GMT-0700 (Pacific Daylight Time)\n"
     ]
    }
   ],
   "source": [
    "//Date function to print current date and time in Pacific Timezone\n",
    "const date_1 = new Date();\n",
    "console.log(\"Current Date and Time: \"+d);\n"
   ]
  },
  {
   "cell_type": "code",
   "execution_count": null,
   "metadata": {
    "vscode": {
     "languageId": "shellscript"
    }
   },
   "outputs": [
    {
     "name": "stdout",
     "output_type": "stream",
     "text": [
      "Current Date and Time: 9/26/2022, 7:49:26 PM\n"
     ]
    }
   ],
   "source": [
    "//Date function to print current date and time in Indian Standard Time\n",
    "const date_2 = new Date().toLocaleString('en-US', {timeZone: 'Asia/Kolkata'})\n",
    "console.log(\"Current Date and Time: \"+d2);"
   ]
  },
  {
   "cell_type": "markdown",
   "metadata": {},
   "source": [
    "# Javascript Using String functions"
   ]
  },
  {
   "cell_type": "code",
   "execution_count": 54,
   "metadata": {
    "vscode": {
     "languageId": "shellscript"
    }
   },
   "outputs": [
    {
     "name": "stdout",
     "output_type": "stream",
     "text": [
      "Word length: 15\n"
     ]
    }
   ],
   "source": [
    "//Using length function to find length of a word\n",
    "let word_1 = \"Sreeja Journal!\";\n",
    "let length_1 = text.length;\n",
    "console.log(\"Word length: \"+length_1 );\n"
   ]
  },
  {
   "cell_type": "code",
   "execution_count": 61,
   "metadata": {
    "vscode": {
     "languageId": "shellscript"
    }
   },
   "outputs": [
    {
     "name": "stdout",
     "output_type": "stream",
     "text": [
      "Sreeja's Blog.\n"
     ]
    }
   ],
   "source": [
    "//Javascript escaping\n",
    "let word_4 = \"Sreeja\\'s Blog.\"\n",
    "console.log(word_4);"
   ]
  }
 ],
 "metadata": {
  "kernelspec": {
   "display_name": "Bash",
   "language": "bash",
   "name": "bash"
  },
  "language_info": {
   "codemirror_mode": "shell",
   "file_extension": ".sh",
   "mimetype": "text/x-sh",
   "name": "bash"
  },
  "orig_nbformat": 4,
  "vscode": {
   "interpreter": {
    "hash": "aee8b7b246df8f9039afb4144a1f6fd8d2ca17a180786b69acc140d282b71a49"
   }
  }
 },
 "nbformat": 4,
 "nbformat_minor": 2
}
