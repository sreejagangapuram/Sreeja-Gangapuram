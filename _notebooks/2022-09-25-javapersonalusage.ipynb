{
 "cells": [
  {
   "cell_type": "markdown",
   "metadata": {},
   "source": [
    "# JavaScript Personal Usage\n",
    "\n",
    "- layout: default\n",
    "- badges: false\n",
    "- permalink: /techtalk/javascriptusage\n",
    "- image: /images/javascript.png\n",
    "- categories: [1.A, 3.B]\n",
    "- type: pbl\n",
    "- week: 5"
   ]
  },
  {
   "cell_type": "markdown",
   "metadata": {},
   "source": [
    "\n",
    "# What is Javascript?\n",
    "Javascript is a scripting or programming language which can be used to create dynamic web pages. It is used in most of the Web Browsers. \n",
    "It is used in Web development. Javascript can be used to add behaviour to button click events."
   ]
  },
  {
   "cell_type": "code",
   "execution_count": 3,
   "metadata": {},
   "outputs": [
    {
     "ename": "SyntaxError",
     "evalue": "Identifier 'para' has already been declared",
     "output_type": "error",
     "traceback": [
      "evalmachine.<anonymous>:1",
      "const para = document.querySelector('p');",
      "^",
      "",
      "SyntaxError: Identifier 'para' has already been declared",
      "    at Script.runInThisContext (node:vm:129:12)",
      "    at Object.runInThisContext (node:vm:313:38)",
      "    at run ([eval]:1020:15)",
      "    at onRunRequest ([eval]:864:18)",
      "    at onMessage ([eval]:828:13)",
      "    at process.emit (node:events:513:28)",
      "    at emit (node:internal/child_process:937:14)",
      "    at process.processTicksAndRejections (node:internal/process/task_queues:83:21)"
     ]
    }
   ],
   "source": [
    "const para = document.querySelector('p');\n",
    "\n",
    "para.addEventListener('click', updateStudentName);\n",
    "\n",
    "function updateStudentName() {\n",
    "  const name = prompt('Enter a new name');\n",
    "  console.log(\"Course: APCSP\");\n",
    "  para.textContent = `Student: ${name}`;\n",
    "}"
   ]
  }
 ],
 "metadata": {
  "kernelspec": {
   "display_name": "JavaScript (Node.js)",
   "language": "javascript",
   "name": "javascript"
  },
  "language_info": {
   "file_extension": ".js",
   "mimetype": "application/javascript",
   "name": "javascript",
   "version": "18.9.1"
  },
  "orig_nbformat": 4,
  "vscode": {
   "interpreter": {
    "hash": "aee8b7b246df8f9039afb4144a1f6fd8d2ca17a180786b69acc140d282b71a49"
   }
  }
 },
 "nbformat": 4,
 "nbformat_minor": 2
}
