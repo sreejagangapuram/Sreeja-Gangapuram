{
 "cells": [
  {
   "cell_type": "markdown",
   "metadata": {},
   "source": [
    "\n",
    "What is Javascript\n",
    "Javascript is a scripting or programming language which can be used to create dynamic web pages. \n",
    "It is used in Web development. Javascript can be used to add behaviour to button click events."
   ]
  },
  {
   "cell_type": "code",
   "execution_count": null,
   "metadata": {},
   "outputs": [
    {
     "ename": "",
     "evalue": "",
     "output_type": "error",
     "traceback": [
      "\u001b[1;31mFailed to start the Kernel. \n",
      "\u001b[1;31mKernel JavaScript (Node.js) is not usable. Check the Jupyter output tab for more information. \n",
      "View Jupyter <a href='command:jupyter.viewOutput'>log</a> for further details."
     ]
    }
   ],
   "source": [
    "const para = document.querySelector('p');\n",
    "\n",
    "para.addEventListener('click', updateStudentName);\n",
    "\n",
    "function updateStudentName() {\n",
    "  const name = prompt('Enter a new name');\n",
    "  console.log(\"Course: APCSP\");\n",
    "  para.textContent = `Student: ${name}`;\n",
    "}"
   ]
  }
 ],
 "metadata": {
  "kernelspec": {
   "display_name": "JavaScript (Node.js)",
   "language": "javascript",
   "name": "javascript"
  },
  "language_info": {
   "name": "javascript"
  },
  "orig_nbformat": 4
 },
 "nbformat": 4,
 "nbformat_minor": 2
}
