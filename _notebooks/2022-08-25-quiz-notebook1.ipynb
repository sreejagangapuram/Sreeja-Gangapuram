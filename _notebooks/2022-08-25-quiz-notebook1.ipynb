{
 "cells": [
  {
   "cell_type": "markdown",
   "metadata": {},
   "source": [
    "# Vocabulary/Key Learning Quiz\n",
    "> Hello to Python Hacks"
   ]
  },
  {
   "cell_type": "code",
   "execution_count": 2,
   "metadata": {},
   "outputs": [
    {
     "name": "stdout",
     "output_type": "stream",
     "text": [
      "Hello, SreejaGangapuram running /usr/local/bin/python3\n",
      "You will be asked 3 questions.\n",
      "Question: Are you ready to take a test?\n",
      "Answer: yes\n",
      "Question: Which key word in Python is used to define a function?\n",
      "def is correct!\n",
      "1\n",
      "Question: What is a synonym for a procedure?\n",
      "function is correct!\n",
      "2\n",
      "Question: What do two or more lines of code form?\n",
      "sequence is correct!\n",
      "3\n",
      "SreejaGangapuram you scored 3/3\n"
     ]
    }
   ],
   "source": [
    "import getpass, sys\n",
    "\n",
    "def question_and_answer(prompt):\n",
    "    print(\"Question: \" + prompt)\n",
    "    msg = input()\n",
    "    print(\"Answer: \" + msg)\n",
    "    \n",
    "def question_with_response(prompt):\n",
    "    print(\"Question: \" + prompt)\n",
    "    msg = input()\n",
    "    return msg\n",
    "\n",
    "def evaluate_answer(answer, response, correct):\n",
    "    if response == answer:\n",
    "      print(response + \" is correct!\")\n",
    "      correct += 1\n",
    "    else:\n",
    "      print(response + \" is incorrect!\")\n",
    "    return correct\n",
    "    \n",
    "\n",
    "\n",
    "questions = 3\n",
    "correct = 0\n",
    "\n",
    "print('Hello, ' + getpass.getuser() + \" running \" + sys.executable)\n",
    "print(\"You will be asked \" + str(questions) + \" questions.\")\n",
    "question_and_answer(\"Are you ready to take a test?\")\n",
    "\n",
    "rsp = question_with_response(\"Which key word in Python is used to define a function?\")\n",
    "correct = evaluate_answer(\"def\", rsp, correct)\n",
    "print(correct)\n",
    "\n",
    "rsp = question_with_response(\"What is a synonym for a procedure?\")\n",
    "correct = evaluate_answer(\"function\", rsp, correct)\n",
    "print(correct)\n",
    "\n",
    "\n",
    "rsp = question_with_response(\"What do two or more lines of code form?\")\n",
    "correct = evaluate_answer(\"sequence\", rsp, correct)\n",
    "print(correct)\n",
    "\n",
    "print(getpass.getuser() + \" you scored \" + str(correct) +\"/\" + str(questions))"
   ]
  }
 ],
 "metadata": {
  "kernelspec": {
   "display_name": "Python 3.10.6 64-bit",
   "language": "python",
   "name": "python3"
  },
  "language_info": {
   "codemirror_mode": {
    "name": "ipython",
    "version": 3
   },
   "file_extension": ".py",
   "mimetype": "text/x-python",
   "name": "python",
   "nbconvert_exporter": "python",
   "pygments_lexer": "ipython3",
   "version": "3.10.6"
  },
  "orig_nbformat": 4,
  "vscode": {
   "interpreter": {
    "hash": "aee8b7b246df8f9039afb4144a1f6fd8d2ca17a180786b69acc140d282b71a49"
   }
  }
 },
 "nbformat": 4,
 "nbformat_minor": 2
}
