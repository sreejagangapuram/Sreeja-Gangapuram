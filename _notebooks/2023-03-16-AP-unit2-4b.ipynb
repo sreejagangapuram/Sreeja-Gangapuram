{
 "cells": [
  {
   "attachments": {},
   "cell_type": "markdown",
   "metadata": {},
   "source": [
    "#  Unit 2.4b Using Programs with Data, SQL\n",
    "> Using Programs with Data is focused on SQL and database actions.  Part B focuses on learning SQL commands, connections, and curses using an Imperative programming style,\n",
    "- toc: true\n",
    "- image: /images/python.png\n",
    "- categories: []\n",
    "- type: ap\n",
    "- week: 26"
   ]
  },
  {
   "attachments": {},
   "cell_type": "markdown",
   "metadata": {},
   "source": [
    "# Database Programming is Program with Data\n",
    "> Each Tri 2 Final Project should be an example of a Program with Data. \n",
    "\n",
    ">  Prepare to use SQLite in common Imperative Technique\n",
    "- Explore [SQLite Connect object](https://www.tutorialspoint.com/python_data_access/python_sqlite_establishing_connection.htm) to establish database connection\n",
    "- Explore [SQLite Cursor Object](https://www.tutorialspoint.com/python_data_access/python_sqlite_cursor_object.htm) to fetch data from a table within a database\n"
   ]
  },
  {
   "attachments": {},
   "cell_type": "markdown",
   "metadata": {},
   "source": [
    "## Schema of Users table in Sqlite.db\n",
    "> Uses PRAGMA statement to read schema.\n",
    "\n",
    "Describe Schema, here is resource [Resource](https://www.sqlite.org/index.html)\n",
    "- What is a database schema?\n",
    "    - <mark>The columns of a database.</mark>\n",
    "- What is the purpose of identity Column in SQL database?\n",
    "    - <mark>Can help up differentiate something. Easier to acess the data.</mark>\n",
    "- What is the purpose of a primary key in SQL database?\n",
    "    - <mark>A primary key in the SQL database is the iD. It makes it easier to acess the data in the databse. A better primary key for the database is the userid. A name might not be a good idea because someone might have the same name, so a uid is better.</mark>\n",
    "- What are the Data Types in SQL table?\n",
    "    - <mark>Integer, string, bollean, images, list, dictionary, class.</mark>"
   ]
  },
  {
   "cell_type": "code",
   "execution_count": 1,
   "metadata": {},
   "outputs": [
    {
     "name": "stdout",
     "output_type": "stream",
     "text": [
      "(0, 'id', 'INTEGER', 1, None, 1)\n",
      "(1, '_name', 'VARCHAR(255)', 1, None, 0)\n",
      "(2, '_uid', 'VARCHAR(255)', 1, None, 0)\n",
      "(3, '_password', 'VARCHAR(255)', 1, None, 0)\n",
      "(4, '_dob', 'DATE', 0, None, 0)\n"
     ]
    }
   ],
   "source": [
    "import sqlite3\n",
    "\n",
    "database = 'instance/sqlite.db' # this is location of database\n",
    "\n",
    "def schema():\n",
    "    \n",
    "    # Connect to the database file\n",
    "    conn = sqlite3.connect(database)\n",
    "\n",
    "    # Create a cursor object to execute SQL queries\n",
    "    cursor = conn.cursor()\n",
    "    \n",
    "    # Fetch results of Schema\n",
    "    results = cursor.execute(\"PRAGMA table_info('users')\").fetchall()\n",
    "\n",
    "    # Print the results\n",
    "    for row in results:\n",
    "        print(row)\n",
    "\n",
    "    # Close the database connection\n",
    "    conn.close()\n",
    "    \n",
    "schema()\n"
   ]
  },
  {
   "attachments": {},
   "cell_type": "markdown",
   "metadata": {},
   "source": [
    "## Reading Users table in Sqlite.db\n",
    "> Uses SQL SELECT statement to read data\n",
    "\n",
    "- What is a connection object?  After you google it, what do you think it does?\n",
    "    - <mark>A Connection object, which is produced by the sqlite3.connect() function, represents each active SQLite database. Their primary functions are transaction management and the creation of cursor objects.</mark>\n",
    "- Same for cursor object?\n",
    "    - <mark>for the customer, makes the code simpler. an instance that can be used to call methods that run SQLite statements and retrieve data from query result sets.</mark>\n",
    "- Look at conn object and cursor object in VSCode debugger.  What attributes are in the object?\n",
    "    - <mark>Special variables, function variables, and class variables are properties of the cursor object. Conn object features include function variables and unique variables. </mark>\n",
    "- Is \"results\" an object?  How do you know?\n",
    "    - <mark>As a result of its atributes, results is an object.</mark>"
   ]
  },
  {
   "cell_type": "code",
   "execution_count": 3,
   "metadata": {},
   "outputs": [
    {
     "name": "stdout",
     "output_type": "stream",
     "text": [
      "(1, 'Thomas Edison', 'toby', 'sha256$qsLkrHTLapi1xuc1$48ee4d004daa3dbbcbd953af2edeccd505c03d3593002621c6f5287de109cb3c', '1847-02-11')\n",
      "(2, 'Nikola Tesla', 'niko', 'sha256$wPCxIjGRlKBc1ntJ$a44ba18fb49f4478a31b5fb0e7e0877269958bfa7539e9bf695033dd006bab3f', '2023-03-15')\n",
      "(3, 'Alexander Graham Bell', 'lex', 'sha256$bA9sxd12bCHHnwAT$cfc676fab2283f7fc163a65578ad872c89b1de0322b3f942885bb1dbeb694d82', '2023-03-15')\n",
      "(4, 'Eli Whitney', 'whit', 'sha256$xD8x8EYTSSSSiYFG$a6a79d103c16b20289375845862d5bc71f19dceddfc8893c4c365becfd7ca233', '2023-03-15')\n",
      "(5, 'Indiana Jones', 'indi', 'sha256$frBw4dB0cce8X3pn$e5bec3674d10f0e12a1702eb044e9ab39a57b3010cb7d175ce8cb2366509ed0e', '1920-10-21')\n",
      "(6, 'Marion Ravenwood', 'raven', 'sha256$jP3j1DOYjizf54Y7$c01c7184ca148853200fdf7e556ba3daa22078276af7f355f492c84e3e03e317', '1921-10-21')\n",
      "(7, 'sreejagangapuram1', 'sreeja123', 'sha256$FwFRDtRJ1J7ffRxJ$2f84cabbb0ef7037a70f6e396c7ed2d18155ae2dc64ba790d0aeeb49687797bf', '2006-10-29')\n"
     ]
    }
   ],
   "source": [
    "import sqlite3\n",
    "\n",
    "def read():\n",
    "    # Connect to the database file\n",
    "    conn = sqlite3.connect(database)\n",
    "\n",
    "    # Create a cursor object to execute SQL queries\n",
    "    cursor = conn.cursor()\n",
    "    \n",
    "    # Execute a SELECT statement to retrieve data from a table\n",
    "    results = cursor.execute('SELECT * FROM users').fetchall()\n",
    "\n",
    "    # Print the results\n",
    "    if len(results) == 0:\n",
    "        print(\"Table is empty\")\n",
    "    else:\n",
    "        for row in results:\n",
    "            print(row)\n",
    "\n",
    "    # Close the cursor and connection objects\n",
    "    cursor.close()\n",
    "    conn.close()\n",
    "    \n",
    "read()"
   ]
  },
  {
   "attachments": {},
   "cell_type": "markdown",
   "metadata": {},
   "source": [
    "## Create a new User in table in Sqlite.db\n",
    "> Uses SQL INSERT to add row\n",
    "-  Compare create() in both SQL lessons.  What is better or worse in the two implementations?\n",
    "    - <mark>This one uses cursor and con, but the last one uses the try and accept. This one is better, because the other one seems more complex. For dob, its very complicated, but for the sqlite 3, you only need one line of code to build the table headers.</mark>\n",
    "-  Explain purpose of SQL INSERT.   Is this the same as User __init__?\n",
    "    - <mark>The purpose of SQL insert is to add new data to a database. No, it is not the same as user _init_.</mark>"
   ]
  },
  {
   "cell_type": "code",
   "execution_count": 4,
   "metadata": {},
   "outputs": [
    {
     "name": "stdout",
     "output_type": "stream",
     "text": [
      "A new user record apple has been created\n"
     ]
    }
   ],
   "source": [
    "import sqlite3\n",
    "\n",
    "def create():\n",
    "    name = input(\"Enter your name:\")\n",
    "    uid = input(\"Enter your user id:\")\n",
    "    password = input(\"Enter your password\")\n",
    "    dob = input(\"Enter your date of birth 'YYYY-MM-DD'\")\n",
    "    \n",
    "    # Connect to the database file\n",
    "    conn = sqlite3.connect(database)\n",
    "\n",
    "    # Create a cursor object to execute SQL commands\n",
    "    cursor = conn.cursor()\n",
    "\n",
    "    try:\n",
    "        # Execute an SQL command to insert data into a table\n",
    "        cursor.execute(\"INSERT INTO users (_name, _uid, _password, _dob) VALUES (?, ?, ?, ?)\", (name, uid, password, dob))\n",
    "        \n",
    "        # Commit the changes to the database\n",
    "        conn.commit()\n",
    "        print(f\"A new user record {uid} has been created\")\n",
    "                \n",
    "    except sqlite3.Error as error:\n",
    "        print(\"Error while executing the INSERT:\", error)\n",
    "\n",
    "\n",
    "    # Close the cursor and connection objects\n",
    "    cursor.close()\n",
    "    conn.close()\n",
    "    \n",
    "create()"
   ]
  },
  {
   "attachments": {},
   "cell_type": "markdown",
   "metadata": {},
   "source": [
    "## Updating a User in table in Sqlite.db\n",
    "> Uses SQL UPDATE to modify password\n",
    "- What does the hacked part do?\n",
    "    - <mark>If the new password the user entered has fewer than two characters, the \"hacked\" portion becomes active. This is a crude method of saying that the password the user entered is invalid because it is unsafe.</mark>\n",
    "- Explain try/except, when would except occur?\n",
    "    - <mark>You can make code run using try up until an error, at which time the except condition kicks in. This enables software to offer failsafes for mistakes or improper user interactions.</mark>\n",
    "- What code seems to be repeated in each of these examples to point, why is it repeated?\n",
    "    - <mark>Every block requires the creation of the connection and pointer objects because they are both closed at the conclusion of each. They must be reactivated in order to be used once more.</mark>"
   ]
  },
  {
   "cell_type": "code",
   "execution_count": 3,
   "metadata": {},
   "outputs": [],
   "source": [
    "import sqlite3\n",
    "\n",
    "def update():\n",
    "    uid = input(\"Enter user id to update\")\n",
    "    password = input(\"Enter updated password\")\n",
    "    if len(password) < 2:\n",
    "        message = \"hacked\"\n",
    "        password = 'gothackednewpassword123'\n",
    "    else:\n",
    "        message = \"successfully updated\"\n",
    "\n",
    "    # Connect to the database file\n",
    "    conn = sqlite3.connect(database)\n",
    "\n",
    "    # Create a cursor object to execute SQL commands\n",
    "    cursor = conn.cursor()\n",
    "\n",
    "    try:\n",
    "        # Execute an SQL command to update data in a table\n",
    "        cursor.execute(\"UPDATE users SET _password = ? WHERE _uid = ?\", (password, uid))\n",
    "        if cursor.rowcount == 0:\n",
    "            # The uid was not found in the table\n",
    "            print(f\"No uid {uid} was not found in the table\")\n",
    "        else:\n",
    "            print(f\"The row with user id {uid} the password has been {message}\")\n",
    "            conn.commit()\n",
    "    except sqlite3.Error as error:\n",
    "        print(\"Error while executing the UPDATE:\", error)\n",
    "        \n",
    "    \n",
    "    # Close the cursor and connection objects\n",
    "    cursor.close()\n",
    "    conn.close()\n",
    "    \n",
    "#update()\n"
   ]
  },
  {
   "attachments": {},
   "cell_type": "markdown",
   "metadata": {},
   "source": [
    "## Delete a User in table in Sqlite.db\n",
    "> Uses a delete function to remove a user based on a user input of the id.\n",
    "- Is DELETE a dangerous operation?  Why?\n",
    "    - <mark>Yes, delete is a dangerous operation. This is because you can accidentally delete user data. When left to human inputs, DELETE can be hazardous. User error could result in the loss of crucial data that is hard to recover.\n",
    "</mark>\n",
    "- In the print statemements, what is the \"f\" and what does {uid} do?\n",
    "    - <mark>The \"f\" sets a print statement to read \"uid\" rather than the literal text \"uid\" as the value of the variable uid.</mark>"
   ]
  },
  {
   "cell_type": "code",
   "execution_count": 4,
   "metadata": {},
   "outputs": [],
   "source": [
    "import sqlite3\n",
    "\n",
    "def delete():\n",
    "    uid = input(\"Enter user id to delete\")\n",
    "\n",
    "    # Connect to the database file\n",
    "    conn = sqlite3.connect(database)\n",
    "\n",
    "    # Create a cursor object to execute SQL commands\n",
    "    cursor = conn.cursor()\n",
    "    \n",
    "    try:\n",
    "        cursor.execute(\"DELETE FROM users WHERE _uid = ?\", (uid,))\n",
    "        if cursor.rowcount == 0:\n",
    "            # The uid was not found in the table\n",
    "            print(f\"No uid {uid} was not found in the table\")\n",
    "        else:\n",
    "            # The uid was found in the table and the row was deleted\n",
    "            print(f\"The row with uid {uid} was successfully deleted\")\n",
    "        conn.commit()\n",
    "    except sqlite3.Error as error:\n",
    "        print(\"Error while executing the DELETE:\", error)\n",
    "        \n",
    "    # Close the cursor and connection objects\n",
    "    cursor.close()\n",
    "    conn.close()\n",
    "    \n",
    "#delete()"
   ]
  },
  {
   "attachments": {},
   "cell_type": "markdown",
   "metadata": {},
   "source": [
    "# Menu Interface to CRUD operations\n",
    "> CRUD and Schema interactions from one location by running menu. Observe input at the top of VSCode, observe output underneath code cell.\n",
    "- Why does the menu repeat?\n",
    "    - <mark>Recursion is taking place. The code calls itself as it runs, so the menu keeps repeating.</mark>\n",
    "- Could you refactor this menu?  Make it work with a List?\n",
    "    - <mark>Yes, it is possible to refactor the menu and make it work with a list.</mark>"
   ]
  },
  {
   "cell_type": "code",
   "execution_count": 10,
   "metadata": {},
   "outputs": [
    {
     "name": "stdout",
     "output_type": "stream",
     "text": [
      "(1, 'Thomas Edison', 'toby', 'sha256$qsLkrHTLapi1xuc1$48ee4d004daa3dbbcbd953af2edeccd505c03d3593002621c6f5287de109cb3c', '1847-02-11')\n",
      "(2, 'Nikola Tesla', 'niko', 'sha256$wPCxIjGRlKBc1ntJ$a44ba18fb49f4478a31b5fb0e7e0877269958bfa7539e9bf695033dd006bab3f', '2023-03-15')\n",
      "(3, 'Alexander Graham Bell', 'lex', 'sha256$bA9sxd12bCHHnwAT$cfc676fab2283f7fc163a65578ad872c89b1de0322b3f942885bb1dbeb694d82', '2023-03-15')\n",
      "(4, 'Eli Whitney', 'whit', 'sha256$xD8x8EYTSSSSiYFG$a6a79d103c16b20289375845862d5bc71f19dceddfc8893c4c365becfd7ca233', '2023-03-15')\n",
      "(5, 'Indiana Jones', 'indi', 'sha256$frBw4dB0cce8X3pn$e5bec3674d10f0e12a1702eb044e9ab39a57b3010cb7d175ce8cb2366509ed0e', '1920-10-21')\n",
      "(6, 'Marion Ravenwood', 'raven', 'sha256$jP3j1DOYjizf54Y7$c01c7184ca148853200fdf7e556ba3daa22078276af7f355f492c84e3e03e317', '1921-10-21')\n",
      "(7, 'sreejagangapuram1', 'sreeja123', 'sha256$FwFRDtRJ1J7ffRxJ$2f84cabbb0ef7037a70f6e396c7ed2d18155ae2dc64ba790d0aeeb49687797bf', '2006-10-29')\n",
      "(8, 'apple', 'apple', 'apple', '2006-29-10')\n"
     ]
    }
   ],
   "source": [
    "# Menu, to run other cells from one control point\n",
    "def menu():\n",
    "    operation = input(\"Enter: (C)reate (R)ead (U)pdate or (D)elete or (S)chema\")\n",
    "    if operation.lower() == 'c':\n",
    "        create()\n",
    "    elif operation.lower() == 'r':\n",
    "        read()\n",
    "    elif operation.lower() == 'u':\n",
    "        update()\n",
    "    elif operation.lower() == 'd':\n",
    "        delete()\n",
    "    elif operation.lower() == 's':\n",
    "        schema()\n",
    "    elif len(operation)==0: # Escape Key\n",
    "        return\n",
    "    else:\n",
    "        print(\"Please enter c, r, u, or d\") \n",
    "    menu() # recursion, repeat menu\n",
    "        \n",
    "try:\n",
    "    menu() # start menu\n",
    "except:\n",
    "    print(\"Perform Jupyter 'Run All' prior to starting menu\")\n"
   ]
  },
  {
   "attachments": {},
   "cell_type": "markdown",
   "metadata": {},
   "source": [
    "# Hacks\n",
    "- Add this Blog to you own Blogging site.  In the Blog add notes and observations on each code cell.\n",
    "- In this implementation, do you see procedural abstraction?\n",
    "    - <mark>Yes, I have used the find_by_uid and check_credentials methods in the update and delete functionality.</mark>\n",
    "- In 2.4a or 2.4b lecture\n",
    "    - Do you see data abstraction?  Complement this with Debugging example.\n",
    "    - Use Imperative or OOP style to Create a new Table or do something that applies to your CPT project.\n",
    "    \n",
    "\n",
    "Reference... [sqlite documentation](https://www.sqlitetutorial.net/sqlite-python/creating-tables/)\n"
   ]
  }
 ],
 "metadata": {
  "kernelspec": {
   "display_name": "Python 3.10.9 64-bit",
   "language": "python",
   "name": "python3"
  },
  "language_info": {
   "codemirror_mode": {
    "name": "ipython",
    "version": 3
   },
   "file_extension": ".py",
   "mimetype": "text/x-python",
   "name": "python",
   "nbconvert_exporter": "python",
   "pygments_lexer": "ipython3",
   "version": "3.10.9"
  },
  "orig_nbformat": 4,
  "vscode": {
   "interpreter": {
    "hash": "b0fa6594d8f4cbf19f97940f81e996739fb7646882a419484c72d19e05852a7e"
   }
  }
 },
 "nbformat": 4,
 "nbformat_minor": 2
}
