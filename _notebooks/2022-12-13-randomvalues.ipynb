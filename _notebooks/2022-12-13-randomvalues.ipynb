{
 "cells": [
  {
   "cell_type": "markdown",
   "metadata": {},
   "source": [
    "# \"Unit 3 Sections 14 and 15\"\n",
    "> \"Libraries and Random Values\"\n",
    " \n",
    "- toc: true\n",
    "- branch: master\n",
    "- badges: true\n",
    "- comments: true\n",
    "- permalink: /jupyter/libraries\n",
    "- categories: [jupyter,markdown]"
   ]
  },
  {
   "cell_type": "markdown",
   "metadata": {},
   "source": [
    "<style>\n",
    "    .coolCode {\n",
    "        color: #FFFFFF;\n",
    "        font-family: monospace;\n",
    "        border: 1px solid #404040;\n",
    "        border-radius: 3px;\n",
    "        background-color: #212121;\n",
    "        padding: 1px 5px;\n",
    "        font-size: 20px\n",
    "    }\n",
    "</style>"
   ]
  },
  {
   "cell_type": "markdown",
   "metadata": {},
   "source": [
    "### wget https://raw.githubusercontent.com/aidenhuynh/CS_Swag/master/_notebooks/2022-11-30-randomvalues.ipynb\n",
    "\n",
    "# Libraries\n",
    "\n",
    "* A library is a collection of precompiled codes that can be used later on in a program for some specific well-defined operations. \n",
    "* These precompiled codes can be referred to as modules. Each module contains bundles of code that can be used repeatedly in different programs.\n",
    "* A library may also contain documentation, configuration data, message templates, classes, and values, etc.\n",
    "\n",
    "### Why are libraries important?\n",
    "* Using Libraries makes Python Programming simpler and convenient for the programmer. \n",
    "* One example would be through looping and iteration, as we don’t need to write the same code again and again for different programs. \n",
    "* Python libraries play a very vital role in fields of Machine Learning, Data Science, Data Visualization, etc.\n",
    "\n",
    "### A few libraries that simplify coding processes:\n",
    "* **Pillow** allows you to work with images.\n",
    "* **Tensor Flow** helps with data automation and monitors performance.\n",
    "* **Matplotlib** allows you to make 2D graphs and plots.\n",
    "\n",
    "The AP Exam Refrence Sheet itself is a library!\n",
    "![Screenshot 2022-12-11 221853](https://user-images.githubusercontent.com/51098969/206974627-af98327c-d95d-4459-be67-cbaa3faaaa98.jpg)\n",
    "\n",
    "## Hacks:\n",
    "Research two other Python Libraries NOT DISCUSSED DURING LESSON and make a markdown post, explaining their function and how it helps programmers code.\n",
    "\n",
    "### API’s\n",
    "* An Application Program Interface, or API, contains specific direction for how the procedures in a library behave and can be used. \n",
    "* An API acts as a gateway for the imported procedures from a library to interact with the rest of your code.\n",
    "\n",
    "### Activity: Walkthrough with NumPy\n",
    "* Install NumPy on VSCode:\n",
    "    1. Open New Terminal In VSCode:\n",
    "    2. pip3 install --upgrade pip\n",
    "    3. pip install numpy \n",
    " \n",
    "REMEMBER: When running library code cells use Python Interpreter Conda (Version 3.9.12)\n",
    " \n",
    "### Example of using NumPy for arrays:"
   ]
  },
  {
   "cell_type": "code",
   "execution_count": 1,
   "metadata": {},
   "outputs": [
    {
     "name": "stdout",
     "output_type": "stream",
     "text": [
      "[[1 2 3]\n",
      " [4 5 6]\n",
      " [7 8 9]]\n"
     ]
    }
   ],
   "source": [
    "import numpy as np\n",
    "new_matrix = np.array([[1, 2, 3],[4, 5, 6],[7, 8, 9]])\n",
    " \n",
    "print (new_matrix)"
   ]
  },
  {
   "cell_type": "markdown",
   "metadata": {},
   "source": [
    "#### Example of using NumPy for derivatives:"
   ]
  },
  {
   "cell_type": "code",
   "execution_count": 2,
   "metadata": {},
   "outputs": [
    {
     "name": "stdout",
     "output_type": "stream",
     "text": [
      "Polynomial function, f(x):\n",
      "    2\n",
      "2 x + 1\n",
      "Derivative, f(x)'=  \n",
      "4 x\n",
      "When x=5  f(x)'= 20\n"
     ]
    }
   ],
   "source": [
    "import numpy as np\n",
    " \n",
    "# defining polynomial function\n",
    "var = np.poly1d([2, 0, 1])\n",
    "print(\"Polynomial function, f(x):\\n\", var)\n",
    " \n",
    "# calculating the derivative\n",
    "derivative = var.deriv()\n",
    "print(\"Derivative, f(x)'=\", derivative)\n",
    " \n",
    "# calculates the derivative of after\n",
    "# given value of x\n",
    "print(\"When x=5  f(x)'=\", derivative(5))"
   ]
  },
  {
   "cell_type": "markdown",
   "metadata": {},
   "source": [
    "## Random Values\n",
    "\n",
    "* Random number generation (RNG) produces a random number (crazy right?)\n",
    "    - This means that a procedure with RNG can return different values even if the parameters (inputs) do not change\n",
    "* CollegeBoard uses <code class=\"coolCode\">RANDOM(A, B)</code>, to return an integer between integers <code class=\"coolCode\">A</code> and <code class=\"coolCode\">B</code>.\n",
    "    - RANDOM(1, 10) can output 1, 2, 3, 4, 5, 6, 7, 8, 9, or 10\n",
    "    - In Python, this would be <code class=\"coolCode\">random.randint(A, B)</code>, after importing Python's \"random\" library (<code class=\"coolCode\">import random</code>)\n",
    "    - JavaScript's works a little differently, with <code class=\"coolCode\">Math.random()</code> returning a value between 0 and 1.\n",
    "        - To match Python and CollegeBoard, you could make a procedure like [this](https://stackoverflow.com/a/7228322)\n",
    "\n",
    "#### CollegeBoard Example: What is the possible range of values for *answ3*\n",
    "![CollegeBoard](https://i.ibb.co/Wt90Hbz/Screen-Shot-2022-12-12-at-7-27-58-AM.png)\n"
   ]
  },
  {
   "cell_type": "markdown",
   "metadata": {},
   "source": [
    "#### Convert the following procedure to Python, then determine the range of outputs if n = 5.\n",
    "<pre>\n",
    "<font color=white>\n",
    "PROCEDURE Dice(n)\n",
    "\tsum ← 0\n",
    "\tREPEAT UNTIL n = 0\n",
    "\t\tsum ← sum + RANDOM(1, 6)\n",
    "\t\tn ← n - 1\n",
    "\tRETURN sum\n",
    "</font>\n",
    "</pre>\n"
   ]
  },
  {
   "cell_type": "code",
   "execution_count": 4,
   "metadata": {},
   "outputs": [
    {
     "name": "stdout",
     "output_type": "stream",
     "text": [
      "19\n"
     ]
    }
   ],
   "source": [
    "import random # Fill in the blank\n",
    "\n",
    "def Dice(n):\n",
    "    sum = 0 \n",
    "    while n != 0:\n",
    "        sum = sum + random.randint (1,6)\n",
    "        n = n - 1\n",
    "    print(sum)\n",
    "Dice(5) # Will output a range of 5 to 30"
   ]
  },
  {
   "cell_type": "markdown",
   "metadata": {},
   "source": [
    "## Homework\n",
    "1. Write a procedure that generates *n* random numbers, then sorts those numbers into lists of even and odd numbers (JS or Python, Python will be easier)."
   ]
  },
  {
   "cell_type": "code",
   "execution_count": 37,
   "metadata": {},
   "outputs": [
    {
     "name": "stdout",
     "output_type": "stream",
     "text": [
      "Numbers:  [62, 90, 45, 10, 52, 5]\n",
      "Numbers sorted:  [5, 10, 45, 52, 62, 90]\n",
      "Even Numbers:  [62, 90, 10, 52]\n",
      "Odd Numbers: [45, 5]\n"
     ]
    }
   ],
   "source": [
    "import random\n",
    "\n",
    "\n",
    "def sortAndGenerateOddEvenLists():   \n",
    "   \n",
    "   n = int(input(\"How many random numbers would you like to generate?\"))\n",
    " \n",
    "   # Generating n random numbers in the range of 1 to 100 and storing that in list numbers\n",
    "   numbers = [random.randint(1, 100) for _ in range(n)]\n",
    "   oddNumbers= []\n",
    "   evenNumbers = []\n",
    "\n",
    "   for num in  numbers:\n",
    "     if num % 2 == 0:\n",
    "        # if the number is even append to the list evenNumbers\n",
    "        evenNumbers.append(num)\n",
    "     else:\n",
    "         # if the number is odd append to the list oddNumbers\n",
    "        oddNumbers.append(num)\n",
    "\n",
    "   print('Numbers: ', numbers)    \n",
    "   #sort the list\n",
    "   numbers.sort()\n",
    "   print('Numbers sorted: ', numbers)\n",
    "   print('Even Numbers: ', evenNumbers)\n",
    "   print('Odd Numbers:', oddNumbers)\n",
    "\n",
    "sortAndGenerateOddEvenLists()"
   ]
  },
  {
   "cell_type": "markdown",
   "metadata": {},
   "source": [
    "2. Using NumPy and only coding in python cell, find the answer to the following questions:\n",
    "    a. What is the derivative of 2x^5 - 6x^2 + 24x?\n",
    "    b. What is the derivative of (13x^4 + 4x^2) / 2 when x = 9? "
   ]
  },
  {
   "cell_type": "code",
   "execution_count": 28,
   "metadata": {},
   "outputs": [
    {
     "name": "stdout",
     "output_type": "stream",
     "text": [
      "The derivative of \n",
      "    5     2\n",
      "2 x - 6 x + 24 x  is: \n",
      "      4\n",
      "10 x - 12 x + 24\n"
     ]
    }
   ],
   "source": [
    "import numpy\n",
    "\n",
    "# define polynomial using the poly1d class \n",
    "polynomial = numpy.poly1d([2, 0, 0, -6, 24, 0])\n",
    "\n",
    "# Compute the derivative using the deriv function\n",
    "derivative = polynomial.deriv()\n",
    "print('The derivative of \\n', polynomial, ' is: \\n ', derivative)"
   ]
  },
  {
   "cell_type": "code",
   "execution_count": 36,
   "metadata": {},
   "outputs": [
    {
     "name": "stdout",
     "output_type": "stream",
     "text": [
      "The derivative of \n",
      "     4     2\n",
      "13 x + 4 x  is: \n",
      "      3\n",
      "26 x + 4 x\n",
      "\n",
      "When x = 9, the derivative is:  18990\n"
     ]
    }
   ],
   "source": [
    "import numpy\n",
    "\n",
    "# define polynomial using the poly1d class \n",
    "polynomial = numpy.poly1d([13, 0, 4, 0, 0])\n",
    "\n",
    "d = numpy.poly1d([2])\n",
    "# Compute the derivative using the deriv function\n",
    "derivative = ((d * polynomial .deriv()) - (d.deriv() * polynomial)) / 4\n",
    "\n",
    "# Compute the derivative at x = 9\n",
    "res = derivative(9)\n",
    "\n",
    "print('The derivative of \\n', polynomial, ' is: \\n ', derivative)\n",
    "print('\\nWhen x = 9, the derivative is: ' , round(res))\n",
    "\n"
   ]
  },
  {
   "cell_type": "markdown",
   "metadata": {},
   "source": [
    "3. Suppose you have a group of 10 dogs and 10 cats, and you want to create a random order for them. Show how random number generation could be used to create this random order."
   ]
  },
  {
   "cell_type": "code",
   "execution_count": 35,
   "metadata": {},
   "outputs": [
    {
     "name": "stdout",
     "output_type": "stream",
     "text": [
      "Cats:  ['Dog1', 'Dog2', 'Dog3', 'Dog4', 'Dog5', 'Dog6', 'Dog7', 'Dog8', 'Dog9', 'Dog10']\n",
      "Dogs:  ['Cat1', 'Cat2', 'Cat3', 'Cat4', 'Cat5', 'Cat6', 'Cat7', 'Cat8', 'Cat9', 'Cat10']\n",
      "Animals:  ['Dog1', 'Cat6', 'Cat5', 'Dog5', 'Dog2', 'Dog4', 'Dog10', 'Dog8', 'Dog9', 'Cat3', 'Dog7', 'Cat2', 'Cat7', 'Cat10', 'Dog3', 'Cat8', 'Dog6', 'Cat1', 'Cat4', 'Cat9']\n"
     ]
    }
   ],
   "source": [
    "import random\n",
    "\n",
    "# create a list of cats and dogs\n",
    "\n",
    "cats = [\"Cat1\", \"Cat2\", \"Cat3\", \"Cat4\", \"Cat5\", \"Cat6\", \"Cat7\", \"Cat8\", \"Cat9\", \"Cat10\"]\n",
    "dogs = [\"Dog1\", \"Dog2\", \"Dog3\", \"Dog4\", \"Dog5\", \"Dog6\", \"Dog7\", \"Dog8\", \"Dog9\", \"Dog10\"]\n",
    "\n",
    "# concatenate two lists to form third list animals\n",
    "animals =  cats + dogs\n",
    "\n",
    "# using shuffle function to reorganize the animals list\n",
    "random.shuffle(animals)\n",
    "\n",
    "print('Cats: ', dogs)\n",
    "print('Dogs: ', cats)\n",
    "print('Animals: ', animals)"
   ]
  }
 ],
 "metadata": {
  "kernelspec": {
   "display_name": "Python 3.10.6 64-bit",
   "language": "python",
   "name": "python3"
  },
  "language_info": {
   "codemirror_mode": {
    "name": "ipython",
    "version": 3
   },
   "file_extension": ".py",
   "mimetype": "text/x-python",
   "name": "python",
   "nbconvert_exporter": "python",
   "pygments_lexer": "ipython3",
   "version": "3.10.6"
  },
  "orig_nbformat": 4,
  "vscode": {
   "interpreter": {
    "hash": "aee8b7b246df8f9039afb4144a1f6fd8d2ca17a180786b69acc140d282b71a49"
   }
  }
 },
 "nbformat": 4,
 "nbformat_minor": 2
}
