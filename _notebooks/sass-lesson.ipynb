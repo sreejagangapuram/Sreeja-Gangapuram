{
 "cells": [
  {
   "attachments": {},
   "cell_type": "markdown",
   "metadata": {},
   "source": [
    "# SASS"
   ]
  },
  {
   "attachments": {},
   "cell_type": "markdown",
   "metadata": {},
   "source": [
    "# Why SASS?\n",
    "\n",
    "SASS is an improvement on CSS in that there are methods of abstraction. It is a stylesheet language that is compiled into CSS, which means that Sass will translate the sass code you wrote into CSS, which is what your web browser can read.\n",
    "\n",
    "# SASS vs SCSS\n",
    "As you learn about Sass, you might notice something called Scss. They are basically the same thing except that Scss uses curly braces and semicolons to distinguish between lines. Sass uses indentation and newlines instead.\n",
    "\n",
    "We will be teaching the Scss syntax because it is more commonly used."
   ]
  },
  {
   "attachments": {},
   "cell_type": "markdown",
   "metadata": {},
   "source": [
    "# Getting started\n",
    "\n",
    "A easy way to write SASS and have it preprocessed into CSS is by using a Jekyll powered website, such as GitHub pages or Fastpages.\n",
    "\n",
    "The first step is to clone a GitHub pages repo, such as this [one](https://github.com/lwu1822/sassy_squad).\n",
    "\n",
    "Within the repository, head over to `assets/css/`, and open `style.scss`.\n",
    "\n",
    "This is where you can create your SASS code.\n",
    "\n",
    "To see your CSS-translated SASS code, head over to `_site/assets/css/style.css`\n",
    "\n",
    "Note: You will need to run bundle exec jekyll serve before the _site directory appears.\n",
    "\n",
    "The first few hundred lines are used to style Github's theme. Make sure to scroll to the very bottom to see the SASS code that you wrote, which is in the form of CSS."
   ]
  },
  {
   "attachments": {},
   "cell_type": "markdown",
   "metadata": {},
   "source": [
    "# Nesting\n",
    "- enables you to create styling code that resembles an HTML hierarchy.\n",
    "- SASS enables you to consolidate everything into a single class and lessen repetition."
   ]
  },
  {
   "cell_type": "markdown",
   "metadata": {},
   "source": [
    "CSS Code Example"
   ]
  },
  {
   "cell_type": "code",
   "execution_count": null,
   "metadata": {},
   "outputs": [],
   "source": [
    ".font .title { \n",
    "\n",
    "\tfont-family: \"Times New Roman\", serif; \n",
    "\n",
    "\tfont-size: 3em;\n",
    "\n",
    "}\n",
    "\n",
    ".font .text {\n",
    "\n",
    "\tfont-family: \"Times New Roman\", serif; \n",
    "\n",
    "\tfont-size: 1em;\n",
    "\n",
    "}"
   ]
  },
  {
   "cell_type": "markdown",
   "metadata": {},
   "source": [
    "SASS Equilvalent"
   ]
  },
  {
   "cell_type": "code",
   "execution_count": null,
   "metadata": {},
   "outputs": [],
   "source": [
    ".font {\n",
    "\n",
    "\t.title {\n",
    "\n",
    "\tfont-family: \"Times New Roman\", serif;\n",
    "\n",
    "\tfont-size: 3em;\n",
    "\n",
    "\t.text {\n",
    "\n",
    "\tfont-family: \"Times New Roman\", serif;\n",
    "\n",
    "\tfont-size: 1em;/div>\n",
    "            \n",
    "}\n",
    "\n",
    "            \n",
    "}"
   ]
  },
  {
   "cell_type": "markdown",
   "metadata": {},
   "source": [
    "HTML Example"
   ]
  },
  {
   "cell_type": "code",
   "execution_count": null,
   "metadata": {},
   "outputs": [],
   "source": [
    "<div class=\"font\">\n",
    "\n",
    "\t<div class=\"title\">\n",
    "\n",
    "\t<p>Title</p>\n",
    "\n",
    "\t</div>\n",
    "\n",
    "\t<div class=\"text\">\n",
    "\n",
    "\t<p>This is some text</p>\n",
    "\n",
    "\t</div>\n",
    "\n",
    "</div>\n"
   ]
  },
  {
   "attachments": {},
   "cell_type": "markdown",
   "metadata": {},
   "source": [
    "# Mini-hack\n",
    "\n",
    "Write out the SASS equivalent for the following CSS code:\n",
    "\n",
    "```\n",
    ".a .b {\n",
    "    color: green;\n",
    "}\n",
    "\n",
    ".a .c {\n",
    "    color: blue;\n",
    "}\n",
    "```"
   ]
  },
  {
   "cell_type": "code",
   "execution_count": null,
   "metadata": {},
   "outputs": [],
   "source": [
    ".a {\n",
    "    .c {\n",
    "        color: blue;\n",
    "    }\n",
    "    .b {\n",
    "        color: green;\n",
    "    }\n",
    "}"
   ]
  },
  {
   "attachments": {},
   "cell_type": "markdown",
   "metadata": {},
   "source": [
    "# Extend/Inheritance\n",
    "\n",
    "What are some similarities that the buttons share? What are the differences?\n",
    "- If you wish to reuse bits of code in different selections, SASS lets you utilize the @extend to inherit feature.\n",
    "- The buttons' dimensions, height, and text are all the same, yet their backgrounds change.\n",
    "- With CSS, you would need to specify properties for individual buttons, whereas SASS allows you to specify differences in a single selector."
   ]
  },
  {
   "cell_type": "markdown",
   "metadata": {},
   "source": [
    "Placeholder"
   ]
  },
  {
   "cell_type": "code",
   "execution_count": null,
   "metadata": {},
   "outputs": [],
   "source": [
    "%class-name { \n",
    "\n",
    "}"
   ]
  },
  {
   "cell_type": "markdown",
   "metadata": {},
   "source": [
    "Creating a Class"
   ]
  },
  {
   "cell_type": "code",
   "execution_count": null,
   "metadata": {},
   "outputs": [],
   "source": [
    "%buttonLayout {\n",
    "\n",
    "\twidth: 15em;\n",
    "\n",
    "\theight: 15em;\n",
    "\n",
    "\tcolor: #ffffff;\n",
    "\n",
    "\tmargin-right: 10%;\n",
    "\n",
    "}"
   ]
  },
  {
   "cell_type": "markdown",
   "metadata": {},
   "source": [
    "Button Code"
   ]
  },
  {
   "cell_type": "code",
   "execution_count": null,
   "metadata": {},
   "outputs": [],
   "source": [
    ".gettingStartedButton, .nestingButton, .extendButton {\n",
    "\n",
    "\t@extend %buttonLayout;\n",
    "\n",
    "}"
   ]
  },
  {
   "cell_type": "markdown",
   "metadata": {},
   "source": [
    "Styling"
   ]
  },
  {
   "cell_type": "code",
   "execution_count": null,
   "metadata": {},
   "outputs": [],
   "source": [
    ".gettingStartedButton {\n",
    "\n",
    "\tbackground: radial-gradient( #1539db, #8a8ce6);\n",
    "\n",
    "}\n",
    "\n",
    ".nestingButton {\n",
    "\n",
    "\tbackground: radial-gradient( #3a9fa7, #8ae0e6);\n",
    "\n",
    "}\n",
    "\n",
    ".extendButton {\n",
    "\n",
    "\tbackground: radial-gradient( #643aa7, #d78ae6);\n",
    "\n",
    "}"
   ]
  },
  {
   "attachments": {},
   "cell_type": "markdown",
   "metadata": {},
   "source": [
    "# Mixin\n",
    "- Additionally, you can use mixins to place styling guidelines without variables.\n",
    "- similar to \"extend\" in that it generates reusable code templates and accepts parameters to enable the creation of dynamic style\n"
   ]
  },
  {
   "cell_type": "markdown",
   "metadata": {},
   "source": [
    "Styling the Button"
   ]
  },
  {
   "cell_type": "code",
   "execution_count": null,
   "metadata": {},
   "outputs": [],
   "source": [
    "@mixin buttonLayout($innerColor, $outerColor) {\n",
    "\n",
    "\tbackground: radial-gradient($innerColor, $outerColor);\n",
    "\n",
    "\twidth: 15em;\n",
    "\n",
    "\theight: 15em;\n",
    "\n",
    "\tcolor: #ffffff;\n",
    "\n",
    "\tmargin-right: 10%;\n",
    "\n",
    "\tborder-radius: 2em;\n",
    "\n",
    "}"
   ]
  },
  {
   "attachments": {},
   "cell_type": "markdown",
   "metadata": {},
   "source": [
    "# Mini-hack\n",
    "\n",
    "Write out a mixin in SASS that takes in a color and a font size as the parameter. Within the mixin, set the background color and font color to the color parameter, and set the font size to the font size parameter. Then create a selector that calls the mixin, and pass in a color and font size of your choice as the arguments."
   ]
  },
  {
   "attachments": {},
   "cell_type": "markdown",
   "metadata": {},
   "source": [
    "# Function\n",
    "SASS Function"
   ]
  },
  {
   "cell_type": "code",
   "execution_count": null,
   "metadata": {},
   "outputs": [],
   "source": [
    "@function name(parameters) [\n",
    "    //code\n",
    "    @return value;\n",
    "]"
   ]
  },
  {
   "cell_type": "markdown",
   "metadata": {},
   "source": [
    "Invert Function "
   ]
  },
  {
   "cell_type": "code",
   "execution_count": null,
   "metadata": {},
   "outputs": [],
   "source": [
    "@function sassInvert($r, $g, $b) {\n",
    "    \n",
    "    //the \"$\" creates new functions in sass\n",
    "\t$newColor: rgb(255 - $r, 255 - $g, 255 - $b); \n",
    "\n",
    "\t@return $newColor;\n",
    "\n",
    "}\n"
   ]
  },
  {
   "cell_type": "markdown",
   "metadata": {},
   "source": [
    "Specify the function name with parenthesis"
   ]
  },
  {
   "cell_type": "code",
   "execution_count": null,
   "metadata": {},
   "outputs": [],
   "source": [
    ".invert {\n",
    "\n",
    "\tbackground-color: sassInvert(0, 0, 0);\n",
    "\n",
    "\tcolor: sassInvert(211,202,202);\n",
    "\n",
    "}"
   ]
  },
  {
   "attachments": {},
   "cell_type": "markdown",
   "metadata": {},
   "source": [
    "# Import\n",
    "- There is a mechanism to break code into many files and import them into one file, which helps keep SASS files from becoming cluttered. \n",
    "- To put the styling for function.html in another SASS file, follow these steps: first, create a directory inside the directory named _sass; second, create another SASS file. as in the case of functionStyle.scss\n",
    "- Fill up the file with your Sass code. When finished, return to style.scss and import the file using the syntax @import \"file-name\"."
   ]
  },
  {
   "attachments": {},
   "cell_type": "markdown",
   "metadata": {},
   "source": [
    "# SASS Hacks\n",
    "\n",
    "1. Take notes and complete the mini-hacks. (0.9) \n",
    "\n",
    "2. Complete the [quiz questions](https://lwu1822.github.io/sassy_squad/quizQuestions) and provide your answers in this notebook. (0.9)\n",
    "\n",
    "3. Use SASS to create something that uses either extend or mixin. (0.9)\n",
    "\n",
    "4. Extra credit: Research other SASS features and blog about what you learned or add to your SASS project with any extra features not covered in this lesson. More points will be given if both are done."
   ]
  },
  {
   "cell_type": "markdown",
   "metadata": {},
   "source": [
    "# <mark>Quiz Questions</mark>\n",
    "What is SASS?\n",
    "- b. A scripting language that has many styling operations\n",
    "\n",
    "What is the difference between SASS and SCSS?\n",
    "- a. They are very similar in their function, but their syntax is slightly different\n",
    "\n",
    "What is an example of an advantage of using SASS over just CSS?\n",
    "- a. SASS has more functions than CSS\n",
    "\n",
    "What does SASS stand for?\n",
    "- b. Systematically Awesome Sample Sheets\n",
    "\n",
    "Which of the following is NOT an example of an available SASS directive?\n",
    "- d. compute\n",
    "\n",
    "The __ directive is used to share rules and relationships between selectors.\n",
    "- b. extend\n",
    "\n",
    "What is “@___” called?\n",
    "- b. Directive"
   ]
  },
  {
   "cell_type": "markdown",
   "metadata": {},
   "source": [
    "# <mark>Hack</mark>"
   ]
  },
  {
   "cell_type": "code",
   "execution_count": null,
   "metadata": {},
   "outputs": [],
   "source": []
  }
 ],
 "metadata": {
  "kernelspec": {
   "display_name": "Python 3.10.11 64-bit",
   "language": "python",
   "name": "python3"
  },
  "language_info": {
   "name": "python",
   "version": "3.10.11"
  },
  "orig_nbformat": 4,
  "vscode": {
   "interpreter": {
    "hash": "bd385fe162c5ca0c84973b7dd5c518456272446b2b64e67c2a69f949ca7a1754"
   }
  }
 },
 "nbformat": 4,
 "nbformat_minor": 2
}
