{
 "cells": [
  {
   "cell_type": "markdown",
   "metadata": {},
   "source": [
    "# Unit 3 Section 16 Lesson Hacks\n",
    "> Lesson about simulations and what they're used for \n",
    "\n",
    "- title: Section 3.16 Lesson Hacks\n",
    "- toc: true\n",
    "- badges: false\n",
    "- categories: [lessons]\n",
    "- permalink: /lesson1"
   ]
  },
  {
   "attachments": {},
   "cell_type": "markdown",
   "metadata": {},
   "source": [
    "# First Order of Business: Get your notebook \n",
    "\n",
    "- Open a terminal in vscode, run command: cd _notebooks, type 'wget' and paste this link into said terminal and run it \n",
    "\n",
    "- Take notes wherever you please, but you will be graded on participating "
   ]
  },
  {
   "attachments": {},
   "cell_type": "markdown",
   "metadata": {},
   "source": [
    "# So, what is a simulation anyway? \n",
    "\n",
    "- A simulation is a tested scenario used for viewing results/outputs to prepare for them in real world situations \n",
    "\n",
    "- These can be used for games like dice rolling, spinners, etc \n",
    "\n",
    "- These can be used for practical things such as building structures, testing car crashes, and other things before engaging in them in the real world \n",
    "\n",
    "- These simulations can have the option of obeying real world physics (Gravity, collision) or they can go against these norms since this is a fictitious scenario, and couldn't happen in real life"
   ]
  },
  {
   "attachments": {},
   "cell_type": "markdown",
   "metadata": {},
   "source": [
    "# Big Question \n",
    "\n",
    "- Which of the following simulations could be the LEAST useful? \n",
    "\n",
    "- A retailer trying to identify which products sold the most \n",
    "- A restaurant determining the efficiency of robots \n",
    "- An insurance company studying the rain impact of cars \n",
    "- A sports bike company studying design changes to their new bike design \n",
    "\n",
    "\n",
    "\n",
    "- If you guessed a bike company, you're wrong, because the retail simulation was the right answer. Simulating robots in food service, sudying rain impact on vehicles, and new bike design can contribute a lot more to society in comparison to seeing what products sell more than others. \n",
    "\n",
    "**NOTE**: you can't stimulate statistics. "
   ]
  },
  {
   "attachments": {},
   "cell_type": "markdown",
   "metadata": {},
   "source": [
    "# Next Big Question \n",
    "\n",
    "If you were making a simulation for making a new train station, which of the following would be true about this simulation? \n",
    "\n",
    "- It could reveal potential problems/safety issues before construction starts \n",
    "- It cannot be used to test the train station in different weather \n",
    "- Simulation will add high costs to projects \n",
    "- Simulation is not needed because this train station already exists  \n",
    "\n",
    "\n",
    "\n",
    "\n",
    "- Potential Saftey was the right answer, because you need somewhere to test the safety and ethicness of what you're about to do before you start building it. Otherwise, let's just say you'll have a special plaque for FBI's Most Wanted\n"
   ]
  },
  {
   "attachments": {},
   "cell_type": "markdown",
   "metadata": {},
   "source": [
    "# Simulation 1: \n",
    "\n",
    "Both programs below do the same thing. Given a height and a weight, they calculate how long it will take for a object to fall to the ground in a vacuum subjected to normal Earth levels of gravity. \n",
    "\n",
    "However, the second one is a simulation. It calculates the distance the object has fallen every 0.1 seconds. This is useful for if you wanted a visual representation of a falling object, which pure math can't do as smoothly. "
   ]
  },
  {
   "cell_type": "code",
   "execution_count": 4,
   "metadata": {},
   "outputs": [
    {
     "name": "stdout",
     "output_type": "stream",
     "text": [
      "It will take 2.0203050891044216 seconds for an object that weighs 20 pounds to fall  20.0 meters in a vacuum\n"
     ]
    }
   ],
   "source": [
    "height = float(input(\"height in meters?\"))\n",
    "\n",
    "weight = input(\"weight in pounds?\")\n",
    "\n",
    "stuff = (2 * (height / 9.8))**(1/2)\n",
    "\n",
    "print(\"It will take\", stuff,\"seconds for an object that weighs\",weight,\"pounds\",\"to fall \",height,\"meters in a vacuum\")"
   ]
  },
  {
   "cell_type": "code",
   "execution_count": 5,
   "metadata": {},
   "outputs": [
    {
     "name": "stdout",
     "output_type": "stream",
     "text": [
      "2.1000000000000005\n",
      "21.609000000000012\n"
     ]
    }
   ],
   "source": [
    "t = 0\n",
    "g = 0\n",
    "d = 0\n",
    "false = True\n",
    "while false:\n",
    "    t = t + 0.1\n",
    "    d = 9.8 / 2 * (t**2)\n",
    "    if d >= height:\n",
    "        false = False\n",
    "    #print(d) # if you want to print the distance every time it calculates it. Too long to output to a terminal, but this could be useful to display graphically. \n",
    "    #print(t)\n",
    "\n",
    "print(t)\n",
    "print(d)"
   ]
  },
  {
   "attachments": {},
   "cell_type": "markdown",
   "metadata": {},
   "source": [
    "# Simulation 2: \n",
    "\n",
    "- This simulation is made in order to simulate movement on a 2d plane vs a 3d plane.  \n",
    "\n",
    "- How it works: we have multiple variables, if statements and equations under a while command in order to randomy generate steps on a 2d plane. Once it reaches the set destination, it will say that the man made it home after x amount of steps. \n",
    "\n",
    "- For the 3D plane, it takes a lot longer due to how big and open the 3d environment is, so there are more if statements in the 3d plane \n",
    "\n",
    "(explain further)\n",
    "\n"
   ]
  },
  {
   "cell_type": "code",
   "execution_count": 6,
   "metadata": {},
   "outputs": [
    {
     "name": "stdout",
     "output_type": "stream",
     "text": [
      "( -455 453 )\n",
      "( -988 656 )\n",
      "( -1174 1104 )\n",
      "( -1218 2710 )\n",
      "( 745 2799 )\n",
      "( -41 3645 )\n",
      "( 886 3532 )\n",
      "( 244 3588 )\n",
      "( 345 3989 )\n",
      "( 949 5367 )\n",
      "Caped\n",
      "The Man Has Made It Home After  6 Turns\n",
      "The Man Has Made It Home After  6 Turns\n",
      "( -815 -395 )\n",
      "( -1404 26 )\n",
      "( -579 -159 )\n",
      "( -2176 -648 )\n",
      "( -2217 -3 )\n",
      "( -1250 -452 )\n",
      "( -853 -1191 )\n",
      "( -449 -807 )\n",
      "( -1781 -647 )\n",
      "( -2520 598 )\n",
      "Caped\n",
      "The Man Has Made It Home After  2 Turns\n",
      "The Man Has Made It Home After  4 Turns\n",
      "The Man Has Made It Home After  6 Turns\n",
      "The Man Has Made It Home After  763428 Turns\n",
      "The Man Has Made It Home After  378 Turns\n",
      "The Man Has Made It Home After  2 Turns\n",
      "The Man Has Made It Home After  1260 Turns\n",
      "The Man Has Made It Home After  82 Turns\n",
      "( -28 -360 )\n",
      "( -1916 -1018 )\n",
      "( -632 226 )\n",
      "( -1190 1534 )\n",
      "( -1546 3464 )\n",
      "( -855 3313 )\n",
      "( -206 2944 )\n",
      "( 231 2971 )\n",
      "( 203 3677 )\n",
      "( -472 4834 )\n",
      "Caped\n",
      "The Man Has Made It Home After  2 Turns\n",
      "The Man Has Made It Home After  2 Turns\n",
      "( 542 310 )\n",
      "( 463 655 )\n",
      "( 839 723 )\n",
      "The Man Has Made It Home After  3509138 Turns\n",
      "The Man Has Made It Home After  2 Turns\n",
      "The Man Has Made It Home After  2 Turns\n",
      "The Man Has Made It Home After  282 Turns\n",
      "The Man Has Made It Home After  39660 Turns\n",
      "The Man Has Made It Home After  2 Turns\n",
      "The Man Has Made It Home After  60 Turns\n",
      "The Man Has Made It Home After  137326 Turns\n",
      "The Man Has Made It Home After  2 Turns\n",
      "The Man Has Made It Home After  108 Turns\n",
      "( -1124 66 )\n",
      "( -654 424 )\n",
      "( -1527 693 )\n",
      "( 253 607 )\n",
      "( 303 1175 )\n",
      "( 835 755 )\n",
      "( 906 1558 )\n",
      "( 886 1754 )\n",
      "( 626 2280 )\n",
      "( 1362 1506 )\n",
      "Caped\n",
      "The Man Has Made It Home After  890 Turns\n",
      "The Man Has Made It Home After  32 Turns\n",
      "The Man Has Made It Home After  374 Turns\n",
      "( 1441 -971 )\n",
      "( 461 -341 )\n",
      "( 205 459 )\n",
      "( 1353 707 )\n",
      "( 1125 509 )\n",
      "( 2508 -154 )\n",
      "( 2623 1371 )\n",
      "( 2235 2073 )\n",
      "( 2989 2079 )\n",
      "( 4116 2572 )\n",
      "Caped\n",
      "The Man Has Made It Home After  216770 Turns\n",
      "The Man Has Made It Home After  56 Turns\n",
      "The Man Has Made It Home After  2 Turns\n",
      "The Man Has Made It Home After  2 Turns\n",
      "The Man Has Made It Home After  38 Turns\n",
      "The Man Has Made It Home After  84 Turns\n",
      "The Man Has Made It Home After  20 Turns\n",
      "The Man Has Made It Home After  786 Turns\n",
      "The Man Has Made It Home After  4 Turns\n",
      "The Man Has Made It Home After  3924 Turns\n",
      "The Man Has Made It Home After  60 Turns\n",
      "The Man Has Made It Home After  4 Turns\n",
      "The Man Has Made It Home After  2 Turns\n",
      "The Man Has Made It Home After  14 Turns\n",
      "The Man Has Made It Home After  2 Turns\n",
      "The Man Has Made It Home After  2 Turns\n",
      "( -592 0 )\n",
      "( -709 -915 )\n",
      "( -175 257 )\n",
      "( -379 -201 )\n",
      "( -747 -561 )\n",
      "( -952 -394 )\n",
      "( -599 -1421 )\n",
      "( -753 -1193 )\n",
      "( 2 -1610 )\n",
      "( 398 -984 )\n",
      "Caped\n",
      "( -975 689 )\n",
      "( -1018 1022 )\n",
      "( -288 1912 )\n"
     ]
    },
    {
     "ename": "KeyboardInterrupt",
     "evalue": "",
     "output_type": "error",
     "traceback": [
      "\u001b[0;31m---------------------------------------------------------------------------\u001b[0m",
      "\u001b[0;31mKeyboardInterrupt\u001b[0m                         Traceback (most recent call last)",
      "\u001b[1;32m/Users/SreejaGangapuram_1/vscode/Sreeja-Gangapuram/_notebooks/2022-12-12-Simulations.ipynb Cell 10\u001b[0m in \u001b[0;36m<cell line: 9>\u001b[0;34m()\u001b[0m\n\u001b[1;32m     <a href='vscode-notebook-cell:/Users/SreejaGangapuram_1/vscode/Sreeja-Gangapuram/_notebooks/2022-12-12-Simulations.ipynb#X12sZmlsZQ%3D%3D?line=26'>27</a>\u001b[0m \u001b[39mif\u001b[39;00m turn\u001b[39m/\u001b[39m\u001b[39m1000\u001b[39m \u001b[39m%\u001b[39m \u001b[39m1000\u001b[39m \u001b[39m==\u001b[39m \u001b[39m0\u001b[39m \u001b[39mand\u001b[39;00m x \u001b[39m+\u001b[39m y \u001b[39m!=\u001b[39m \u001b[39m0\u001b[39m:\n\u001b[1;32m     <a href='vscode-notebook-cell:/Users/SreejaGangapuram_1/vscode/Sreeja-Gangapuram/_notebooks/2022-12-12-Simulations.ipynb#X12sZmlsZQ%3D%3D?line=27'>28</a>\u001b[0m     \u001b[39mprint\u001b[39m(\u001b[39m\"\u001b[39m\u001b[39m(\u001b[39m\u001b[39m\"\u001b[39m, x,y, \u001b[39m\"\u001b[39m\u001b[39m)\u001b[39m\u001b[39m\"\u001b[39m)\n\u001b[0;32m---> <a href='vscode-notebook-cell:/Users/SreejaGangapuram_1/vscode/Sreeja-Gangapuram/_notebooks/2022-12-12-Simulations.ipynb#X12sZmlsZQ%3D%3D?line=28'>29</a>\u001b[0m \u001b[39mif\u001b[39;00m (turn \u001b[39m>\u001b[39m \u001b[39m10000000\u001b[39m):\n\u001b[1;32m     <a href='vscode-notebook-cell:/Users/SreejaGangapuram_1/vscode/Sreeja-Gangapuram/_notebooks/2022-12-12-Simulations.ipynb#X12sZmlsZQ%3D%3D?line=29'>30</a>\u001b[0m     stopped \u001b[39m=\u001b[39m stopped \u001b[39m+\u001b[39m \u001b[39m1\u001b[39m\n\u001b[1;32m     <a href='vscode-notebook-cell:/Users/SreejaGangapuram_1/vscode/Sreeja-Gangapuram/_notebooks/2022-12-12-Simulations.ipynb#X12sZmlsZQ%3D%3D?line=30'>31</a>\u001b[0m     turn \u001b[39m=\u001b[39m \u001b[39m0\u001b[39m\n",
      "\u001b[0;31mKeyboardInterrupt\u001b[0m: "
     ]
    }
   ],
   "source": [
    "import random\n",
    "x = 0\n",
    "y = 0\n",
    "nights = 0\n",
    "turn = 0\n",
    "stopped = 0\n",
    "turns = []\n",
    "\n",
    "while (nights < 100):\n",
    "    step = random.randrange(4)\n",
    "    if step == 0:\n",
    "        x = x+1\n",
    "    if step == 1:\n",
    "        x = x-1\n",
    "    if step == 2:\n",
    "        y = y+1\n",
    "    if step == 3:\n",
    "        y = y-1\n",
    "\n",
    "    turn = turn + 1\n",
    "\n",
    "    if x == 0 and y == 0:\n",
    "        nights = nights + 1\n",
    "        print(\"The Man Has Made It Home After \", turn, \"Turns\")\n",
    "        turns.append(turn)\n",
    "        turn = 0\n",
    "    if turn/1000 % 1000 == 0 and x + y != 0:\n",
    "        print(\"(\", x,y, \")\")\n",
    "    if (turn > 10000000):\n",
    "        stopped = stopped + 1\n",
    "        turn = 0\n",
    "        x = 0\n",
    "        y = 0\n",
    "        nights = nights + 1\n",
    "        print(\"Caped\")\n",
    "\n",
    "average = sum(turns) / len(turns)\n",
    "print(\"Avaerage\", average, \"Ones that when't too long \", stopped)"
   ]
  },
  {
   "cell_type": "code",
   "execution_count": 7,
   "metadata": {},
   "outputs": [
    {
     "name": "stdout",
     "output_type": "stream",
     "text": [
      "The Bird Has Made It Home After  2 Turns\n",
      "( -1192 258 )  |  98\n",
      "( -1808 782 )  |  -108\n",
      "( -696 889 )  |  811\n",
      "( -65 -120 )  |  901\n",
      "( -443 1227 )  |  1346\n"
     ]
    },
    {
     "ename": "KeyboardInterrupt",
     "evalue": "",
     "output_type": "error",
     "traceback": [
      "\u001b[0;31m---------------------------------------------------------------------------\u001b[0m",
      "\u001b[0;31mKeyboardInterrupt\u001b[0m                         Traceback (most recent call last)",
      "\u001b[1;32m/Users/SreejaGangapuram_1/vscode/Sreeja-Gangapuram/_notebooks/2022-12-12-Simulations.ipynb Cell 11\u001b[0m in \u001b[0;36m<cell line: 10>\u001b[0;34m()\u001b[0m\n\u001b[1;32m     <a href='vscode-notebook-cell:/Users/SreejaGangapuram_1/vscode/Sreeja-Gangapuram/_notebooks/2022-12-12-Simulations.ipynb#X13sZmlsZQ%3D%3D?line=25'>26</a>\u001b[0m turn \u001b[39m=\u001b[39m turn \u001b[39m+\u001b[39m \u001b[39m1\u001b[39m\n\u001b[1;32m     <a href='vscode-notebook-cell:/Users/SreejaGangapuram_1/vscode/Sreeja-Gangapuram/_notebooks/2022-12-12-Simulations.ipynb#X13sZmlsZQ%3D%3D?line=26'>27</a>\u001b[0m \u001b[39m#Goal check\u001b[39;00m\n\u001b[0;32m---> <a href='vscode-notebook-cell:/Users/SreejaGangapuram_1/vscode/Sreeja-Gangapuram/_notebooks/2022-12-12-Simulations.ipynb#X13sZmlsZQ%3D%3D?line=27'>28</a>\u001b[0m \u001b[39mif\u001b[39;00m x \u001b[39m==\u001b[39m \u001b[39m0\u001b[39m \u001b[39mand\u001b[39;00m y \u001b[39m==\u001b[39m \u001b[39m0\u001b[39m \u001b[39mand\u001b[39;00m z \u001b[39m==\u001b[39m \u001b[39m0\u001b[39m:\n\u001b[1;32m     <a href='vscode-notebook-cell:/Users/SreejaGangapuram_1/vscode/Sreeja-Gangapuram/_notebooks/2022-12-12-Simulations.ipynb#X13sZmlsZQ%3D%3D?line=28'>29</a>\u001b[0m     nights \u001b[39m=\u001b[39m nights \u001b[39m+\u001b[39m \u001b[39m1\u001b[39m\n\u001b[1;32m     <a href='vscode-notebook-cell:/Users/SreejaGangapuram_1/vscode/Sreeja-Gangapuram/_notebooks/2022-12-12-Simulations.ipynb#X13sZmlsZQ%3D%3D?line=29'>30</a>\u001b[0m     \u001b[39mprint\u001b[39m(\u001b[39m\"\u001b[39m\u001b[39mThe Bird Has Made It Home After \u001b[39m\u001b[39m\"\u001b[39m, turn, \u001b[39m\"\u001b[39m\u001b[39mTurns\u001b[39m\u001b[39m\"\u001b[39m)\n",
      "\u001b[0;31mKeyboardInterrupt\u001b[0m: "
     ]
    }
   ],
   "source": [
    "import random\n",
    "x = 0\n",
    "y = 0\n",
    "z = 0\n",
    "nights = 0\n",
    "turn = 0\n",
    "stopped = 0\n",
    "turns = []\n",
    "\n",
    "while (nights < 100):\n",
    "    #rando movement\n",
    "    step = random.randrange(6)\n",
    "    if step == 0:\n",
    "        x = x+1\n",
    "    if step == 1:\n",
    "        x = x-1\n",
    "    if step == 2:\n",
    "        y = y+1\n",
    "    if step == 3:\n",
    "        y = y-1\n",
    "    if step == 4:\n",
    "        z = z+1\n",
    "    if step == 5:\n",
    "        z = z-1\n",
    "    #Turn counter\n",
    "    turn = turn + 1\n",
    "    #Goal check\n",
    "    if x == 0 and y == 0 and z == 0:\n",
    "        nights = nights + 1\n",
    "        print(\"The Bird Has Made It Home After \", turn, \"Turns\")\n",
    "        turns.append(turn)\n",
    "        turn = 0\n",
    "    if turn/1000 % 1000 == 0 and x + y + z != 0:\n",
    "        print(\"(\", x,y, \") \",\"| \", z)\n",
    "    #Too long Stoper\n",
    "    if (turn > 10000000):\n",
    "        stopped = stopped + 1\n",
    "        turn = 0\n",
    "        x = 0\n",
    "        y = 0\n",
    "        z = 0\n",
    "        nights = nights + 1\n",
    "        print(\"Caped\")\n",
    "\n",
    "average = sum(turns) / len(turns)\n",
    "print(\"Avaerage\", average,\"Ones that when't too long \", stopped)"
   ]
  },
  {
   "cell_type": "markdown",
   "metadata": {},
   "source": [
    "**NOTE**: these simulations need to be capped at some point. "
   ]
  },
  {
   "attachments": {},
   "cell_type": "markdown",
   "metadata": {},
   "source": [
    "# Simulations in the wild\n",
    "\n",
    "Simulations are used extremely frequently in real life applications. One of the most common examples of simulations are video games. A games physics engine can accurately simulate objects colliding \n",
    "\n",
    "Another example is Blender, the software used in 3d animations class, here at Del Norte. Blender is made up of many small simulations, but one big one it uses is simulating the way light bounces off of and interacts with objects. "
   ]
  },
  {
   "attachments": {},
   "cell_type": "markdown",
   "metadata": {},
   "source": [
    "# HW !!!\n",
    "\n",
    "Create a simulation. It can be anything, just has to simulate something.\n",
    "\n",
    "Some ideas:\n",
    "\n",
    "- Two objects colliding\n",
    "- Gravity on other planets\n",
    "\n",
    "AND\n",
    "\n",
    "Find an example of a simulation in a software/game you use, screenshot, and explain how it is a simulation"
   ]
  },
  {
   "cell_type": "markdown",
   "metadata": {},
   "source": [
    "## <mark>**Random Card Picking Simulation**</mark> "
   ]
  },
  {
   "cell_type": "code",
   "execution_count": 2,
   "metadata": {},
   "outputs": [
    {
     "name": "stdout",
     "output_type": "stream",
     "text": [
      "Card picked from deck of cards is:  CLUB   7\n"
     ]
    }
   ],
   "source": [
    "#This is simulation of picking a random card from deck of cards\n",
    "import random\n",
    "\n",
    "# Initializing lists for card signs and numbers\n",
    "signs =['Heart','CLUB','DIAMOND','SPADE']\n",
    "numbers =['A', '2', '3', '4', '5',' 6', '7', '8', '9', '10', 'J', 'Q', 'K']\n",
    "\n",
    "# initializing sign with random sign from signs and number with random number from numbers\n",
    "sign = random.choice(signs)\n",
    "number = random.choice(numbers)\n",
    "\n",
    "print('Card picked from deck of cards is: ', sign, ' ', number)"
   ]
  },
  {
   "cell_type": "markdown",
   "metadata": {},
   "source": [
    "## <mark>**Example of a Simulation + Explanation**</mark> "
   ]
  },
  {
   "cell_type": "markdown",
   "metadata": {},
   "source": [
    "One popular example of a simulation is are VR glasses. The built-in LED screen and eyes of VR headsets are separated by stereoscopic lenses, which distort the image to make it appear three-dimensional and lifelike. These lenses allow the headset to transmit two images, one for each eye, much like how we see. They are used for entertainment, flight simulations, for the training of soilders, etc. Users get to experiance different conditions without actually having to be in a battle or any other place. "
   ]
  }
 ],
 "metadata": {
  "kernelspec": {
   "display_name": "Python 3.10.6 64-bit",
   "language": "python",
   "name": "python3"
  },
  "language_info": {
   "codemirror_mode": {
    "name": "ipython",
    "version": 3
   },
   "file_extension": ".py",
   "mimetype": "text/x-python",
   "name": "python",
   "nbconvert_exporter": "python",
   "pygments_lexer": "ipython3",
   "version": "3.10.6"
  },
  "orig_nbformat": 4,
  "vscode": {
   "interpreter": {
    "hash": "aee8b7b246df8f9039afb4144a1f6fd8d2ca17a180786b69acc140d282b71a49"
   }
  }
 },
 "nbformat": 4,
 "nbformat_minor": 2
}
