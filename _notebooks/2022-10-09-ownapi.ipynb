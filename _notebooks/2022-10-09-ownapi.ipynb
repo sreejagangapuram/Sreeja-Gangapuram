{
 "cells": [
  {
   "cell_type": "markdown",
   "metadata": {},
   "source": [
    "# Books API\n",
    "\n",
    "- title: Books API\n",
    "- toc: true\n",
    "- image: /images/rapidapi.png\n",
    "- permalink: /techtalk/books\n",
    "- categories: [1.A, 5.B, 5.D]\n",
    "- tags: [api, rapidapi]\n",
    "- type: pbl\n",
    "- week: 7"
   ]
  },
  {
   "cell_type": "code",
   "execution_count": 24,
   "metadata": {
    "vscode": {
     "languageId": "shellscript"
    }
   },
   "outputs": [
    {
     "name": "stdout",
     "output_type": "stream",
     "text": [
      "Book API Response:\n",
      "{\"book_id\":56597885,\"name\":\"Beautiful World, Where Are You\",\"cover\":\"https://i.gr-assets.com/images/S/compressed.photo.goodreads.com/books/1618329605l/56597885.jpg\",\"url\":\"https://www.goodreads.com/book/show/56597885\",\"authors\":[\"Sally Rooney\"],\"rating\":3,\"pages\":356,\"published_date\":\"September 7th 2021\",\"synopsis\":\"Alice, a novelist, meets Felix, who works in a warehouse, and asks him if he’d like to travel to Rome with her. In Dublin, her best friend, Eileen, is getting over a break-up and slips back into flirting with Simon, a man she has known since childhood. Alice, Felix, Eileen, and Simon are still young—but life is catching up with them. They desire each other, they delude eacAlice, a novelist, meets Felix, who works in a warehouse, and asks him if he’d like to travel to Rome with her. In Dublin, her best friend, Eileen, is getting over a break-up and slips back into flirting with Simon, a man she has known since childhood. Alice, Felix, Eileen, and Simon are still young—but life is catching up with them. They desire each other, they delude each other, they get together, they break apart. They have sex, they worry about sex, they worry about their friendships and the world they live in. Are they standing in the last lighted room before the darkness, bearing witness to something? Will they find a way to believe in a beautiful world?\"}\n",
      "Book Review\n",
      "Book Name:  Beautiful World, Where Are You\n",
      "Book Rating:  3\n",
      "Book synopsis:  Alice, a novelist, meets Felix, who works in a warehouse, and asks him if he’d like to travel to Rome with her. In Dublin, her best friend, Eileen, is getting over a break-up and slips back into flirting with Simon, a man she has known since childhood. Alice, Felix, Eileen, and Simon are still young—but life is catching up with them. They desire each other, they delude eacAlice, a novelist, meets Felix, who works in a warehouse, and asks him if he’d like to travel to Rome with her. In Dublin, her best friend, Eileen, is getting over a break-up and slips back into flirting with Simon, a man she has known since childhood. Alice, Felix, Eileen, and Simon are still young—but life is catching up with them. They desire each other, they delude each other, they get together, they break apart. They have sex, they worry about sex, they worry about their friendships and the world they live in. Are they standing in the last lighted room before the darkness, bearing witness to something? Will they find a way to believe in a beautiful world?\n"
     ]
    }
   ],
   "source": [
    "\"\"\"\n",
    "Requests is a HTTP library for the Python programming language. \n",
    "The goal of the project is to make HTTP requests simpler and more human-friendly. \n",
    "\"\"\"\n",
    "\n",
    "import requests\n",
    "import json\n",
    "\n",
    "url = \"https://hapi-books.p.rapidapi.com/book/56597885\"\n",
    "\n",
    "headers = {\n",
    "\t\"X-RapidAPI-Key\": \"5e7436418amsh940df6666bebc0ep17c77ajsn1c55723879ec\",\n",
    "\t\"X-RapidAPI-Host\": \"hapi-books.p.rapidapi.com\"\n",
    "}\n",
    "\n",
    "response = requests.request(\"GET\", url, headers=headers)\n",
    "print(\"Book API Response:\")\n",
    "print(response.text)\n",
    "\n",
    "print(\"Book Review\")\n",
    "bookJson = response.json()\n",
    "\n",
    "print(\"Book Name: \", bookJson.get(\"name\"))\n",
    "print(\"Book Rating: \", bookJson.get(\"rating\"))\n",
    "print(\"Book synopsis: \", bookJson.get(\"synopsis\"))\n"
   ]
  }
 ],
 "metadata": {
  "kernelspec": {
   "display_name": "Bash",
   "language": "bash",
   "name": "bash"
  },
  "language_info": {
   "codemirror_mode": {
    "name": "ipython",
    "version": 3
   },
   "file_extension": ".py",
   "mimetype": "text/x-python",
   "name": "bash",
   "nbconvert_exporter": "python",
   "pygments_lexer": "ipython3",
   "version": "3.9.12"
  },
  "orig_nbformat": 4,
  "vscode": {
   "interpreter": {
    "hash": "b23636a0f379aa6d1164588bdd787c11dbc1e3849696a45eed6ea7802b115e71"
   }
  }
 },
 "nbformat": 4,
 "nbformat_minor": 2
}
