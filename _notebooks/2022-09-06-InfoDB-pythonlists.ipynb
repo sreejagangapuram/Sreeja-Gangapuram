{
 "cells": [
  {
   "cell_type": "markdown",
   "metadata": {},
   "source": [
    "# Python Lists, Dictionaries, Iteration Hacks\n",
    "> An introduction to Data Abstraction using Python Lists [] and Python Dictionaries {}. Week 2 Hacks. \n",
    "\n",
    "- title: Python Lists, Dictionaries, Iteration Hacks\n",
    "- toc: true\n",
    "- permalink: /collegeboard/python_lists\n",
    "- image: /images/python_lists.png\n",
    "- categories: [week2]"
   ]
  },
  {
   "cell_type": "markdown",
   "metadata": {},
   "source": [
    "### Lists and Dictionaries\n",
    "As a quick review we used variables in the introduction last week.  <mark>Variables all have a type</mark>: String, Integer, Float, List and Dictionary are some key types.  In Python, variables are given a type at assignment,  Types are important to understand and will impact operations, as we saw when we were required to user str() function in concatenation.  \n",
    "\n",
    "1. Developers often think of variables as primitives or collections.  Look at this example and see if you can see hypothesize the difference between a primitive and a collection.  \n",
    "2. Take a minute and see if you can reference other elements in the list or other keys in the dictionary. Show output.\n",
    "\n",
    "Notes:\n",
    "- Key Types of Variables: tring, Integer, Float, List and Dictionary. \n",
    "- Difference between a primative and a collection: A primative type is a basic building block of programming. A collection requires objects for manipulation. "
   ]
  },
  {
   "cell_type": "code",
   "execution_count": 33,
   "metadata": {},
   "outputs": [
    {
     "name": "stdout",
     "output_type": "stream",
     "text": [
      "name Sreeja Gangapuram <class 'str'>\n",
      "\n",
      "age 15 <class 'int'>\n",
      "\n",
      "score 100.0 <class 'float'>\n",
      "\n",
      "langs ['Python', 'JavaScript', 'Java'] <class 'list'> length 3\n",
      "- langs[0] Python <class 'str'>\n",
      "\n",
      "person {'name': 'Sreeja Gangapuram', 'age': 15, 'score': 100.0, 'langs': ['Python', 'JavaScript', 'Java']} <class 'dict'> length 4\n",
      "- person[\"name\"] Sreeja Gangapuram <class 'str'>\n"
     ]
    }
   ],
   "source": [
    "# Sample of Python Variables\n",
    "\n",
    "# variable of type string\n",
    "name = \"Sreeja Gangapuram\"\n",
    "print(\"name\", name, type(name))\n",
    "\n",
    "print()\n",
    "\n",
    "\n",
    "# variable of type integer\n",
    "age = 15\n",
    "print(\"age\", age, type(age))\n",
    "\n",
    "print()\n",
    "\n",
    "# variable of type float\n",
    "score = 100.0\n",
    "print(\"score\", score, type(score))\n",
    "\n",
    "print()\n",
    "\n",
    "# variable of type list (many values in one variable)\n",
    "langs = [\"Python\", \"JavaScript\", \"Java\"]\n",
    "print(\"langs\", langs, type(langs), \"length\", len(langs))\n",
    "print(\"- langs[0]\", langs[0], type(langs[0]))\n",
    "\n",
    "print()\n",
    "\n",
    "# variable of type dictionary (a group of keys and values)\n",
    "person = {\n",
    "    \"name\": name,\n",
    "    \"age\": age,\n",
    "    \"score\": score,\n",
    "    \"langs\": langs\n",
    "}\n",
    "print(\"person\", person, type(person), \"length\", len(person))\n",
    "print('- person[\"name\"]', person[\"name\"], type(person[\"name\"]))"
   ]
  },
  {
   "cell_type": "markdown",
   "metadata": {},
   "source": [
    "#### Randomized Order Selection"
   ]
  },
  {
   "cell_type": "code",
   "execution_count": 34,
   "metadata": {},
   "outputs": [
    {
     "name": "stdout",
     "output_type": "stream",
     "text": [
      "Book choices\n",
      "A Good Book reccomendation is The Spanish Love Deception:)\n"
     ]
    }
   ],
   "source": [
    "#Printing in random order, book choices. \n",
    "import random\n",
    "print(\"Book choices\")\n",
    "books = [\"A Good Girl's Guide to Murder\", \"The Silent Patient\", \"Verity\", \"The Spanish Love Deception\"]\n",
    "randomBook = random.choice(books)\n",
    "print(\"A Good Book reccomendation is\", randomBook+ \":)\")"
   ]
  },
  {
   "cell_type": "markdown",
   "metadata": {},
   "source": [
    "#### Print in Reversed Order"
   ]
  },
  {
   "cell_type": "code",
   "execution_count": 35,
   "metadata": {},
   "outputs": [
    {
     "name": "stdout",
     "output_type": "stream",
     "text": [
      "\n",
      "Reversed List: ['Confetti', 'Chocolate Chip', 'Vanilla', 'Red Velvet', 'Chocolate']\n"
     ]
    }
   ],
   "source": [
    "#Reversed Order Hacks\n",
    "cakes = [\"Chocolate\", \"Red Velvet\", \"Vanilla\", \"Chocolate Chip\", \"Confetti\"]\n",
    "cakes.reverse()\n",
    "print('\\nReversed List:', cakes)"
   ]
  },
  {
   "cell_type": "markdown",
   "metadata": {},
   "source": [
    "### List and Dictionary Purpose\n",
    "Our society is being built on information.  <mark>List and Dictionaries are used to collect information</mark>.  Mostly, when information is collected it is formed into patterns.  As that pattern is established you will be able collect many instances of that pattern.\n",
    "- List is used to collect many instances of a pattern\n",
    "- Dictionary is used to define data patterns.\n",
    "- Iteration is often used to process through lists.\n",
    "\n",
    "To start exploring more deeply into List, Dictionary and Iteration this example will explore constructing a List of people and cars.\n",
    "- As we learned above, a List is a data type: class 'list'\n",
    "- A <mark>'list' data type has the method '.append(expression)'</mark> that allows you to add to the list.  A class usually has extra method to support working with its objects/instances.\n",
    "- In the example below,  the expression is appended to the 'list' is the data type: class 'dict'\n",
    "- At the end, you see a fairly complicated data structure.  This is a <mark>list of dictionaries</mark>, or a collection of many similar data patterns.  The output looks similar to JavaScript Object Notation (JSON), Jekyll/GitHub pages yml files, FastPages Front Matter. As discussed we will see this key/value patter often, you will be required to understand this data structure and understand the parts.  Just believe it is peasy ;) and it will become so."
   ]
  },
  {
   "cell_type": "code",
   "execution_count": 36,
   "metadata": {},
   "outputs": [
    {
     "name": "stdout",
     "output_type": "stream",
     "text": [
      "[{'BookTitle': \"A Good Girl's Guide to Murder\", 'Author': 'Holly Jackson', 'DatePublished': 'May 2, 2019', 'Genre(s)': 'Mystery, Young adult fiction', 'Review': ['4.4']}, {'BookTitle': 'The Silent Patient', 'Author': 'Alex Michaelides', 'DatePublished': 'February 5, 2019', 'Genre(s)': 'Thriller, Novel, Mystery, Suspense, Psychological Fiction, Crime Fiction', 'Review': ['4.2']}]\n"
     ]
    }
   ],
   "source": [
    "InfoDb = []\n",
    "\n",
    "# InfoDB is a data structure with expected Keys and Values\n",
    "\n",
    "# Append to List a Dictionary of book titles, their authors, published date, and more information about them. \n",
    "InfoDb.append({\n",
    "    \"BookTitle\": \"A Good Girl's Guide to Murder\",\n",
    "    \"Author\": \"Holly Jackson\",\n",
    "    \"DatePublished\": \"May 2, 2019\",\n",
    "    \"Genre(s)\": \"Mystery, Young adult fiction\",\n",
    "    \"Review\": [\"4.4\"]\n",
    "})\n",
    "\n",
    "# Append to List a 2nd Dictionary of key/values\n",
    "InfoDb.append({\n",
    "    \"BookTitle\": \"The Silent Patient\",\n",
    "    \"Author\": \"Alex Michaelides\",\n",
    "    \"DatePublished\": \"February 5, 2019\",\n",
    "    \"Genre(s)\": \"Thriller, Novel, Mystery, Suspense, Psychological Fiction, Crime Fiction\",\n",
    "    \"Review\": [\"4.2\"]\n",
    "})\n",
    "\n",
    "# Print the data structure\n",
    "print(InfoDb)"
   ]
  },
  {
   "cell_type": "markdown",
   "metadata": {},
   "source": [
    "### For Loop\n",
    "Managing data in Lists and Dictionaries is for the convenience of passing the data across the internet, to applications, or preparing it to be stored into a database.  It is a great way to exchange data between programs and programmers.  Exchange of data between programs includes the data type the method/function and the format of the data type.  These concepts are key to learning how to write functions, receive, and return data.  This process is often referred to as an <mark>Application Programming Interface (API)</mark>. \n",
    "\n",
    "Next, we will take the stored data and output it within our notebook.  There are multiple steps to this process...\n",
    "- <mark>Preparing a function to format the data</mark>, the print_data() function receives a parameter called \"d_rec\" short for dictionary record.  It then references different keys within [] square brackets.   \n",
    "- <mark>Preparing a function to iterate through the list</mark>, the for_loop() function uses an enhanced for loop that pull record by record out of InfoDb until the list is empty.  Each time through the loop it call print_data(record), which passes the dictionary record to that function.\n",
    "- Finally, you need to <mark>activate your function</mark> with the call to the defined function for_loop().  Functions are defined, not activated until they are called.  By placing for_loop() at the left margin the function is activated."
   ]
  },
  {
   "cell_type": "code",
   "execution_count": 37,
   "metadata": {},
   "outputs": [
    {
     "name": "stdout",
     "output_type": "stream",
     "text": [
      "For loop output\n",
      "\n",
      "A Good Girl's Guide to Murder\n",
      "\t Author: Holly Jackson\n",
      "\t DatePublished: May 2, 2019\n",
      "\t Genre(s): Mystery, Young adult fiction\n",
      "\t Review: ['4.4']\n",
      "\n",
      "The Silent Patient\n",
      "\t Author: Alex Michaelides\n",
      "\t DatePublished: February 5, 2019\n",
      "\t Genre(s): Thriller, Novel, Mystery, Suspense, Psychological Fiction, Crime Fiction\n",
      "\t Review: ['4.2']\n",
      "\n"
     ]
    }
   ],
   "source": [
    "# This jupyter cell has dependencies on one or more cells above\n",
    "\n",
    "# print function: given a dictionary of InfoDb content\n",
    "def print_data(d_rec):\n",
    "    print(d_rec[\"BookTitle\"])  # using comma puts space between values\n",
    "    print(\"\\t\", \"Author:\", d_rec[\"Author\"]) # \\t is a tab indent\n",
    "    print(\"\\t\", \"DatePublished:\", d_rec[\"DatePublished\"])\n",
    "    print(\"\\t\", \"Genre(s):\", d_rec[\"Genre(s)\"])\n",
    "    print(\"\\t\", \"Review:\", d_rec[\"Review\"])\n",
    "    print()\n",
    "\n",
    "\n",
    "# for loop algorithm iterates on length of InfoDb\n",
    "def for_loop():\n",
    "    print(\"For loop output\\n\")\n",
    "    for record in InfoDb:\n",
    "        print_data(record)\n",
    "\n",
    "for_loop()"
   ]
  },
  {
   "cell_type": "markdown",
   "metadata": {},
   "source": [
    "### While loop\n",
    "In coding, there are usually many ways to achieve the same result.  Defined are functions illustrating using index to reference records in a list, these methods are called a \"while\" loop and \"recursion\".\n",
    "- The while_loop() function contains a while loop, \"while i < len(InfoDb):\".  This counts through the elements in the list start at zero, and passes the record to print_data()"
   ]
  },
  {
   "cell_type": "code",
   "execution_count": 38,
   "metadata": {},
   "outputs": [
    {
     "name": "stdout",
     "output_type": "stream",
     "text": [
      "While loop output\n",
      "\n",
      "A Good Girl's Guide to Murder\n",
      "\t Author: Holly Jackson\n",
      "\t DatePublished: May 2, 2019\n",
      "\t Genre(s): Mystery, Young adult fiction\n",
      "\t Review: ['4.4']\n",
      "\n",
      "The Silent Patient\n",
      "\t Author: Alex Michaelides\n",
      "\t DatePublished: February 5, 2019\n",
      "\t Genre(s): Thriller, Novel, Mystery, Suspense, Psychological Fiction, Crime Fiction\n",
      "\t Review: ['4.2']\n",
      "\n"
     ]
    }
   ],
   "source": [
    "# This jupyter cell has dependencies on one or more cells above\n",
    "\n",
    "# while loop algorithm contains an initial n and an index incrementing statement (n += 1)\n",
    "def while_loop():\n",
    "    print(\"While loop output\\n\")\n",
    "    i = 0\n",
    "    while i < len(InfoDb):\n",
    "        record = InfoDb[i]\n",
    "        print_data(record)\n",
    "        i += 1\n",
    "    return\n",
    "\n",
    "while_loop()"
   ]
  },
  {
   "cell_type": "markdown",
   "metadata": {},
   "source": [
    "### Recursion\n",
    "This final technique achieves looping by calling itself repeatedly.\n",
    "- recursive_loop(i) function is primed with the value 0 on its activation with \"recursive_loop(0)\"\n",
    "- the last statement indented inside the if statement \"recursive_loop(i + 1)\" activates another call to the recursive_loop(i) function, each time i is increasing\n",
    "- ultimately the \"if i < len(InfoDb):\" will evaluate to false and the program ends"
   ]
  },
  {
   "cell_type": "code",
   "execution_count": 39,
   "metadata": {},
   "outputs": [
    {
     "name": "stdout",
     "output_type": "stream",
     "text": [
      "Recursive loop output\n",
      "\n",
      "A Good Girl's Guide to Murder\n",
      "\t Author: Holly Jackson\n",
      "\t DatePublished: May 2, 2019\n",
      "\t Genre(s): Mystery, Young adult fiction\n",
      "\t Review: ['4.4']\n",
      "\n",
      "The Silent Patient\n",
      "\t Author: Alex Michaelides\n",
      "\t DatePublished: February 5, 2019\n",
      "\t Genre(s): Thriller, Novel, Mystery, Suspense, Psychological Fiction, Crime Fiction\n",
      "\t Review: ['4.2']\n",
      "\n"
     ]
    }
   ],
   "source": [
    "# This jupyter cell has dependencies on one or more cells above\n",
    "\n",
    "# recursion algorithm loops incrementing on each call (n + 1) until exit condition is met\n",
    "def recursive_loop(i):\n",
    "    if i < len(InfoDb):\n",
    "        record = InfoDb[i]\n",
    "        print_data(record)\n",
    "        recursive_loop(i + 1)\n",
    "    return\n",
    "    \n",
    "print(\"Recursive loop output\\n\")\n",
    "recursive_loop(0)"
   ]
  },
  {
   "cell_type": "markdown",
   "metadata": {},
   "source": [
    "### Quiz\n",
    "This quiz stores in the list of dictionaries. "
   ]
  },
  {
   "cell_type": "code",
   "execution_count": 47,
   "metadata": {},
   "outputs": [
    {
     "name": "stdout",
     "output_type": "stream",
     "text": [
      "Hello, SreejaGangapuram running /usr/local/bin/python3\n",
      "You will be asked 3 questions.\n",
      "Question: Are you ready to take a test?\n",
      "Answer: yes\n",
      "Question: Who is the author of A Good Girl's Guide To Murder?\n",
      "Holly Jackson is correct!\n",
      "1\n",
      "Question: What is the rating of The Silent Patient?\n",
      "4.2 is correct!\n",
      "2\n",
      "Question: In what year were A Good Girl's Guide to Murder and The Silent Patient published?\n",
      "2019 is correct!\n",
      "3\n",
      "SreejaGangapuram you scored 3/3\n"
     ]
    }
   ],
   "source": [
    "import getpass, sys\n",
    "#used three variables (q1, q2, q3) for the questions. \n",
    "q1 = \"Who is the author of A Good Girl's Guide To Murder?\"\n",
    "q2 = \"What is the rating of The Silent Patient?\"\n",
    "q3 = \"In what year were A Good Girl's Guide to Murder and The Silent Patient published?\"\n",
    "\n",
    "#defining a dictionary using the above questions and answers. \n",
    "quiz = { q1: \"Holly Jackson\", \n",
    "         q2: \"4.2\",\n",
    "         q3: \"2019\"\n",
    "        }\n",
    "    \n",
    "\n",
    "def question_and_answer(prompt):\n",
    "    print(\"Question: \" + prompt)\n",
    "    msg = input()\n",
    "    print(\"Answer: \" + msg)\n",
    "    \n",
    "def question_with_response(prompt):\n",
    "    print(\"Question: \" + prompt)\n",
    "    msg = input()\n",
    "    return msg\n",
    "\n",
    "#evaluating the answer using the get() function on the dictionary. \"Python dictionary method get() returns a value for the given key. If key is not available then returns default value None.\"\n",
    "def evaluate_answer(question, response, correct):\n",
    "    if response == quiz.get(question):\n",
    "      print(response + \" is correct!\")\n",
    "      correct += 1\n",
    "    else:\n",
    "      print(response + \" is incorrect!\")\n",
    "    return correct\n",
    "    \n",
    "\n",
    "\n",
    "questions = 3\n",
    "correct = 0\n",
    "\n",
    "print('Hello, ' + getpass.getuser() + \" running \" + sys.executable)\n",
    "print(\"You will be asked \" + str(questions) + \" questions.\")\n",
    "question_and_answer(\"Are you ready to take a test?\")\n",
    "\n",
    "rsp = question_with_response(q1)\n",
    "correct = evaluate_answer(q1, rsp, correct)\n",
    "print(correct)\n",
    "\n",
    "rsp = question_with_response(q2)\n",
    "correct = evaluate_answer(q2, rsp, correct)\n",
    "print(correct)\n",
    "\n",
    "\n",
    "rsp = question_with_response(q3)\n",
    "correct = evaluate_answer(q3, rsp, correct)\n",
    "print(correct)\n",
    "\n",
    "print(getpass.getuser() + \" you scored \" + str(correct) +\"/\" + str(questions))"
   ]
  }
 ],
 "metadata": {
  "kernelspec": {
   "display_name": "Python 3.10.6 64-bit",
   "language": "python",
   "name": "python3"
  },
  "language_info": {
   "codemirror_mode": {
    "name": "ipython",
    "version": 3
   },
   "file_extension": ".py",
   "mimetype": "text/x-python",
   "name": "python",
   "nbconvert_exporter": "python",
   "pygments_lexer": "ipython3",
   "version": "3.10.6"
  },
  "orig_nbformat": 4,
  "vscode": {
   "interpreter": {
    "hash": "aee8b7b246df8f9039afb4144a1f6fd8d2ca17a180786b69acc140d282b71a49"
   }
  }
 },
 "nbformat": 4,
 "nbformat_minor": 2
}
