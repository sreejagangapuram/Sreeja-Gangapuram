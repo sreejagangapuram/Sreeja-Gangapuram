{
 "cells": [
  {
   "cell_type": "markdown",
   "metadata": {},
   "source": [
    "# Python Lists, Dictionaries, Iteration Hacks\n",
    "> An introduction to Data Abstraction using Python Lists [] and Python Dictionaries {}. Week 2 Hacks. \n",
    "\n",
    "- title: Python Lists, Dictionaries, Iteration Hacks\n",
    "- toc: true\n",
    "- permalink: /collegeboard/python_lists\n",
    "- image: /images/python_lists.png\n",
    "- categories: [week2]"
   ]
  },
  {
   "cell_type": "markdown",
   "metadata": {},
   "source": [
    "### Lists and Dictionaries\n",
    "- Key Types of Variables: tring, Integer, Float, List and Dictionary. \n",
    "- Difference between a primative and a collection: A primative type is a basic building block of programming. A collection requires objects for manipulation. "
   ]
  },
  {
   "cell_type": "code",
   "execution_count": 25,
   "metadata": {},
   "outputs": [
    {
     "name": "stdout",
     "output_type": "stream",
     "text": [
      "name Sreeja Gangapuram <class 'str'>\n",
      "\n",
      "age 15 <class 'int'>\n",
      "\n",
      "score 100.0 <class 'float'>\n",
      "\n",
      "langs ['Python', 'JavaScript', 'Java'] <class 'list'> length 3\n"
     ]
    },
    {
     "ename": "IndexError",
     "evalue": "list index out of range",
     "output_type": "error",
     "traceback": [
      "\u001b[0;31m---------------------------------------------------------------------------\u001b[0m",
      "\u001b[0;31mIndexError\u001b[0m                                Traceback (most recent call last)",
      "\u001b[1;32m/Users/SreejaGangapuram_1/vscode/Sreeja-Gangapuram/_notebooks/2022-09-06-InfoDB-pythonlists.ipynb Cell 3\u001b[0m in \u001b[0;36m<cell line: 25>\u001b[0;34m()\u001b[0m\n\u001b[1;32m     <a href='vscode-notebook-cell:/Users/SreejaGangapuram_1/vscode/Sreeja-Gangapuram/_notebooks/2022-09-06-InfoDB-pythonlists.ipynb#X10sZmlsZQ%3D%3D?line=22'>23</a>\u001b[0m langs \u001b[39m=\u001b[39m [\u001b[39m\"\u001b[39m\u001b[39mPython\u001b[39m\u001b[39m\"\u001b[39m, \u001b[39m\"\u001b[39m\u001b[39mJavaScript\u001b[39m\u001b[39m\"\u001b[39m, \u001b[39m\"\u001b[39m\u001b[39mJava\u001b[39m\u001b[39m\"\u001b[39m]\n\u001b[1;32m     <a href='vscode-notebook-cell:/Users/SreejaGangapuram_1/vscode/Sreeja-Gangapuram/_notebooks/2022-09-06-InfoDB-pythonlists.ipynb#X10sZmlsZQ%3D%3D?line=23'>24</a>\u001b[0m \u001b[39mprint\u001b[39m(\u001b[39m\"\u001b[39m\u001b[39mlangs\u001b[39m\u001b[39m\"\u001b[39m, langs, \u001b[39mtype\u001b[39m(langs), \u001b[39m\"\u001b[39m\u001b[39mlength\u001b[39m\u001b[39m\"\u001b[39m, \u001b[39mlen\u001b[39m(langs))\n\u001b[0;32m---> <a href='vscode-notebook-cell:/Users/SreejaGangapuram_1/vscode/Sreeja-Gangapuram/_notebooks/2022-09-06-InfoDB-pythonlists.ipynb#X10sZmlsZQ%3D%3D?line=24'>25</a>\u001b[0m \u001b[39mprint\u001b[39m(\u001b[39m\"\u001b[39m\u001b[39m- langs[3]\u001b[39m\u001b[39m\"\u001b[39m, langs[\u001b[39m3\u001b[39;49m], \u001b[39mtype\u001b[39m(langs[\u001b[39m3\u001b[39m]))\n\u001b[1;32m     <a href='vscode-notebook-cell:/Users/SreejaGangapuram_1/vscode/Sreeja-Gangapuram/_notebooks/2022-09-06-InfoDB-pythonlists.ipynb#X10sZmlsZQ%3D%3D?line=26'>27</a>\u001b[0m \u001b[39mprint\u001b[39m()\n\u001b[1;32m     <a href='vscode-notebook-cell:/Users/SreejaGangapuram_1/vscode/Sreeja-Gangapuram/_notebooks/2022-09-06-InfoDB-pythonlists.ipynb#X10sZmlsZQ%3D%3D?line=28'>29</a>\u001b[0m \u001b[39m# variable of type dictionary (a group of keys and values)\u001b[39;00m\n",
      "\u001b[0;31mIndexError\u001b[0m: list index out of range"
     ]
    }
   ],
   "source": [
    "# Sample of Python Variables\n",
    "\n",
    "# variable of type string\n",
    "name = \"Sreeja Gangapuram\"\n",
    "print(\"name\", name, type(name))\n",
    "\n",
    "print()\n",
    "\n",
    "\n",
    "# variable of type integer\n",
    "age = 15\n",
    "print(\"age\", age, type(age))\n",
    "\n",
    "print()\n",
    "\n",
    "# variable of type float\n",
    "score = 100.0\n",
    "print(\"score\", score, type(score))\n",
    "\n",
    "print()\n",
    "\n",
    "# variable of type list (many values in one variable)\n",
    "langs = [\"Python\", \"JavaScript\", \"Java\"]\n",
    "print(\"langs\", langs, type(langs), \"length\", len(langs))\n",
    "print(\"- langs[0]\", langs[0], type(langs[0]))\n",
    "\n",
    "print()\n",
    "\n",
    "# variable of type dictionary (a group of keys and values)\n",
    "person = {\n",
    "    \"name\": name,\n",
    "    \"age\": age,\n",
    "    \"score\": score,\n",
    "    \"langs\": langs\n",
    "}\n",
    "print(\"person\", person, type(person), \"length\", len(person))\n",
    "print('- person[\"name\"]', person[\"name\"], type(person[\"name\"]))"
   ]
  },
  {
   "cell_type": "markdown",
   "metadata": {},
   "source": [
    "#### Randomized Order Selection"
   ]
  },
  {
   "cell_type": "code",
   "execution_count": null,
   "metadata": {},
   "outputs": [
    {
     "name": "stdout",
     "output_type": "stream",
     "text": [
      "Book choices\n",
      "A Good Book reccomendation is A Good Girl's Guide to Murder:)\n"
     ]
    }
   ],
   "source": [
    "#Printing in random order, book choices. \n",
    "import random\n",
    "print(\"Book choices\")\n",
    "books = [\"A Good Girl's Guide to Murder\", \"The Silent Patient\", \"Verity\", \"The Spanish Love Deception\"]\n",
    "randomBook = random.choice(books)\n",
    "print(\"A Good Book reccomendation is\", randomBook+ \":)\")"
   ]
  },
  {
   "cell_type": "markdown",
   "metadata": {},
   "source": [
    "#### Print in Reversed Order"
   ]
  },
  {
   "cell_type": "code",
   "execution_count": null,
   "metadata": {},
   "outputs": [
    {
     "name": "stdout",
     "output_type": "stream",
     "text": [
      "\n",
      "Reversed List: ['Confetti', 'Chocolate Chip', 'Vanilla', 'Red Velvet', 'Chocolate']\n"
     ]
    }
   ],
   "source": [
    "#Reversed Order Hacks\n",
    "cakes = [\"Chocolate\", \"Red Velvet\", \"Vanilla\", \"Chocolate Chip\", \"Confetti\"]\n",
    "cakes.reverse()\n",
    "print('\\nReversed List:', cakes)"
   ]
  },
  {
   "cell_type": "markdown",
   "metadata": {},
   "source": [
    "### List and Dictionary purpose\n",
    "- List is used to collect many instances of a pattern\n",
    "- Dictionary is used to define data patterns.\n",
    "- Iteration is often used to process through lists."
   ]
  },
  {
   "cell_type": "code",
   "execution_count": null,
   "metadata": {},
   "outputs": [
    {
     "name": "stdout",
     "output_type": "stream",
     "text": [
      "[{'BookTitle': \"A Good Girl's Guide to Murder\", 'Author': 'Holly Jackson', 'DatePublished': 'May 2, 2019', 'Genre(s)': 'Mystery, Young adult fiction', 'Review': ['4.4']}, {'BookTitle': 'The Silent Patient', 'Author': 'Alex Michaelides', 'DatePublished': 'February 5, 2019', 'Genre(s)': 'Thriller, Novel, Mystery, Suspense, Psychological Fiction, Crime Fiction', 'Review': ['4.2']}]\n"
     ]
    }
   ],
   "source": [
    "InfoDb = []\n",
    "\n",
    "# InfoDB is a data structure with expected Keys and Values\n",
    "\n",
    "# Append to List a Dictionary of book titles, their authors, published date, and more information about them. \n",
    "InfoDb.append({\n",
    "    \"BookTitle\": \"A Good Girl's Guide to Murder\",\n",
    "    \"Author\": \"Holly Jackson\",\n",
    "    \"DatePublished\": \"May 2, 2019\",\n",
    "    \"Genre(s)\": \"Mystery, Young adult fiction\",\n",
    "    \"Review\": [\"4.4\"]\n",
    "})\n",
    "\n",
    "# Append to List a 2nd Dictionary of key/values\n",
    "InfoDb.append({\n",
    "    \"BookTitle\": \"The Silent Patient\",\n",
    "    \"Author\": \"Alex Michaelides\",\n",
    "    \"DatePublished\": \"February 5, 2019\",\n",
    "    \"Genre(s)\": \"Thriller, Novel, Mystery, Suspense, Psychological Fiction, Crime Fiction\",\n",
    "    \"Review\": [\"4.2\"]\n",
    "})\n",
    "\n",
    "# Print the data structure\n",
    "print(InfoDb)"
   ]
  },
  {
   "cell_type": "markdown",
   "metadata": {},
   "source": [
    "### For loop\n",
    "- <mark>Preparing a function to format the data</mark>, the print_data() function receives a parameter called \"d_rec\" short for dictionary record.  It then references different keys within [] square brackets.   \n",
    "- <mark>Preparing a function to iterate through the list</mark>, the for_loop() function uses an enhanced for loop that pull record by record out of InfoDb until the list is empty.  Each time through the loop it call print_data(record), which passes the dictionary record to that function.\n",
    "- Finally, you need to <mark>activate your function</mark> with the call to the defined function for_loop().  Functions are defined, not activated until they are called.  By placing for_loop() at the left margin the function is activated."
   ]
  },
  {
   "cell_type": "code",
   "execution_count": null,
   "metadata": {},
   "outputs": [
    {
     "name": "stdout",
     "output_type": "stream",
     "text": [
      "For loop output\n",
      "\n",
      "A Good Girl's Guide to Murder\n",
      "\t Author: Holly Jackson\n",
      "\t DatePublished: May 2, 2019\n",
      "\t Genre(s): Mystery, Young adult fiction\n",
      "\t Review: ['4.4']\n",
      "\n",
      "The Silent Patient\n",
      "\t Author: Alex Michaelides\n",
      "\t DatePublished: February 5, 2019\n",
      "\t Genre(s): Thriller, Novel, Mystery, Suspense, Psychological Fiction, Crime Fiction\n",
      "\t Review: ['4.2']\n",
      "\n"
     ]
    }
   ],
   "source": [
    "# This jupyter cell has dependencies on one or more cells above\n",
    "\n",
    "# print function: given a dictionary of InfoDb content\n",
    "def print_data(d_rec):\n",
    "    print(d_rec[\"BookTitle\"])  # using comma puts space between values\n",
    "    print(\"\\t\", \"Author:\", d_rec[\"Author\"]) # \\t is a tab indent\n",
    "    print(\"\\t\", \"DatePublished:\", d_rec[\"DatePublished\"])\n",
    "    print(\"\\t\", \"Genre(s):\", d_rec[\"Genre(s)\"])\n",
    "    print(\"\\t\", \"Review:\", d_rec[\"Review\"])\n",
    "    print()\n",
    "\n",
    "\n",
    "# for loop algorithm iterates on length of InfoDb\n",
    "def for_loop():\n",
    "    print(\"For loop output\\n\")\n",
    "    for record in InfoDb:\n",
    "        print_data(record)\n",
    "\n",
    "for_loop()"
   ]
  },
  {
   "cell_type": "markdown",
   "metadata": {},
   "source": [
    "### While loop\n",
    "In coding, there are usually many ways to achieve the same result.  Defined are functions illustrating using index to reference records in a list, these methods are called a \"while\" loop and \"recursion\"."
   ]
  },
  {
   "cell_type": "code",
   "execution_count": null,
   "metadata": {},
   "outputs": [
    {
     "name": "stdout",
     "output_type": "stream",
     "text": [
      "While loop output\n",
      "\n",
      "A Good Girl's Guide to Murder\n",
      "\t Author: Holly Jackson\n",
      "\t DatePublished: May 2, 2019\n",
      "\t Genre(s): Mystery, Young adult fiction\n",
      "\t Review: ['4.4']\n",
      "\n",
      "The Silent Patient\n",
      "\t Author: Alex Michaelides\n",
      "\t DatePublished: February 5, 2019\n",
      "\t Genre(s): Thriller, Novel, Mystery, Suspense, Psychological Fiction, Crime Fiction\n",
      "\t Review: ['4.2']\n",
      "\n"
     ]
    }
   ],
   "source": [
    "# This jupyter cell has dependencies on one or more cells above\n",
    "\n",
    "# while loop algorithm contains an initial n and an index incrementing statement (n += 1)\n",
    "def while_loop():\n",
    "    print(\"While loop output\\n\")\n",
    "    i = 0\n",
    "    while i < len(InfoDb):\n",
    "        record = InfoDb[i]\n",
    "        print_data(record)\n",
    "        i += 1\n",
    "    return\n",
    "\n",
    "while_loop()"
   ]
  },
  {
   "cell_type": "markdown",
   "metadata": {},
   "source": [
    "### Recursion\n",
    "This final technique achieves looping by calling itself repeatedly.\n",
    "- recursive_loop(i) function is primed with the value 0 on its activation with \"recursive_loop(0)\"\n",
    "- the last statement indented inside the if statement \"recursive_loop(i + 1)\" activates another call to the recursive_loop(i) function, each time i is increasing\n",
    "- ultimately the \"if i < len(InfoDb):\" will evaluate to false and the program ends"
   ]
  },
  {
   "cell_type": "code",
   "execution_count": null,
   "metadata": {},
   "outputs": [
    {
     "name": "stdout",
     "output_type": "stream",
     "text": [
      "Recursive loop output\n",
      "\n",
      "A Good Girl's Guide to Murder\n",
      "\t Author: Holly Jackson\n",
      "\t DatePublished: May 2, 2019\n",
      "\t Genre(s): Mystery, Young adult fiction\n",
      "\t Review: ['4.4']\n",
      "\n",
      "The Silent Patient\n",
      "\t Author: Alex Michaelides\n",
      "\t DatePublished: February 5, 2019\n",
      "\t Genre(s): Thriller, Novel, Mystery, Suspense, Psychological Fiction, Crime Fiction\n",
      "\t Review: ['4.2']\n",
      "\n"
     ]
    }
   ],
   "source": [
    "# This jupyter cell has dependencies on one or more cells above\n",
    "\n",
    "# recursion algorithm loops incrementing on each call (n + 1) until exit condition is met\n",
    "def recursive_loop(i):\n",
    "    if i < len(InfoDb):\n",
    "        record = InfoDb[i]\n",
    "        print_data(record)\n",
    "        recursive_loop(i + 1)\n",
    "    return\n",
    "    \n",
    "print(\"Recursive loop output\\n\")\n",
    "recursive_loop(0)"
   ]
  }
 ],
 "metadata": {
  "kernelspec": {
   "display_name": "Python 3.10.6 64-bit",
   "language": "python",
   "name": "python3"
  },
  "language_info": {
   "codemirror_mode": {
    "name": "ipython",
    "version": 3
   },
   "file_extension": ".py",
   "mimetype": "text/x-python",
   "name": "python",
   "nbconvert_exporter": "python",
   "pygments_lexer": "ipython3",
   "version": "3.10.6"
  },
  "orig_nbformat": 4,
  "vscode": {
   "interpreter": {
    "hash": "aee8b7b246df8f9039afb4144a1f6fd8d2ca17a180786b69acc140d282b71a49"
   }
  }
 },
 "nbformat": 4,
 "nbformat_minor": 2
}
