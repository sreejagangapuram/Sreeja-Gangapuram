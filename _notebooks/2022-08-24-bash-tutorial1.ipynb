{
 "cells": [
  {
   "cell_type": "markdown",
   "metadata": {},
   "source": [
    "# Bash Tutorial\n",
    "> A brief overview of Bash, on your way to becoming a Linux expert.  When a computer boots up, a kernel (MacOS, Windows, Linux) is started.  This kernel provides a shell that allows user to interact with a most basic set of commands.  Typically, the casual user will not interact with the shell as a Desktop User Interface is started by the computer boot up process.  To activate the shell directly, users will run a \"terminal\" through the Desktop, VS Code or activate \"console\" while on a cloud computer like AWS.\n",
    "\n",
    "- toc: true\n",
    "- comments: true\n",
    "- permalink: /techtalk/bash\n",
    "- image: /images/bash.jpeg\n",
    "- categories: [techtalk]"
   ]
  },
  {
   "cell_type": "markdown",
   "metadata": {},
   "source": [
    "## Prerequisites for Bash on Jupyter\n",
    "> Being able to find a Bash Reference.  Here is a [Bash Cheat Sheet](https://www.pcwdld.com/bash-cheat-sheet)\n",
    "\n",
    "> Install the Bash Kernel for Jupyter notebooks.  Expectations are pip3 and python3 are defined within the path.  The bash shell allowed construction of this tutorial.\n",
    "\n",
    "- pip install bash_kernel\n",
    "- python -m bash_kernel.install\n",
    "\n",
    "Selecting a kernel in \"code --project--\" or \"jupyter notebook --file.ipynb--\" that have bash in options.\n",
    "![](images/kernels.png)"
   ]
  },
  {
   "cell_type": "markdown",
   "metadata": {},
   "source": [
    "## Prerequisites for Project Directory\n",
    "> Practice pulling code from git to your machine. This will create a project directory and add APCSP github project to the directory.  There is conditional logic to make sure that directory and pull only happen if it does not (!) exist.\n",
    "\n",
    "- Hack: Change variables, make new directory, clone to that directory."
   ]
  },
  {
   "cell_type": "code",
   "execution_count": 18,
   "metadata": {
    "vscode": {
     "languageId": "shellscript"
    }
   },
   "outputs": [
    {
     "name": "stdout",
     "output_type": "stream",
     "text": [
      "Using conditional statement to create a project directory and project\n",
      "Directory /Users/SreejaGangapuram_1/vscode exists.\n",
      "Directory /Users/SreejaGangapuram_1/vscode/APCSP exists.\n"
     ]
    }
   ],
   "source": [
    "echo \"Using conditional statement to create a project directory and project\"\n",
    "\n",
    "# Variable section\n",
    "export project_dir=$HOME/vscode  # change vscode to different name to test git clone\n",
    "export project=$project_dir/APCSP  # change APCSP to name of project from git clone\n",
    "export project_repo=\"https://github.com/nighthawkcoders/APCSP.git\"  # change to project of choice\n",
    "\n",
    "cd ~    # start in home directory\n",
    "\n",
    "# Conditional block to make a project directory\n",
    "if [ ! -d $project_dir ]\n",
    "then \n",
    "    echo \"Directory $project_dir does not exists... makinng directory $project_dir\"\n",
    "    mkdir -p $project_dir\n",
    "fi\n",
    "echo \"Directory $project_dir exists.\" \n",
    "\n",
    "# Conditional block to git clone a project from project_repo\n",
    "if [ ! -d $project ]\n",
    "then\n",
    "    echo \"Directory $project does not exists... cloning $project_repo\"\n",
    "    cd $project_dir\n",
    "    git clone $project_repo\n",
    "    cd ~\n",
    "fi\n",
    "echo \"Directory $project exists.\" "
   ]
  },
  {
   "cell_type": "markdown",
   "metadata": {},
   "source": [
    "### Look inside Fastpages/Github page project\n",
    "> All computers contain files and directories.  The clone brought more files from cloud to your machine.  Using the bash shell you will see some commands that show and interact with files and directories.\n",
    "\n",
    "- \"ls\" lists computer files in Unix and Unix-like operating systems\n",
    "- \"cd\" offers way to navigate and change working directory\n",
    "- \"pwd\" print working directory\n",
    "- \"echo\" used to display line of text/string that are passed as an argument"
   ]
  },
  {
   "cell_type": "code",
   "execution_count": 11,
   "metadata": {
    "vscode": {
     "languageId": "shellscript"
    }
   },
   "outputs": [
    {
     "name": "stdout",
     "output_type": "stream",
     "text": [
      "Navigate to project, then navigate to area wwhere files were cloned\n",
      "/Users/SreejaGangapuram_1/vscode/APCSP\n",
      "\n",
      "list top level or root of files with project pulled from github\n",
      "Gemfile\t\t\t_includes\t\t_word\n",
      "LICENSE\t\t\t_layouts\t\tassets\n",
      "Makefile\t\t_notebooks\t\tdocker-compose.yml\n",
      "README.md\t\t_pages\t\t\timages\n",
      "_action_files\t\t_plugins\t\tindex.html\n",
      "_config.yml\t\t_posts\t\t\tpython\n",
      "_fastpages_docs\t\t_sass\n",
      "\n",
      "list again with hidden files pulled from github\n",
      ".\t\t\tMakefile\t\t_posts\n",
      "..\t\t\tREADME.md\t\t_sass\n",
      ".devcontainer.json\t_action_files\t\t_word\n",
      ".git\t\t\t_config.yml\t\tassets\n",
      ".gitattributes\t\t_fastpages_docs\t\tdocker-compose.yml\n",
      ".github\t\t\t_includes\t\timages\n",
      ".gitignore\t\t_layouts\t\tindex.html\n",
      ".vscode\t\t\t_notebooks\t\tpython\n",
      "Gemfile\t\t\t_pages\n",
      "LICENSE\t\t\t_plugins\n",
      "\n",
      "list all files in long format\n",
      "total 96\n",
      "drwxr-xr-x  28 SreejaGangapuram  staff    896 Aug 23 15:44 .\n",
      "drwxr-xr-x   4 SreejaGangapuram  staff    128 Aug 23 15:44 ..\n",
      "-rw-r--r--   1 SreejaGangapuram  staff    420 Aug 23 15:44 .devcontainer.json\n",
      "drwxr-xr-x  15 SreejaGangapuram  staff    480 Aug 25 22:40 .git\n",
      "-rw-r--r--   1 SreejaGangapuram  staff     84 Aug 23 15:44 .gitattributes\n",
      "drwxr-xr-x   4 SreejaGangapuram  staff    128 Aug 23 15:44 .github\n",
      "-rw-r--r--   1 SreejaGangapuram  staff    917 Aug 23 15:44 .gitignore\n",
      "drwxr-xr-x   3 SreejaGangapuram  staff     96 Aug 23 15:44 .vscode\n",
      "-rwxr-xr-x   1 SreejaGangapuram  staff   1304 Aug 23 15:44 Gemfile\n",
      "-rw-r--r--   1 SreejaGangapuram  staff  11351 Aug 23 15:44 LICENSE\n",
      "-rwxr-xr-x   1 SreejaGangapuram  staff   1422 Aug 23 15:44 Makefile\n",
      "-rwxr-xr-x   1 SreejaGangapuram  staff   3614 Aug 23 15:44 README.md\n",
      "drwxr-xr-x  18 SreejaGangapuram  staff    576 Aug 23 15:44 _action_files\n",
      "-rw-r--r--   1 SreejaGangapuram  staff   3716 Aug 23 15:44 _config.yml\n",
      "drwxr-xr-x  24 SreejaGangapuram  staff    768 Aug 23 15:44 _fastpages_docs\n",
      "drwxr-xr-x  29 SreejaGangapuram  staff    928 Aug 23 15:44 _includes\n",
      "drwxr-xr-x   6 SreejaGangapuram  staff    192 Aug 23 15:44 _layouts\n",
      "drwxr-xr-x  15 SreejaGangapuram  staff    480 Aug 25 22:36 _notebooks\n",
      "drwxr-xr-x   9 SreejaGangapuram  staff    288 Aug 23 15:44 _pages\n",
      "drwxr-xr-x   4 SreejaGangapuram  staff    128 Aug 23 15:44 _plugins\n",
      "drwxr-xr-x  29 SreejaGangapuram  staff    928 Aug 23 15:44 _posts\n",
      "drwxr-xr-x   3 SreejaGangapuram  staff     96 Aug 23 15:44 _sass\n",
      "drwxr-xr-x   3 SreejaGangapuram  staff     96 Aug 23 15:44 _word\n",
      "drwxr-xr-x   4 SreejaGangapuram  staff    128 Aug 23 15:44 assets\n",
      "-rwxr-xr-x   1 SreejaGangapuram  staff   1136 Aug 23 15:44 docker-compose.yml\n",
      "drwxr-xr-x  52 SreejaGangapuram  staff   1664 Aug 23 15:44 images\n",
      "-rw-r--r--   1 SreejaGangapuram  staff   1061 Aug 23 15:44 index.html\n",
      "drwxr-xr-x   3 SreejaGangapuram  staff     96 Aug 23 15:44 python\n"
     ]
    }
   ],
   "source": [
    "# You must run cells above to define variable and project\n",
    "\n",
    "echo \"Navigate to project, then navigate to area wwhere files were cloned\"\n",
    "cd $project\n",
    "pwd\n",
    "\n",
    "echo \"\"\n",
    "echo \"list top level or root of files with project pulled from github\"\n",
    "ls\n",
    "\n",
    "echo \"\"\n",
    "echo \"list again with hidden files pulled from github\"\n",
    "ls -a   # hidden files flag, many shell commands have flags\n",
    "\n",
    "echo \"\"\n",
    "echo \"list all files in long format\"\n",
    "ls -al   # all files and long listing"
   ]
  },
  {
   "cell_type": "code",
   "execution_count": 12,
   "metadata": {
    "vscode": {
     "languageId": "shellscript"
    }
   },
   "outputs": [
    {
     "name": "stdout",
     "output_type": "stream",
     "text": [
      "Look for posts\n",
      "/Users/SreejaGangapuram_1/vscode/APCSP/_posts\n",
      "total 456\n",
      "-rw-r--r--  1 SreejaGangapuram  staff  21306 Aug 23 15:44 2022-06-01-TT160-deploy.md\n",
      "-rw-r--r--  1 SreejaGangapuram  staff   5861 Aug 23 15:44 2022-07-07-PBL-binary.md\n",
      "-rw-r--r--  1 SreejaGangapuram  staff   3085 Aug 23 15:44 2022-07-08-PBL-grade_calc.md\n",
      "-rw-r--r--  1 SreejaGangapuram  staff   3698 Aug 23 15:44 2022-07-08-PBL-graph.md\n",
      "-rw-r--r--  1 SreejaGangapuram  staff   5729 Aug 23 15:44 2022-07-08-PBL-life.md\n",
      "-rw-r--r--  1 SreejaGangapuram  staff  14387 Aug 23 15:44 2022-07-08-PBL-snake.md\n",
      "-rw-r--r--  1 SreejaGangapuram  staff    334 Aug 23 15:44 2022-07-10-PBL-database.md\n",
      "-rw-r--r--  1 SreejaGangapuram  staff   2908 Aug 23 15:44 2022-07-10-PBL-jokes.md\n",
      "-rw-r--r--  1 SreejaGangapuram  staff   4046 Aug 23 15:44 2022-07-10-PBL-rapidapi.md\n",
      "-rw-r--r--  1 SreejaGangapuram  staff   6685 Aug 23 15:44 2022-07-19-PBL-calculator.md\n",
      "-rw-r--r--  1 SreejaGangapuram  staff  23325 Aug 23 15:44 2022-07-25-CSP-workshop.md\n",
      "-rw-r--r--  1 SreejaGangapuram  staff   2333 Aug 23 15:44 2022-08-15-TP000-student_score_history.md\n",
      "-rw-r--r--  1 SreejaGangapuram  staff   4363 Aug 23 15:44 2022-08-15-TP100-pseudo_code.md\n",
      "-rw-r--r--  1 SreejaGangapuram  staff   7968 Aug 23 15:44 2022-08-15-TR100-tool_setup.md\n",
      "-rw-r--r--  1 SreejaGangapuram  staff  15026 Aug 23 15:44 2022-08-15-TT100-tools.md\n",
      "-rw-r--r--  1 SreejaGangapuram  staff   5590 Aug 23 15:44 2022-08-15-TT101-vscode-wsl.md\n",
      "-rw-r--r--  1 SreejaGangapuram  staff   2155 Aug 23 15:44 2022-08-22-TR110-intro_python.md\n",
      "-rw-r--r--  1 SreejaGangapuram  staff   5173 Aug 23 15:44 2022-08-22-TT110-fastpages.md\n",
      "-rw-r--r--  1 SreejaGangapuram  staff   2798 Aug 23 15:44 2022-08-22-TT110-focus.md\n",
      "-rw-r--r--  1 SreejaGangapuram  staff   2737 Aug 23 15:44 2022-08-29-TR120-data_abstract.md\n",
      "-rw-r--r--  1 SreejaGangapuram  staff  10683 Aug 23 15:44 2022-08-29-TT120-agile.md\n",
      "-rw-r--r--  1 SreejaGangapuram  staff   4498 Aug 23 15:44 2022-08-29-TT120-html_fragments.md\n",
      "-rw-r--r--  1 SreejaGangapuram  staff   9037 Aug 23 15:44 2022-09-05-TP130-create_performance_task.md\n",
      "-rw-r--r--  1 SreejaGangapuram  staff   7753 Aug 23 15:44 2022-09-05-TP131-create-task-bria.md\n",
      "-rw-r--r--  1 SreejaGangapuram  staff   8066 Aug 23 15:44 2022-09-05-TR130-creative_development.md\n",
      "-rw-r--r--  1 SreejaGangapuram  staff   3520 Aug 23 15:44 2022-09-05-TT130-applab.md\n",
      "-rw-r--r--  1 SreejaGangapuram  staff    720 Aug 23 15:44 README.md\n"
     ]
    }
   ],
   "source": [
    "# You must run cells above to define variable and project\n",
    "\n",
    "echo \"Look for posts\"\n",
    "export posts=$project/_posts  # _posts inside project\n",
    "cd $posts  # this should exist per fastpages\n",
    "pwd  # present working directory\n",
    "ls -l  # list posts"
   ]
  },
  {
   "cell_type": "code",
   "execution_count": 13,
   "metadata": {
    "vscode": {
     "languageId": "shellscript"
    }
   },
   "outputs": [
    {
     "name": "stdout",
     "output_type": "stream",
     "text": [
      "Look for notebooks\n",
      "/Users/SreejaGangapuram_1/vscode/APCSP/_notebooks\n",
      "total 296\n",
      "-rw-r--r--  1 SreejaGangapuram  staff  14243 Aug 23 15:44 2022-06-01-TT150-webapi_tutorial.ipynb\n",
      "-rw-r--r--  1 SreejaGangapuram  staff   8549 Aug 23 22:54 2022-07-21-PBL-neo4j_intro.ipynb\n",
      "-rw-r--r--  1 SreejaGangapuram  staff  11715 Aug 23 22:54 2022-08-22-TP110-python_hello.ipynb\n",
      "-rw-r--r--  1 SreejaGangapuram  staff  19987 Aug 23 22:54 2022-08-22-TT110-anthony_and_sahil.ipynb\n",
      "-rw-r--r--  1 SreejaGangapuram  staff    493 Aug 25 14:58 2022-08-22-TT110-bash_tutorial-jvsc-629282c5-4b66-44fa-8581-ef406f236cf0608e85fb-a262-4335-bf29-6fe570c5de78.ipynb\n",
      "-rw-r--r--  1 SreejaGangapuram  staff    493 Aug 25 15:27 2022-08-22-TT110-bash_tutorial-jvsc-80aee9ac-6f08-40ef-b50c-f8e342c478810cd6b467-42f3-4b44-939d-5cd2f8e97d81.ipynb\n",
      "-rw-r--r--  1 SreejaGangapuram  staff   9549 Aug 25 15:27 2022-08-22-TT110-bash_tutorial.ipynb\n",
      "-rw-r--r--  1 SreejaGangapuram  staff  35721 Aug 25 14:43 2022-08-25-tool_check.ipynb\n",
      "-rw-r--r--  1 SreejaGangapuram  staff  10160 Aug 23 22:54 2022-08-29-TP120-python_lists.ipynb\n",
      "-rw-r--r--  1 SreejaGangapuram  staff  12632 Aug 23 15:44 2022-09-05-TT130-js_tutorial.ipynb\n",
      "-rw-r--r--  1 SreejaGangapuram  staff    771 Aug 23 15:44 README.md\n",
      "drwxr-xr-x  3 SreejaGangapuram  staff     96 Aug 23 15:44 images\n"
     ]
    }
   ],
   "source": [
    "# You must run cells above to define variable and project\n",
    "\n",
    "echo \"Look for notebooks\"\n",
    "export notebooks=$project/_notebooks  # _notebooks is inside project\n",
    "cd $notebooks   # this should exist per fastpages\n",
    "pwd  # present working directory\n",
    "ls -l  # list notebooks"
   ]
  },
  {
   "cell_type": "code",
   "execution_count": 14,
   "metadata": {
    "vscode": {
     "languageId": "shellscript"
    }
   },
   "outputs": [
    {
     "name": "stdout",
     "output_type": "stream",
     "text": [
      "Look for images in notebooks, print working directory, list files\n",
      "/Users/SreejaGangapuram_1/vscode/APCSP/_notebooks/images\n",
      "total 200\n",
      "-rw-r--r--  1 SreejaGangapuram  staff  101617 Aug 23 15:44 kernels.png\n"
     ]
    }
   ],
   "source": [
    "# You must run cells above to define notebooks location\n",
    "\n",
    "echo \"Look for images in notebooks, print working directory, list files\"\n",
    "cd $notebooks/images  # this should exist per fastpages\n",
    "pwd\n",
    "ls -l"
   ]
  },
  {
   "cell_type": "markdown",
   "metadata": {},
   "source": [
    "### Look inside a Markdown File\n",
    "> \"cat\" reads data from the file and gives its content as output"
   ]
  },
  {
   "cell_type": "code",
   "execution_count": 15,
   "metadata": {
    "vscode": {
     "languageId": "shellscript"
    }
   },
   "outputs": [
    {
     "name": "stdout",
     "output_type": "stream",
     "text": [
      "Navigate to project, then navigate to area wwhere files were cloned\n",
      "show the contents of README.md\n",
      "\n",
      "[//]: # (This template replaces README.md when someone creates a new repo with the fastpages template.)\n",
      "\n",
      "![](https://github.com/nighthawkcoders/APCSP/workflows/CI/badge.svg) \n",
      "![](https://github.com/nighthawkcoders/APCSP/workflows/GH-Pages%20Status/badge.svg) \n",
      "[![](https://img.shields.io/static/v1?label=fastai&message=fastpages&color=57aeac&labelColor=black&style=flat&logo=data:image/png;base64,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)](https://github.com/fastai/fastpages)\n",
      "\n",
      "https://nighthawkcoders.github.io/APCSP/\n",
      "\n",
      "# My Blog\n",
      "\n",
      "\n",
      "_powered by [fastpages](https://github.com/fastai/fastpages)_\n",
      "\n",
      "\n",
      "## What To Do Next?\n",
      "\n",
      "Great!  You have setup your repo.  Now its time to start writing content.  Some helpful links:\n",
      "\n",
      "- [Writing Blogs With Jupyter](https://github.com/fastai/fastpages#writing-blog-posts-with-jupyter)\n",
      "\n",
      "- [Writing Blogs With Markdown](https://github.com/fastai/fastpages#writing-blog-posts-with-markdown)\n",
      "\n",
      "- [Writing Blog Posts With Word](https://github.com/fastai/fastpages#writing-blog-posts-with-microsoft-word)\n",
      "\n",
      "- [(Optional) Preview Your Blog Locally](_fastpages_docs/DEVELOPMENT.md)\n",
      "\n",
      "Note: you may want to remove example blog posts from the `_posts`,  `_notebooks` or `_word` folders (but leave them empty, don't delete these folders) if you don't want these blog posts to appear on your site.\n",
      "\n",
      "Please use the [nbdev & blogging channel](https://forums.fast.ai/c/fastai-users/nbdev/48) in the fastai forums for any questions or feature requests.\n",
      "\n",
      "end of README.md\n"
     ]
    }
   ],
   "source": [
    "# You must run cells above to define project\n",
    "echo \"Navigate to project, then navigate to area wwhere files were cloned\"\n",
    "\n",
    "cd $project\n",
    "echo \"show the contents of README.md\"\n",
    "echo \"\"\n",
    "\n",
    "cat README.md  # show contents of file, in this case markdown\n",
    "echo \"\"\n",
    "echo \"end of README.md\""
   ]
  },
  {
   "cell_type": "markdown",
   "metadata": {},
   "source": [
    "### Env, Git and GitHub\n",
    "> Env(ironment) is used to capture things like path to Code or Home directory.  Git and GitHub is NOT Only used to exchange code between individuals, it is often used to exchange code through servers, in our case deployment for Website.   All tools we use have a behind the scenes hav relationship with the system they run on (MacOS, Windows, Linus) or a relationship with servers which they are connected to (ie GitHub).  There is an \"env\" command in bash.  There are environment files and setting files (.git/config) for Git.  They both use a key/value concept.\n",
    "\n",
    "- \"env\" show setting for your shell\n",
    "- \"git clone\" sets up a director of files\n",
    "- \"cd $project\" allows user to move inside that directory of files\n",
    "- \".git\" is a hidden directory that is used by git to establish relationship between machine and the git server on GitHub.  "
   ]
  },
  {
   "cell_type": "code",
   "execution_count": 16,
   "metadata": {
    "vscode": {
     "languageId": "shellscript"
    }
   },
   "outputs": [
    {
     "name": "stdout",
     "output_type": "stream",
     "text": [
      "Show the shell environment variables, key on left of equal value on right\n",
      "\n",
      "SHELL=/bin/bash\n",
      "TMPDIR=/var/folders/km/n5ppx4td6hjd15nnm93qw4p40000gn/T/\n",
      "CONDA_SHLVL=1\n",
      "PYTHONUNBUFFERED=1\n",
      "CONDA_PROMPT_MODIFIER=(base) \n",
      "OLDPWD=/Users/SreejaGangapuram_1/vscode/APCSP/_notebooks/images\n",
      "MallocNanoZone=0\n",
      "ORIGINAL_XDG_CURRENT_DESKTOP=undefined\n",
      "PYDEVD_USE_FRAME_EVAL=NO\n",
      "USER=SreejaGangapuram\n",
      "PYTHONIOENCODING=utf-8\n",
      "COMMAND_MODE=unix2003\n",
      "CONDA_EXE=/Users/SreejaGangapuram_1/opt/anaconda3/bin/conda\n",
      "SSH_AUTH_SOCK=/private/tmp/com.apple.launchd.xwOF2pSBLb/Listeners\n",
      "__CF_USER_TEXT_ENCODING=0x1F5:0x0:0x0\n",
      "JPY_PARENT_PID=60235\n",
      "PAGER=cat\n",
      "ELECTRON_RUN_AS_NODE=1\n",
      "VSCODE_AMD_ENTRYPOINT=vs/workbench/api/node/extensionHostProcess\n",
      "JUPYTER_PATH=/Users/SreejaGangapuram_1/.vscode/extensions/ms-toolsai.jupyter-2022.7.1102252217/temp/jupyter\n",
      "_CE_CONDA=\n",
      "PATH=/Users/SreejaGangapuram_1/opt/anaconda3/bin:/Users/SreejaGangapuram_1/opt/anaconda3/condabin:/Library/Frameworks/Python.framework/Versions/2.7/bin:/Library/Frameworks/Python.framework/Versions/2.7/bin:/usr/local/bin:/usr/bin:/bin:/usr/sbin:/sbin\n",
      "__CFBundleIdentifier=com.microsoft.VSCode\n",
      "CONDA_PREFIX=/Users/SreejaGangapuram_1/opt/anaconda3\n",
      "PWD=/Users/SreejaGangapuram_1/vscode/APCSP\n",
      "notebooks=/Users/SreejaGangapuram_1/vscode/APCSP/_notebooks\n",
      "VSCODE_HANDLES_UNCAUGHT_ERRORS=true\n",
      "project_repo=https://github.com/nighthawkcoders/APCSP.git\n",
      "project=/Users/SreejaGangapuram_1/vscode/APCSP\n",
      "project_dir=/Users/SreejaGangapuram_1/vscode\n",
      "XPC_FLAGS=0x0\n",
      "PS1=[PEXP\\[\\]ECT_PROMPT>\n",
      "XPC_SERVICE_NAME=0\n",
      "_CE_M=\n",
      "HOME=/Users/SreejaGangapuram_1\n",
      "SHLVL=3\n",
      "APPLICATION_INSIGHTS_NO_DIAGNOSTIC_CHANNEL=1\n",
      "VSCODE_NLS_CONFIG={\"locale\":\"en-us\",\"availableLanguages\":{},\"_languagePackSupport\":true}\n",
      "PYTHONPATH=/Users/SreejaGangapuram_1/.vscode/extensions/ms-toolsai.jupyter-2022.7.1102252217/pythonFiles:/Users/SreejaGangapuram_1/.vscode/extensions/ms-toolsai.jupyter-2022.7.1102252217/pythonFiles/lib/python\n",
      "LOGNAME=SreejaGangapuram\n",
      "CONDA_PYTHON_EXE=/Users/SreejaGangapuram_1/opt/anaconda3/bin/python\n",
      "LC_CTYPE=UTF-8\n",
      "VSCODE_CODE_CACHE_PATH=/Users/SreejaGangapuram_1/Library/Application Support/Code/CachedData/e4503b30fc78200f846c62cf8091b76ff5547662\n",
      "VSCODE_IPC_HOOK=/Users/SreejaGangapuram_1/Library/Application Support/Code/1.70.2-main.sock\n",
      "CONDA_DEFAULT_ENV=base\n",
      "VSCODE_PID=4705\n",
      "posts=/Users/SreejaGangapuram_1/vscode/APCSP/_posts\n",
      "VSCODE_CWD=/\n",
      "_=/usr/bin/env\n"
     ]
    }
   ],
   "source": [
    "# This command has no dependencies\n",
    "\n",
    "echo \"Show the shell environment variables, key on left of equal value on right\"\n",
    "echo \"\"\n",
    "\n",
    "env"
   ]
  },
  {
   "cell_type": "code",
   "execution_count": 17,
   "metadata": {
    "vscode": {
     "languageId": "shellscript"
    }
   },
   "outputs": [
    {
     "name": "stdout",
     "output_type": "stream",
     "text": [
      "\n",
      "show the secrets of .git\n",
      "total 88\n",
      "-rw-r--r--   1 SreejaGangapuram  staff    102 Aug 25 14:59 FETCH_HEAD\n",
      "-rw-r--r--   1 SreejaGangapuram  staff      0 Aug 25 22:40 Go\n",
      "-rw-r--r--   1 SreejaGangapuram  staff     23 Aug 23 15:44 HEAD\n",
      "-rw-r--r--   1 SreejaGangapuram  staff     41 Aug 25 14:43 ORIG_HEAD\n",
      "-rw-r--r--   1 SreejaGangapuram  staff    314 Aug 23 15:44 config\n",
      "-rw-r--r--   1 SreejaGangapuram  staff     73 Aug 23 15:44 description\n",
      "drwxr-xr-x  15 SreejaGangapuram  staff    480 Aug 23 15:44 hooks\n",
      "-rw-r--r--   1 SreejaGangapuram  staff  20021 Aug 25 14:43 index\n",
      "drwxr-xr-x   3 SreejaGangapuram  staff     96 Aug 23 15:44 info\n",
      "drwxr-xr-x   4 SreejaGangapuram  staff    128 Aug 23 15:44 logs\n",
      "drwxr-xr-x  12 SreejaGangapuram  staff    384 Aug 25 14:59 objects\n",
      "-rw-r--r--   1 SreejaGangapuram  staff    271 Aug 23 15:44 packed-refs\n",
      "drwxr-xr-x   5 SreejaGangapuram  staff    160 Aug 23 15:44 refs\n",
      "\n",
      "look at config file\n",
      "[core]\n",
      "\trepositoryformatversion = 0\n",
      "\tfilemode = true\n",
      "\tbare = false\n",
      "\tlogallrefupdates = true\n",
      "\tignorecase = true\n",
      "\tprecomposeunicode = true\n",
      "[remote \"origin\"]\n",
      "\turl = https://github.com/nighthawkcoders/APCSP.git\n",
      "\tfetch = +refs/heads/*:refs/remotes/origin/*\n",
      "[branch \"master\"]\n",
      "\tremote = origin\n",
      "\tmerge = refs/heads/master\n"
     ]
    }
   ],
   "source": [
    "# This command has dependencies on project\n",
    "\n",
    "cd $project\n",
    "\n",
    "echo \"\"\n",
    "echo \"show the secrets of .git\"\n",
    "cd .git\n",
    "ls -l\n",
    "\n",
    "echo \"\"\n",
    "echo \"look at config file\"\n",
    "cat config"
   ]
  },
  {
   "cell_type": "markdown",
   "metadata": {},
   "source": [
    "## Hacks\n",
    "> Go back to some of the deployment procedures and think about some thing you could verify through Bash notebook.\n",
    "\n",
    "- Is there anything we use to verify tools we install? Think about versions.\n",
    "- Is there anything we could verify with Anaconda?\n",
    "- How would you update a repository?\n",
    "- Really cool would be automating a procedure from installation."
   ]
  }
 ],
 "metadata": {
  "kernelspec": {
   "display_name": "Bash",
   "language": "bash",
   "name": "bash"
  },
  "language_info": {
   "codemirror_mode": "shell",
   "file_extension": ".sh",
   "mimetype": "text/x-sh",
   "name": "bash",
   "version": "3.10.6"
  },
  "orig_nbformat": 4,
  "vscode": {
   "interpreter": {
    "hash": "aee8b7b246df8f9039afb4144a1f6fd8d2ca17a180786b69acc140d282b71a49"
   }
  }
 },
 "nbformat": 4,
 "nbformat_minor": 2
}
